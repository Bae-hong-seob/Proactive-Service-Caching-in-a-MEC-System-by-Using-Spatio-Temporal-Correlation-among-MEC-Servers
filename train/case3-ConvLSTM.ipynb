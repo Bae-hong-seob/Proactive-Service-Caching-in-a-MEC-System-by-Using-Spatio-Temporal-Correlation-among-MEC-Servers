{
 "cells": [
  {
   "cell_type": "code",
   "execution_count": 1,
   "metadata": {
    "executionInfo": {
     "elapsed": 3517,
     "status": "ok",
     "timestamp": 1689660962329,
     "user": {
      "displayName": "배홍섭",
      "userId": "04508707267981176802"
     },
     "user_tz": -540
    },
    "id": "p5ULDfd_6M1I"
   },
   "outputs": [],
   "source": [
    "import numpy as np\n",
    "import matplotlib.pyplot as plt\n",
    "\n",
    "import tensorflow as tf\n",
    "from tensorflow import keras\n",
    "from tensorflow.keras import layers\n",
    "\n",
    "import io\n",
    "import imageio\n",
    "from IPython.display import Image, display\n",
    "from ipywidgets import widgets, Layout, HBox"
   ]
  },
  {
   "cell_type": "code",
   "execution_count": 2,
   "metadata": {},
   "outputs": [
    {
     "name": "stdout",
     "output_type": "stream",
     "text": [
      "(1300, 9, 64)\n",
      "['train0.png', 'train1.png', 'train2.png', 'train3.png', 'train4.png']\n"
     ]
    }
   ],
   "source": [
    "import os\n",
    "import numpy as np\n",
    "import natsort\n",
    "from PIL import Image\n",
    "\n",
    "file_path = './heatmap_case3_0.2'\n",
    "file_list = os.listdir(file_path)\n",
    "file_list = natsort.natsorted(file_list, key=None, reverse=False, alg=0)\n",
    "\n",
    "num_of_files = len(file_list)\n",
    "\n",
    "# Assuming all images have the same height and width\n",
    "first_image = Image.open(os.path.join(file_path, file_list[0]))\n",
    "height, width = np.array(first_image).shape\n",
    "\n",
    "# Create an empty NumPy array to store the images\n",
    "image_array = np.empty((num_of_files, height, width))\n",
    "\n",
    "# Iterate through the file list and load images\n",
    "for i, file_name in enumerate(file_list):\n",
    "    image = Image.open(os.path.join(file_path, file_name))\n",
    "    image_array[i] = np.array(image)\n",
    "\n",
    "# image_array now contains the images as NumPy arrays\n",
    "print(image_array.shape)  # (num_of_files, height, width)\n",
    "print(file_list[:5])"
   ]
  },
  {
   "cell_type": "code",
   "execution_count": 3,
   "metadata": {},
   "outputs": [
    {
     "name": "stdout",
     "output_type": "stream",
     "text": [
      "train0.png\n",
      "train1.png\n",
      "train2.png\n",
      "train3.png\n",
      "train4.png\n",
      "train5.png\n",
      "train6.png\n",
      "train7.png\n",
      "train8.png\n",
      "train9.png\n",
      "train10.png\n",
      "train11.png\n",
      "train12.png\n",
      "\n",
      "train1.png\n",
      "train2.png\n",
      "train3.png\n",
      "train4.png\n",
      "train5.png\n",
      "train6.png\n",
      "train7.png\n",
      "train8.png\n",
      "train9.png\n",
      "train10.png\n",
      "train11.png\n",
      "train12.png\n",
      "train13.png\n",
      "\n",
      "(1288, 13, 9, 64)\n"
     ]
    }
   ],
   "source": [
    "import os\n",
    "import numpy as np\n",
    "from PIL import Image\n",
    "\n",
    "\n",
    "num_of_frames = 13  # Specify the desired number of frames\n",
    "\n",
    "# Assuming all images have the same height and width\n",
    "first_image = Image.open(os.path.join(file_path, file_list[0]))\n",
    "height, width = np.array(first_image).shape[:2]\n",
    "\n",
    "# Create an empty NumPy array to store the images\n",
    "dataset = np.empty((num_of_files-num_of_frames+1, num_of_frames, height, width))\n",
    "\n",
    "# Iterate through the file list and load images\n",
    "for i in range(num_of_files-num_of_frames+1):\n",
    "    frame_images = file_list[i : i+num_of_frames]\n",
    "    for j, file_name in enumerate(frame_images):\n",
    "        if i < 2:\n",
    "            print(file_name)\n",
    "        image = Image.open(os.path.join(file_path, file_name))\n",
    "        dataset[i, j] = np.array(image)\n",
    "    if i < 2:\n",
    "        print()\n",
    "\n",
    "# dataset now contains the images bound into frames\n",
    "print(dataset.shape)  # (num_of_files // num_of_frames, num_of_frames, height, width)"
   ]
  },
  {
   "cell_type": "code",
   "execution_count": 4,
   "metadata": {
    "colab": {
     "base_uri": "https://localhost:8080/"
    },
    "executionInfo": {
     "elapsed": 7,
     "status": "ok",
     "timestamp": 1689660963455,
     "user": {
      "displayName": "배홍섭",
      "userId": "04508707267981176802"
     },
     "user_tz": -540
    },
    "id": "8TrYB66sX_yI",
    "outputId": "43375bb5-2f70-412d-fbef-e914b8fc1e87"
   },
   "outputs": [
    {
     "data": {
      "text/plain": [
       "(1288, 13, 9, 64, 1)"
      ]
     },
     "execution_count": 4,
     "metadata": {},
     "output_type": "execute_result"
    }
   ],
   "source": [
    "# Add a channel dimension since the images are grayscale.\n",
    "dataset = np.expand_dims(dataset, axis=-1)\n",
    "dataset.shape #(num_of_samples, frames, height, width, channels)"
   ]
  },
  {
   "cell_type": "code",
   "execution_count": 5,
   "metadata": {
    "colab": {
     "base_uri": "https://localhost:8080/"
    },
    "executionInfo": {
     "elapsed": 444,
     "status": "ok",
     "timestamp": 1689660963896,
     "user": {
      "displayName": "배홍섭",
      "userId": "04508707267981176802"
     },
     "user_tz": -540
    },
    "id": "pSpCArjZZygf",
    "outputId": "9fc709f7-2b0d-42b0-ab07-38f911bc695f"
   },
   "outputs": [
    {
     "name": "stdout",
     "output_type": "stream",
     "text": [
      "Training Dataset Shapes: (1159, 12, 9, 64, 1), (1159, 12, 9, 64, 1)\n",
      "Validation Dataset Shapes: (129, 12, 9, 64, 1), (129, 12, 9, 64, 1)\n"
     ]
    }
   ],
   "source": [
    "# Split into train and validation sets using indexing to optimize memory.\n",
    "indexes = np.arange(dataset.shape[0])\n",
    "np.random.shuffle(indexes)\n",
    "train_index = indexes[: int(0.9 * dataset.shape[0])]\n",
    "val_index = indexes[int(0.9 * dataset.shape[0]) :]\n",
    "train_dataset = dataset[train_index]\n",
    "val_dataset = dataset[val_index]\n",
    "\n",
    "# Normalize the data to the 0-1 range.\n",
    "train_dataset = train_dataset / 255\n",
    "val_dataset = val_dataset / 255\n",
    "\n",
    "# We'll define a helper function to shift the frames, where\n",
    "# `x` is frames 0 to n - 1, and `y` is frames 1 to n.\n",
    "def create_shifted_frames(data):\n",
    "    x = data[:, 0 : data.shape[1] - 1, :, :]\n",
    "    y = data[:, 1 : data.shape[1], :, :]\n",
    "    return x, y\n",
    "\n",
    "\n",
    "# Apply the processing function to the datasets.\n",
    "x_train, y_train = create_shifted_frames(train_dataset)\n",
    "x_val, y_val = create_shifted_frames(val_dataset)\n",
    "\n",
    "# Inspect the dataset.\n",
    "print(\"Training Dataset Shapes: \" + str(x_train.shape) + \", \" + str(y_train.shape))\n",
    "print(\"Validation Dataset Shapes: \" + str(x_val.shape) + \", \" + str(y_val.shape))"
   ]
  },
  {
   "attachments": {},
   "cell_type": "markdown",
   "metadata": {
    "id": "vlVpZqMkg8Q2"
   },
   "source": [
    "# Data Visualization"
   ]
  },
  {
   "cell_type": "code",
   "execution_count": 6,
   "metadata": {
    "colab": {
     "base_uri": "https://localhost:8080/",
     "height": 573
    },
    "executionInfo": {
     "elapsed": 2764,
     "status": "ok",
     "timestamp": 1689660966657,
     "user": {
      "displayName": "배홍섭",
      "userId": "04508707267981176802"
     },
     "user_tz": -540
    },
    "id": "qeVE3PYegFBb",
    "outputId": "e99389b7-d712-4e25-9bf7-4520e13248e0"
   },
   "outputs": [
    {
     "name": "stdout",
     "output_type": "stream",
     "text": [
      "Displaying frames for example 1126.\n"
     ]
    },
    {
     "data": {
      "image/png": "[encoded data removed]",
      "text/plain": [
       "<Figure size 1000x800 with 12 Axes>"
      ]
     },
     "metadata": {},
     "output_type": "display_data"
    }
   ],
   "source": [
    "# Construct a figure on which we will visualize the images.\n",
    "fig, axes = plt.subplots(2, 6, figsize=(10, 8))\n",
    "\n",
    "# Plot each of the sequential images for one random data example.\n",
    "np.random.seed(42)\n",
    "data_choice = np.random.choice(range(len(train_dataset)), size=1)[0]\n",
    "for idx, ax in enumerate(axes.flat):\n",
    "    ax.imshow(np.squeeze(train_dataset[data_choice][idx]), cmap=\"gray\")\n",
    "    ax.set_title(f\"Frame {idx + 1}\")\n",
    "    ax.axis(\"off\")\n",
    "\n",
    "# Print information and display the figure.\n",
    "print(f\"Displaying frames for example {data_choice}.\")\n",
    "plt.show()"
   ]
  },
  {
   "attachments": {},
   "cell_type": "markdown",
   "metadata": {
    "id": "WGcVo1f5hGfe"
   },
   "source": [
    "# Model Construction\n",
    "\n",
    "To build a Convolutional LSTM model, we will use the\n",
    "`ConvLSTM2D` layer, which will accept inputs of shape\n",
    "`(batch_size, num_frames, width, height, channels)`, and return\n",
    "a prediction movie of the same shape."
   ]
  },
  {
   "cell_type": "code",
   "execution_count": 7,
   "metadata": {
    "executionInfo": {
     "elapsed": 6343,
     "status": "ok",
     "timestamp": 1689660972994,
     "user": {
      "displayName": "배홍섭",
      "userId": "04508707267981176802"
     },
     "user_tz": -540
    },
    "id": "5QU3cKoYg1Bn"
   },
   "outputs": [],
   "source": [
    "# Construct the input layer with no definite frame size.\n",
    "inp = layers.Input(shape=(None, *x_train.shape[2:]))\n",
    "\n",
    "# We will construct 3 `ConvLSTM2D` layers with batch normalization,\n",
    "# followed by a `Conv3D` layer for the spatiotemporal outputs.\n",
    "x = layers.ConvLSTM2D(\n",
    "    filters=64,\n",
    "    kernel_size=(5, 5),\n",
    "    padding=\"same\",\n",
    "    return_sequences=True,\n",
    "    activation=\"relu\",\n",
    ")(inp)\n",
    "x = layers.BatchNormalization()(x)\n",
    "x = layers.ConvLSTM2D(\n",
    "    filters=64,\n",
    "    kernel_size=(3, 3),\n",
    "    padding=\"same\",\n",
    "    return_sequences=True,\n",
    "    activation=\"relu\",\n",
    ")(x)\n",
    "x = layers.BatchNormalization()(x)\n",
    "x = layers.ConvLSTM2D(\n",
    "    filters=64,\n",
    "    kernel_size=(1, 1),\n",
    "    padding=\"same\",\n",
    "    return_sequences=True,\n",
    "    activation=\"relu\",\n",
    ")(x)\n",
    "x = layers.Conv3D(\n",
    "    filters=1, kernel_size=(3, 3, 3), activation=\"sigmoid\", padding=\"same\"\n",
    ")(x)\n",
    "\n",
    "# Next, we will build the complete model and compile it.\n",
    "convlstm = keras.models.Model(inp, x)\n",
    "convlstm.compile(\n",
    "    loss=tf.keras.losses.MeanSquaredError(), optimizer=keras.optimizers.Adam(),\n",
    ")"
   ]
  },
  {
   "attachments": {},
   "cell_type": "markdown",
   "metadata": {
    "id": "wOI-t-d_hOow"
   },
   "source": [
    "# Model Training\n",
    "\n",
    "With our model and data constructed, we can now train the model."
   ]
  },
  {
   "cell_type": "code",
   "execution_count": 8,
   "metadata": {
    "colab": {
     "base_uri": "https://localhost:8080/"
    },
    "executionInfo": {
     "elapsed": 150504,
     "status": "ok",
     "timestamp": 1689661191201,
     "user": {
      "displayName": "배홍섭",
      "userId": "04508707267981176802"
     },
     "user_tz": -540
    },
    "id": "SBIDOqoPhBLL",
    "outputId": "e3477c0d-5c8e-4b86-a2b9-c31eea5876e9"
   },
   "outputs": [],
   "source": [
    "# Define some callbacks to improve training.\n",
    "early_stopping = keras.callbacks.EarlyStopping(monitor=\"val_loss\", patience=10)\n",
    "reduce_lr = keras.callbacks.ReduceLROnPlateau(monitor=\"val_loss\", patience=5)\n",
    "\n",
    "# Define modifiable training hyperparameters.\n",
    "epochs = 20\n",
    "batch_size = 5"
   ]
  },
  {
   "cell_type": "code",
   "execution_count": 9,
   "metadata": {
    "colab": {
     "base_uri": "https://localhost:8080/"
    },
    "executionInfo": {
     "elapsed": 88635,
     "status": "ok",
     "timestamp": 1689574462282,
     "user": {
      "displayName": "배홍섭",
      "userId": "04508707267981176802"
     },
     "user_tz": -540
    },
    "id": "CBvhWVgr9NqL",
    "outputId": "7e65bd2f-5ef3-4a9c-a9dc-57b810b6005e"
   },
   "outputs": [
    {
     "name": "stdout",
     "output_type": "stream",
     "text": [
      "Epoch 1/20\n",
      "232/232 [==============================] - 121s 409ms/step - loss: 0.0264 - val_loss: 0.0274\n",
      "Epoch 2/20\n",
      "232/232 [==============================] - 99s 429ms/step - loss: 0.0081 - val_loss: 0.0240\n",
      "Epoch 3/20\n",
      "232/232 [==============================] - 98s 424ms/step - loss: 0.0025 - val_loss: 0.0122\n",
      "Epoch 4/20\n",
      "232/232 [==============================] - 187s 809ms/step - loss: 0.0023 - val_loss: 0.0035\n",
      "Epoch 5/20\n",
      "232/232 [==============================] - 195s 838ms/step - loss: 0.0022 - val_loss: 0.0024\n",
      "Epoch 6/20\n",
      "232/232 [==============================] - 197s 849ms/step - loss: 0.0022 - val_loss: 0.0022\n",
      "Epoch 7/20\n",
      "232/232 [==============================] - 198s 855ms/step - loss: 0.0022 - val_loss: 0.0021\n",
      "Epoch 8/20\n",
      "232/232 [==============================] - 198s 856ms/step - loss: 0.0022 - val_loss: 0.0022\n",
      "Epoch 9/20\n",
      "232/232 [==============================] - 199s 858ms/step - loss: 0.0021 - val_loss: 0.0021\n",
      "Epoch 10/20\n",
      "232/232 [==============================] - 198s 851ms/step - loss: 0.0021 - val_loss: 0.0020\n",
      "Epoch 11/20\n",
      "232/232 [==============================] - 198s 852ms/step - loss: 0.0021 - val_loss: 0.0020\n",
      "Epoch 12/20\n",
      "232/232 [==============================] - 199s 858ms/step - loss: 0.0021 - val_loss: 0.0021\n",
      "Epoch 13/20\n",
      "232/232 [==============================] - 198s 854ms/step - loss: 0.0020 - val_loss: 0.0020\n",
      "Epoch 14/20\n",
      "232/232 [==============================] - 197s 847ms/step - loss: 0.0020 - val_loss: 0.0020\n",
      "Epoch 15/20\n",
      "232/232 [==============================] - 195s 841ms/step - loss: 0.0020 - val_loss: 0.0020\n",
      "Epoch 16/20\n",
      "232/232 [==============================] - 196s 842ms/step - loss: 0.0020 - val_loss: 0.0019\n",
      "Epoch 17/20\n",
      "232/232 [==============================] - 196s 844ms/step - loss: 0.0020 - val_loss: 0.0019\n",
      "Epoch 18/20\n",
      "232/232 [==============================] - 200s 860ms/step - loss: 0.0020 - val_loss: 0.0019\n",
      "Epoch 19/20\n",
      "232/232 [==============================] - 200s 858ms/step - loss: 0.0019 - val_loss: 0.0019\n",
      "Epoch 20/20\n",
      "232/232 [==============================] - 203s 873ms/step - loss: 0.0019 - val_loss: 0.0019\n"
     ]
    }
   ],
   "source": [
    "# Fit the model to the training data.\n",
    "\n",
    "with tf.device(\"/gpu:2\"):\n",
    "    convlstm.fit(\n",
    "        x_train,\n",
    "        y_train,\n",
    "        batch_size=batch_size,\n",
    "        epochs=epochs,\n",
    "        validation_data=(x_val, y_val),\n",
    "        callbacks=[early_stopping, reduce_lr],\n",
    "    )"
   ]
  },
  {
   "cell_type": "code",
   "execution_count": 10,
   "metadata": {},
   "outputs": [
    {
     "name": "stdout",
     "output_type": "stream",
     "text": [
      "INFO:tensorflow:Assets written to: ./convlstm_models/convlstm_case3_0.2\\assets\n"
     ]
    }
   ],
   "source": [
    "convlstm.save('./convlstm_models/'+'convlstm_'+file_path[-9:])"
   ]
  },
  {
   "cell_type": "code",
   "execution_count": null,
   "metadata": {},
   "outputs": [],
   "source": []
  }
 ],
 "metadata": {
  "accelerator": "GPU",
  "colab": {
   "authorship_tag": "ABX9TyNWo//BnFvD7oT1ySWi6Fjn",
   "gpuType": "T4",
   "mount_file_id": "1hyMu84GWJMJQddkWcZrj2XYkiSLCU28E",
   "provenance": []
  },
  "kernelspec": {
   "display_name": "ConvLSTM-gpu",
   "language": "python",
   "name": "convlstm-gpu"
  },
  "language_info": {
   "codemirror_mode": {
    "name": "ipython",
    "version": 3
   },
   "file_extension": ".py",
   "mimetype": "text/x-python",
   "name": "python",
   "nbconvert_exporter": "python",
   "pygments_lexer": "ipython3",
   "version": "3.8.3"
  },
  "widgets": {
   "application/vnd.jupyter.widget-state+json": {
    "03901946a55c4d678703cc04017066d7": {
     "model_module": "@jupyter-widgets/controls",
     "model_module_version": "1.5.0",
     "model_name": "ImageModel",
     "state": {
      "_dom_classes": [],
      "_model_module": "@jupyter-widgets/controls",
      "_model_module_version": "1.5.0",
      "_model_name": "ImageModel",
      "_view_count": null,
      "_view_module": "@jupyter-widgets/controls",
      "_view_module_version": "1.5.0",
      "_view_name": "ImageView",
      "format": "png",
      "height": "",
      "layout": "IPY_MODEL_27190946a47e40feac7c5099a88a692b",
      "width": ""
     }
    },
    "146d9af1df904c47a5e35a88f62de207": {
     "model_module": "@jupyter-widgets/controls",
     "model_module_version": "1.5.0",
     "model_name": "ImageModel",
     "state": {
      "_dom_classes": [],
      "_model_module": "@jupyter-widgets/controls",
      "_model_module_version": "1.5.0",
      "_model_name": "ImageModel",
      "_view_count": null,
      "_view_module": "@jupyter-widgets/controls",
      "_view_module_version": "1.5.0",
      "_view_name": "ImageView",
      "format": "png",
      "height": "",
      "layout": "IPY_MODEL_62e0e78f2d674281ba9c0f9dd92bc5c3",
      "width": ""
     }
    },
    "27190946a47e40feac7c5099a88a692b": {
     "model_module": "@jupyter-widgets/base",
     "model_module_version": "1.2.0",
     "model_name": "LayoutModel",
     "state": {
      "_model_module": "@jupyter-widgets/base",
      "_model_module_version": "1.2.0",
      "_model_name": "LayoutModel",
      "_view_count": null,
      "_view_module": "@jupyter-widgets/base",
      "_view_module_version": "1.2.0",
      "_view_name": "LayoutView",
      "align_content": null,
      "align_items": null,
      "align_self": null,
      "border": null,
      "bottom": null,
      "display": null,
      "flex": null,
      "flex_flow": null,
      "grid_area": null,
      "grid_auto_columns": null,
      "grid_auto_flow": null,
      "grid_auto_rows": null,
      "grid_column": null,
      "grid_gap": null,
      "grid_row": null,
      "grid_template_areas": null,
      "grid_template_columns": null,
      "grid_template_rows": null,
      "height": null,
      "justify_content": null,
      "justify_items": null,
      "left": null,
      "margin": null,
      "max_height": null,
      "max_width": null,
      "min_height": null,
      "min_width": null,
      "object_fit": null,
      "object_position": null,
      "order": null,
      "overflow": null,
      "overflow_x": null,
      "overflow_y": null,
      "padding": null,
      "right": null,
      "top": null,
      "visibility": null,
      "width": null
     }
    },
    "44629cbf779849ffbb9215b77cde9d27": {
     "model_module": "@jupyter-widgets/base",
     "model_module_version": "1.2.0",
     "model_name": "LayoutModel",
     "state": {
      "_model_module": "@jupyter-widgets/base",
      "_model_module_version": "1.2.0",
      "_model_name": "LayoutModel",
      "_view_count": null,
      "_view_module": "@jupyter-widgets/base",
      "_view_module_version": "1.2.0",
      "_view_name": "LayoutView",
      "align_content": null,
      "align_items": null,
      "align_self": null,
      "border": null,
      "bottom": null,
      "display": null,
      "flex": null,
      "flex_flow": null,
      "grid_area": null,
      "grid_auto_columns": null,
      "grid_auto_flow": null,
      "grid_auto_rows": null,
      "grid_column": null,
      "grid_gap": null,
      "grid_row": null,
      "grid_template_areas": null,
      "grid_template_columns": null,
      "grid_template_rows": null,
      "height": null,
      "justify_content": null,
      "justify_items": null,
      "left": null,
      "margin": null,
      "max_height": null,
      "max_width": null,
      "min_height": null,
      "min_width": null,
      "object_fit": null,
      "object_position": null,
      "order": null,
      "overflow": null,
      "overflow_x": null,
      "overflow_y": null,
      "padding": null,
      "right": null,
      "top": null,
      "visibility": null,
      "width": null
     }
    },
    "4a548af0ce3948a4beffaaa9929b7c56": {
     "model_module": "@jupyter-widgets/controls",
     "model_module_version": "1.5.0",
     "model_name": "ImageModel",
     "state": {
      "_dom_classes": [],
      "_model_module": "@jupyter-widgets/controls",
      "_model_module_version": "1.5.0",
      "_model_name": "ImageModel",
      "_view_count": null,
      "_view_module": "@jupyter-widgets/controls",
      "_view_module_version": "1.5.0",
      "_view_name": "ImageView",
      "format": "png",
      "height": "",
      "layout": "IPY_MODEL_b26fb06337f848068d7f2b593fe84558",
      "width": ""
     }
    },
    "5aac29cd6bdf4e949249933f082b7388": {
     "model_module": "@jupyter-widgets/controls",
     "model_module_version": "1.5.0",
     "model_name": "ImageModel",
     "state": {
      "_dom_classes": [],
      "_model_module": "@jupyter-widgets/controls",
      "_model_module_version": "1.5.0",
      "_model_name": "ImageModel",
      "_view_count": null,
      "_view_module": "@jupyter-widgets/controls",
      "_view_module_version": "1.5.0",
      "_view_name": "ImageView",
      "format": "png",
      "height": "",
      "layout": "IPY_MODEL_44629cbf779849ffbb9215b77cde9d27",
      "width": ""
     }
    },
    "62e0e78f2d674281ba9c0f9dd92bc5c3": {
     "model_module": "@jupyter-widgets/base",
     "model_module_version": "1.2.0",
     "model_name": "LayoutModel",
     "state": {
      "_model_module": "@jupyter-widgets/base",
      "_model_module_version": "1.2.0",
      "_model_name": "LayoutModel",
      "_view_count": null,
      "_view_module": "@jupyter-widgets/base",
      "_view_module_version": "1.2.0",
      "_view_name": "LayoutView",
      "align_content": null,
      "align_items": null,
      "align_self": null,
      "border": null,
      "bottom": null,
      "display": null,
      "flex": null,
      "flex_flow": null,
      "grid_area": null,
      "grid_auto_columns": null,
      "grid_auto_flow": null,
      "grid_auto_rows": null,
      "grid_column": null,
      "grid_gap": null,
      "grid_row": null,
      "grid_template_areas": null,
      "grid_template_columns": null,
      "grid_template_rows": null,
      "height": null,
      "justify_content": null,
      "justify_items": null,
      "left": null,
      "margin": null,
      "max_height": null,
      "max_width": null,
      "min_height": null,
      "min_width": null,
      "object_fit": null,
      "object_position": null,
      "order": null,
      "overflow": null,
      "overflow_x": null,
      "overflow_y": null,
      "padding": null,
      "right": null,
      "top": null,
      "visibility": null,
      "width": null
     }
    },
    "65b48b6928474286a01f1ff8b3f9ee2c": {
     "model_module": "@jupyter-widgets/controls",
     "model_module_version": "1.5.0",
     "model_name": "HBoxModel",
     "state": {
      "_dom_classes": [],
      "_model_module": "@jupyter-widgets/controls",
      "_model_module_version": "1.5.0",
      "_model_name": "HBoxModel",
      "_view_count": null,
      "_view_module": "@jupyter-widgets/controls",
      "_view_module_version": "1.5.0",
      "_view_name": "HBoxView",
      "box_style": "",
      "children": [
       "IPY_MODEL_5aac29cd6bdf4e949249933f082b7388",
       "IPY_MODEL_146d9af1df904c47a5e35a88f62de207",
       "IPY_MODEL_bc565dd9ef64424c8aa90e92b739fb94",
       "IPY_MODEL_4a548af0ce3948a4beffaaa9929b7c56"
      ],
      "layout": "IPY_MODEL_f39e5be233044612a6b933e60c7d30be"
     }
    },
    "86d9ae57d2054df7a7f2f2f2fd9cc353": {
     "model_module": "@jupyter-widgets/controls",
     "model_module_version": "1.5.0",
     "model_name": "ImageModel",
     "state": {
      "_dom_classes": [],
      "_model_module": "@jupyter-widgets/controls",
      "_model_module_version": "1.5.0",
      "_model_name": "ImageModel",
      "_view_count": null,
      "_view_module": "@jupyter-widgets/controls",
      "_view_module_version": "1.5.0",
      "_view_name": "ImageView",
      "format": "png",
      "height": "",
      "layout": "IPY_MODEL_92ded6647ed14cd798ac8aeaf25d89d0",
      "width": ""
     }
    },
    "8f5e865f1a4a4773a3899f19b1f20aef": {
     "model_module": "@jupyter-widgets/base",
     "model_module_version": "1.2.0",
     "model_name": "LayoutModel",
     "state": {
      "_model_module": "@jupyter-widgets/base",
      "_model_module_version": "1.2.0",
      "_model_name": "LayoutModel",
      "_view_count": null,
      "_view_module": "@jupyter-widgets/base",
      "_view_module_version": "1.2.0",
      "_view_name": "LayoutView",
      "align_content": null,
      "align_items": null,
      "align_self": null,
      "border": null,
      "bottom": null,
      "display": null,
      "flex": null,
      "flex_flow": null,
      "grid_area": null,
      "grid_auto_columns": null,
      "grid_auto_flow": null,
      "grid_auto_rows": null,
      "grid_column": null,
      "grid_gap": null,
      "grid_row": null,
      "grid_template_areas": null,
      "grid_template_columns": null,
      "grid_template_rows": null,
      "height": null,
      "justify_content": null,
      "justify_items": null,
      "left": null,
      "margin": null,
      "max_height": null,
      "max_width": null,
      "min_height": null,
      "min_width": null,
      "object_fit": null,
      "object_position": null,
      "order": null,
      "overflow": null,
      "overflow_x": null,
      "overflow_y": null,
      "padding": null,
      "right": null,
      "top": null,
      "visibility": null,
      "width": null
     }
    },
    "92ded6647ed14cd798ac8aeaf25d89d0": {
     "model_module": "@jupyter-widgets/base",
     "model_module_version": "1.2.0",
     "model_name": "LayoutModel",
     "state": {
      "_model_module": "@jupyter-widgets/base",
      "_model_module_version": "1.2.0",
      "_model_name": "LayoutModel",
      "_view_count": null,
      "_view_module": "@jupyter-widgets/base",
      "_view_module_version": "1.2.0",
      "_view_name": "LayoutView",
      "align_content": null,
      "align_items": null,
      "align_self": null,
      "border": null,
      "bottom": null,
      "display": null,
      "flex": null,
      "flex_flow": null,
      "grid_area": null,
      "grid_auto_columns": null,
      "grid_auto_flow": null,
      "grid_auto_rows": null,
      "grid_column": null,
      "grid_gap": null,
      "grid_row": null,
      "grid_template_areas": null,
      "grid_template_columns": null,
      "grid_template_rows": null,
      "height": null,
      "justify_content": null,
      "justify_items": null,
      "left": null,
      "margin": null,
      "max_height": null,
      "max_width": null,
      "min_height": null,
      "min_width": null,
      "object_fit": null,
      "object_position": null,
      "order": null,
      "overflow": null,
      "overflow_x": null,
      "overflow_y": null,
      "padding": null,
      "right": null,
      "top": null,
      "visibility": null,
      "width": null
     }
    },
    "b1497782585840c089d02636cf251489": {
     "model_module": "@jupyter-widgets/controls",
     "model_module_version": "1.5.0",
     "model_name": "HBoxModel",
     "state": {
      "_dom_classes": [],
      "_model_module": "@jupyter-widgets/controls",
      "_model_module_version": "1.5.0",
      "_model_name": "HBoxModel",
      "_view_count": null,
      "_view_module": "@jupyter-widgets/controls",
      "_view_module_version": "1.5.0",
      "_view_name": "HBoxView",
      "box_style": "",
      "children": [
       "IPY_MODEL_03901946a55c4d678703cc04017066d7",
       "IPY_MODEL_86d9ae57d2054df7a7f2f2f2fd9cc353",
       "IPY_MODEL_fa96993ef7d84300924b240dbfc2efe4",
       "IPY_MODEL_c89fe72b73da4dd29229f7f4393f663f"
      ],
      "layout": "IPY_MODEL_bf50682600ed4737996888245a66e495"
     }
    },
    "b26fb06337f848068d7f2b593fe84558": {
     "model_module": "@jupyter-widgets/base",
     "model_module_version": "1.2.0",
     "model_name": "LayoutModel",
     "state": {
      "_model_module": "@jupyter-widgets/base",
      "_model_module_version": "1.2.0",
      "_model_name": "LayoutModel",
      "_view_count": null,
      "_view_module": "@jupyter-widgets/base",
      "_view_module_version": "1.2.0",
      "_view_name": "LayoutView",
      "align_content": null,
      "align_items": null,
      "align_self": null,
      "border": null,
      "bottom": null,
      "display": null,
      "flex": null,
      "flex_flow": null,
      "grid_area": null,
      "grid_auto_columns": null,
      "grid_auto_flow": null,
      "grid_auto_rows": null,
      "grid_column": null,
      "grid_gap": null,
      "grid_row": null,
      "grid_template_areas": null,
      "grid_template_columns": null,
      "grid_template_rows": null,
      "height": null,
      "justify_content": null,
      "justify_items": null,
      "left": null,
      "margin": null,
      "max_height": null,
      "max_width": null,
      "min_height": null,
      "min_width": null,
      "object_fit": null,
      "object_position": null,
      "order": null,
      "overflow": null,
      "overflow_x": null,
      "overflow_y": null,
      "padding": null,
      "right": null,
      "top": null,
      "visibility": null,
      "width": null
     }
    },
    "b8fc3917b7094f078eeaad8109f6b67f": {
     "model_module": "@jupyter-widgets/base",
     "model_module_version": "1.2.0",
     "model_name": "LayoutModel",
     "state": {
      "_model_module": "@jupyter-widgets/base",
      "_model_module_version": "1.2.0",
      "_model_name": "LayoutModel",
      "_view_count": null,
      "_view_module": "@jupyter-widgets/base",
      "_view_module_version": "1.2.0",
      "_view_name": "LayoutView",
      "align_content": null,
      "align_items": null,
      "align_self": null,
      "border": null,
      "bottom": null,
      "display": null,
      "flex": null,
      "flex_flow": null,
      "grid_area": null,
      "grid_auto_columns": null,
      "grid_auto_flow": null,
      "grid_auto_rows": null,
      "grid_column": null,
      "grid_gap": null,
      "grid_row": null,
      "grid_template_areas": null,
      "grid_template_columns": null,
      "grid_template_rows": null,
      "height": null,
      "justify_content": null,
      "justify_items": null,
      "left": null,
      "margin": null,
      "max_height": null,
      "max_width": null,
      "min_height": null,
      "min_width": null,
      "object_fit": null,
      "object_position": null,
      "order": null,
      "overflow": null,
      "overflow_x": null,
      "overflow_y": null,
      "padding": null,
      "right": null,
      "top": null,
      "visibility": null,
      "width": null
     }
    },
    "bc565dd9ef64424c8aa90e92b739fb94": {
     "model_module": "@jupyter-widgets/controls",
     "model_module_version": "1.5.0",
     "model_name": "ImageModel",
     "state": {
      "_dom_classes": [],
      "_model_module": "@jupyter-widgets/controls",
      "_model_module_version": "1.5.0",
      "_model_name": "ImageModel",
      "_view_count": null,
      "_view_module": "@jupyter-widgets/controls",
      "_view_module_version": "1.5.0",
      "_view_name": "ImageView",
      "format": "png",
      "height": "",
      "layout": "IPY_MODEL_f59f8802e7cc4f5e8c25bae8a8e49a9c",
      "width": ""
     }
    },
    "bf50682600ed4737996888245a66e495": {
     "model_module": "@jupyter-widgets/base",
     "model_module_version": "1.2.0",
     "model_name": "LayoutModel",
     "state": {
      "_model_module": "@jupyter-widgets/base",
      "_model_module_version": "1.2.0",
      "_model_name": "LayoutModel",
      "_view_count": null,
      "_view_module": "@jupyter-widgets/base",
      "_view_module_version": "1.2.0",
      "_view_name": "LayoutView",
      "align_content": null,
      "align_items": null,
      "align_self": null,
      "border": null,
      "bottom": null,
      "display": null,
      "flex": null,
      "flex_flow": null,
      "grid_area": null,
      "grid_auto_columns": null,
      "grid_auto_flow": null,
      "grid_auto_rows": null,
      "grid_column": null,
      "grid_gap": null,
      "grid_row": null,
      "grid_template_areas": null,
      "grid_template_columns": null,
      "grid_template_rows": null,
      "height": null,
      "justify_content": null,
      "justify_items": null,
      "left": null,
      "margin": null,
      "max_height": null,
      "max_width": null,
      "min_height": null,
      "min_width": null,
      "object_fit": null,
      "object_position": null,
      "order": null,
      "overflow": null,
      "overflow_x": null,
      "overflow_y": null,
      "padding": null,
      "right": null,
      "top": null,
      "visibility": null,
      "width": null
     }
    },
    "c89fe72b73da4dd29229f7f4393f663f": {
     "model_module": "@jupyter-widgets/controls",
     "model_module_version": "1.5.0",
     "model_name": "ImageModel",
     "state": {
      "_dom_classes": [],
      "_model_module": "@jupyter-widgets/controls",
      "_model_module_version": "1.5.0",
      "_model_name": "ImageModel",
      "_view_count": null,
      "_view_module": "@jupyter-widgets/controls",
      "_view_module_version": "1.5.0",
      "_view_name": "ImageView",
      "format": "png",
      "height": "",
      "layout": "IPY_MODEL_b8fc3917b7094f078eeaad8109f6b67f",
      "width": ""
     }
    },
    "f39e5be233044612a6b933e60c7d30be": {
     "model_module": "@jupyter-widgets/base",
     "model_module_version": "1.2.0",
     "model_name": "LayoutModel",
     "state": {
      "_model_module": "@jupyter-widgets/base",
      "_model_module_version": "1.2.0",
      "_model_name": "LayoutModel",
      "_view_count": null,
      "_view_module": "@jupyter-widgets/base",
      "_view_module_version": "1.2.0",
      "_view_name": "LayoutView",
      "align_content": null,
      "align_items": null,
      "align_self": null,
      "border": null,
      "bottom": null,
      "display": null,
      "flex": null,
      "flex_flow": null,
      "grid_area": null,
      "grid_auto_columns": null,
      "grid_auto_flow": null,
      "grid_auto_rows": null,
      "grid_column": null,
      "grid_gap": null,
      "grid_row": null,
      "grid_template_areas": null,
      "grid_template_columns": null,
      "grid_template_rows": null,
      "height": null,
      "justify_content": null,
      "justify_items": null,
      "left": null,
      "margin": null,
      "max_height": null,
      "max_width": null,
      "min_height": null,
      "min_width": null,
      "object_fit": null,
      "object_position": null,
      "order": null,
      "overflow": null,
      "overflow_x": null,
      "overflow_y": null,
      "padding": null,
      "right": null,
      "top": null,
      "visibility": null,
      "width": null
     }
    },
    "f59f8802e7cc4f5e8c25bae8a8e49a9c": {
     "model_module": "@jupyter-widgets/base",
     "model_module_version": "1.2.0",
     "model_name": "LayoutModel",
     "state": {
      "_model_module": "@jupyter-widgets/base",
      "_model_module_version": "1.2.0",
      "_model_name": "LayoutModel",
      "_view_count": null,
      "_view_module": "@jupyter-widgets/base",
      "_view_module_version": "1.2.0",
      "_view_name": "LayoutView",
      "align_content": null,
      "align_items": null,
      "align_self": null,
      "border": null,
      "bottom": null,
      "display": null,
      "flex": null,
      "flex_flow": null,
      "grid_area": null,
      "grid_auto_columns": null,
      "grid_auto_flow": null,
      "grid_auto_rows": null,
      "grid_column": null,
      "grid_gap": null,
      "grid_row": null,
      "grid_template_areas": null,
      "grid_template_columns": null,
      "grid_template_rows": null,
      "height": null,
      "justify_content": null,
      "justify_items": null,
      "left": null,
      "margin": null,
      "max_height": null,
      "max_width": null,
      "min_height": null,
      "min_width": null,
      "object_fit": null,
      "object_position": null,
      "order": null,
      "overflow": null,
      "overflow_x": null,
      "overflow_y": null,
      "padding": null,
      "right": null,
      "top": null,
      "visibility": null,
      "width": null
     }
    },
    "fa96993ef7d84300924b240dbfc2efe4": {
     "model_module": "@jupyter-widgets/controls",
     "model_module_version": "1.5.0",
     "model_name": "ImageModel",
     "state": {
      "_dom_classes": [],
      "_model_module": "@jupyter-widgets/controls",
      "_model_module_version": "1.5.0",
      "_model_name": "ImageModel",
      "_view_count": null,
      "_view_module": "@jupyter-widgets/controls",
      "_view_module_version": "1.5.0",
      "_view_name": "ImageView",
      "format": "png",
      "height": "",
      "layout": "IPY_MODEL_8f5e865f1a4a4773a3899f19b1f20aef",
      "width": ""
     }
    }
   }
  }
 },
 "nbformat": 4,
 "nbformat_minor": 4
}
