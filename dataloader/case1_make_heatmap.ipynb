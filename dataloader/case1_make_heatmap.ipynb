{
 "cells": [
  {
   "cell_type": "code",
   "execution_count": 1,
   "metadata": {
    "executionInfo": {
     "elapsed": 2,
     "status": "ok",
     "timestamp": 1692111614027,
     "user": {
      "displayName": "배홍섭",
      "userId": "04508707267981176802"
     },
     "user_tz": -540
    },
    "id": "XpckbcUhozYa"
   },
   "outputs": [],
   "source": [
    "import warnings\n",
    "\n",
    "warnings.filterwarnings( 'ignore' )"
   ]
  },
  {
   "cell_type": "code",
   "execution_count": 2,
   "metadata": {
    "colab": {
     "base_uri": "https://localhost:8080/",
     "height": 423
    },
    "executionInfo": {
     "elapsed": 31434,
     "status": "ok",
     "timestamp": 1692111645460,
     "user": {
      "displayName": "배홍섭",
      "userId": "04508707267981176802"
     },
     "user_tz": -540
    },
    "id": "1zrWalbLpWES",
    "outputId": "26b8b792-884b-4f57-afab-f33def433593"
   },
   "outputs": [
    {
     "data": {
      "text/html": [
       "<div>\n",
       "<style scoped>\n",
       "    .dataframe tbody tr th:only-of-type {\n",
       "        vertical-align: middle;\n",
       "    }\n",
       "\n",
       "    .dataframe tbody tr th {\n",
       "        vertical-align: top;\n",
       "    }\n",
       "\n",
       "    .dataframe thead th {\n",
       "        text-align: right;\n",
       "    }\n",
       "</style>\n",
       "<table border=\"1\" class=\"dataframe\">\n",
       "  <thead>\n",
       "    <tr style=\"text-align: right;\">\n",
       "      <th></th>\n",
       "      <th>userId</th>\n",
       "      <th>movieId</th>\n",
       "      <th>rating</th>\n",
       "      <th>timestamp</th>\n",
       "    </tr>\n",
       "  </thead>\n",
       "  <tbody>\n",
       "    <tr>\n",
       "      <th>0</th>\n",
       "      <td>1</td>\n",
       "      <td>296</td>\n",
       "      <td>5.0</td>\n",
       "      <td>1147880044</td>\n",
       "    </tr>\n",
       "    <tr>\n",
       "      <th>1</th>\n",
       "      <td>1</td>\n",
       "      <td>306</td>\n",
       "      <td>3.5</td>\n",
       "      <td>1147868817</td>\n",
       "    </tr>\n",
       "    <tr>\n",
       "      <th>2</th>\n",
       "      <td>1</td>\n",
       "      <td>307</td>\n",
       "      <td>5.0</td>\n",
       "      <td>1147868828</td>\n",
       "    </tr>\n",
       "    <tr>\n",
       "      <th>3</th>\n",
       "      <td>1</td>\n",
       "      <td>665</td>\n",
       "      <td>5.0</td>\n",
       "      <td>1147878820</td>\n",
       "    </tr>\n",
       "    <tr>\n",
       "      <th>4</th>\n",
       "      <td>1</td>\n",
       "      <td>899</td>\n",
       "      <td>3.5</td>\n",
       "      <td>1147868510</td>\n",
       "    </tr>\n",
       "    <tr>\n",
       "      <th>...</th>\n",
       "      <td>...</td>\n",
       "      <td>...</td>\n",
       "      <td>...</td>\n",
       "      <td>...</td>\n",
       "    </tr>\n",
       "    <tr>\n",
       "      <th>25000090</th>\n",
       "      <td>162541</td>\n",
       "      <td>50872</td>\n",
       "      <td>4.5</td>\n",
       "      <td>1240953372</td>\n",
       "    </tr>\n",
       "    <tr>\n",
       "      <th>25000091</th>\n",
       "      <td>162541</td>\n",
       "      <td>55768</td>\n",
       "      <td>2.5</td>\n",
       "      <td>1240951998</td>\n",
       "    </tr>\n",
       "    <tr>\n",
       "      <th>25000092</th>\n",
       "      <td>162541</td>\n",
       "      <td>56176</td>\n",
       "      <td>2.0</td>\n",
       "      <td>1240950697</td>\n",
       "    </tr>\n",
       "    <tr>\n",
       "      <th>25000093</th>\n",
       "      <td>162541</td>\n",
       "      <td>58559</td>\n",
       "      <td>4.0</td>\n",
       "      <td>1240953434</td>\n",
       "    </tr>\n",
       "    <tr>\n",
       "      <th>25000094</th>\n",
       "      <td>162541</td>\n",
       "      <td>63876</td>\n",
       "      <td>5.0</td>\n",
       "      <td>1240952515</td>\n",
       "    </tr>\n",
       "  </tbody>\n",
       "</table>\n",
       "<p>25000095 rows × 4 columns</p>\n",
       "</div>"
      ],
      "text/plain": [
       "          userId  movieId  rating   timestamp\n",
       "0              1      296     5.0  1147880044\n",
       "1              1      306     3.5  1147868817\n",
       "2              1      307     5.0  1147868828\n",
       "3              1      665     5.0  1147878820\n",
       "4              1      899     3.5  1147868510\n",
       "...          ...      ...     ...         ...\n",
       "25000090  162541    50872     4.5  1240953372\n",
       "25000091  162541    55768     2.5  1240951998\n",
       "25000092  162541    56176     2.0  1240950697\n",
       "25000093  162541    58559     4.0  1240953434\n",
       "25000094  162541    63876     5.0  1240952515\n",
       "\n",
       "[25000095 rows x 4 columns]"
      ]
     },
     "execution_count": 2,
     "metadata": {},
     "output_type": "execute_result"
    }
   ],
   "source": [
    "import pandas as pd\n",
    "\n",
    "rating_df = pd.read_csv('C:\\\\content_caching\\\\ml-25m\\\\ratings.csv')\n",
    "rating_df"
   ]
  },
  {
   "cell_type": "code",
   "execution_count": 3,
   "metadata": {
    "colab": {
     "base_uri": "https://localhost:8080/"
    },
    "executionInfo": {
     "elapsed": 357,
     "status": "ok",
     "timestamp": 1692111645807,
     "user": {
      "displayName": "배홍섭",
      "userId": "04508707267981176802"
     },
     "user_tz": -540
    },
    "id": "G6V-V-TLpX6g",
    "outputId": "ef7b8f22-33dc-4981-c4b7-608bc129b7a3"
   },
   "outputs": [
    {
     "name": "stdout",
     "output_type": "stream",
     "text": [
      "min timestamp:  789652009 1995-01-09 20:46:49\n",
      "max timestamp:  1574327703 2019-11-21 18:15:03\n"
     ]
    }
   ],
   "source": [
    "import time\n",
    "import datetime\n",
    "\n",
    "print('min timestamp: ',rating_df['timestamp'].min(), str(datetime.datetime.fromtimestamp(rating_df['timestamp'].min())))\n",
    "print('max timestamp: ',rating_df['timestamp'].max(), str(datetime.datetime.fromtimestamp(rating_df['timestamp'].max())))"
   ]
  },
  {
   "cell_type": "code",
   "execution_count": 4,
   "metadata": {
    "colab": {
     "base_uri": "https://localhost:8080/"
    },
    "executionInfo": {
     "elapsed": 3,
     "status": "ok",
     "timestamp": 1692111645807,
     "user": {
      "displayName": "배홍섭",
      "userId": "04508707267981176802"
     },
     "user_tz": -540
    },
    "id": "hNrz1hKrpZ4R",
    "outputId": "d318b787-a81b-45de-810d-288fa6f974bd"
   },
   "outputs": [
    {
     "name": "stdout",
     "output_type": "stream",
     "text": [
      "test timestamp:  1546268400\n",
      "test time:  2019-01-01 00:00:00\n"
     ]
    }
   ],
   "source": [
    "standard_year = '2019'\n",
    "standard_time = standard_year+'-01-01 00:00:00' # 2019년 데이터만 사용\n",
    "standard_time = datetime.datetime.strptime(standard_time, '%Y-%m-%d %H:%M:%S')\n",
    "standard_timestamp = int(time.mktime(standard_time.timetuple()))\n",
    "print('test timestamp: ', standard_timestamp)\n",
    "print('test time: ',str(datetime.datetime.fromtimestamp(standard_timestamp)))"
   ]
  },
  {
   "cell_type": "code",
   "execution_count": 5,
   "metadata": {
    "colab": {
     "base_uri": "https://localhost:8080/",
     "height": 423
    },
    "executionInfo": {
     "elapsed": 319,
     "status": "ok",
     "timestamp": 1692111646124,
     "user": {
      "displayName": "배홍섭",
      "userId": "04508707267981176802"
     },
     "user_tz": -540
    },
    "id": "ZWzN6DMtpbgM",
    "outputId": "8f2dd71d-0b8e-4461-875d-8267a524d5a5"
   },
   "outputs": [
    {
     "data": {
      "text/html": [
       "<div>\n",
       "<style scoped>\n",
       "    .dataframe tbody tr th:only-of-type {\n",
       "        vertical-align: middle;\n",
       "    }\n",
       "\n",
       "    .dataframe tbody tr th {\n",
       "        vertical-align: top;\n",
       "    }\n",
       "\n",
       "    .dataframe thead th {\n",
       "        text-align: right;\n",
       "    }\n",
       "</style>\n",
       "<table border=\"1\" class=\"dataframe\">\n",
       "  <thead>\n",
       "    <tr style=\"text-align: right;\">\n",
       "      <th></th>\n",
       "      <th>userId</th>\n",
       "      <th>movieId</th>\n",
       "      <th>rating</th>\n",
       "      <th>timestamp</th>\n",
       "    </tr>\n",
       "  </thead>\n",
       "  <tbody>\n",
       "    <tr>\n",
       "      <th>0</th>\n",
       "      <td>3</td>\n",
       "      <td>1274</td>\n",
       "      <td>4.5</td>\n",
       "      <td>1566088819</td>\n",
       "    </tr>\n",
       "    <tr>\n",
       "      <th>1</th>\n",
       "      <td>3</td>\n",
       "      <td>1732</td>\n",
       "      <td>4.5</td>\n",
       "      <td>1566091883</td>\n",
       "    </tr>\n",
       "    <tr>\n",
       "      <th>2</th>\n",
       "      <td>3</td>\n",
       "      <td>1960</td>\n",
       "      <td>4.0</td>\n",
       "      <td>1566090766</td>\n",
       "    </tr>\n",
       "    <tr>\n",
       "      <th>3</th>\n",
       "      <td>3</td>\n",
       "      <td>2021</td>\n",
       "      <td>4.0</td>\n",
       "      <td>1566089449</td>\n",
       "    </tr>\n",
       "    <tr>\n",
       "      <th>4</th>\n",
       "      <td>3</td>\n",
       "      <td>3408</td>\n",
       "      <td>3.5</td>\n",
       "      <td>1566089773</td>\n",
       "    </tr>\n",
       "    <tr>\n",
       "      <th>...</th>\n",
       "      <td>...</td>\n",
       "      <td>...</td>\n",
       "      <td>...</td>\n",
       "      <td>...</td>\n",
       "    </tr>\n",
       "    <tr>\n",
       "      <th>1202597</th>\n",
       "      <td>162536</td>\n",
       "      <td>148626</td>\n",
       "      <td>5.0</td>\n",
       "      <td>1572259347</td>\n",
       "    </tr>\n",
       "    <tr>\n",
       "      <th>1202598</th>\n",
       "      <td>162536</td>\n",
       "      <td>148685</td>\n",
       "      <td>5.0</td>\n",
       "      <td>1572257813</td>\n",
       "    </tr>\n",
       "    <tr>\n",
       "      <th>1202599</th>\n",
       "      <td>162536</td>\n",
       "      <td>164179</td>\n",
       "      <td>4.0</td>\n",
       "      <td>1572259078</td>\n",
       "    </tr>\n",
       "    <tr>\n",
       "      <th>1202600</th>\n",
       "      <td>162536</td>\n",
       "      <td>202429</td>\n",
       "      <td>4.0</td>\n",
       "      <td>1572257782</td>\n",
       "    </tr>\n",
       "    <tr>\n",
       "      <th>1202601</th>\n",
       "      <td>162536</td>\n",
       "      <td>204698</td>\n",
       "      <td>4.5</td>\n",
       "      <td>1572257788</td>\n",
       "    </tr>\n",
       "  </tbody>\n",
       "</table>\n",
       "<p>1202602 rows × 4 columns</p>\n",
       "</div>"
      ],
      "text/plain": [
       "         userId  movieId  rating   timestamp\n",
       "0             3     1274     4.5  1566088819\n",
       "1             3     1732     4.5  1566091883\n",
       "2             3     1960     4.0  1566090766\n",
       "3             3     2021     4.0  1566089449\n",
       "4             3     3408     3.5  1566089773\n",
       "...         ...      ...     ...         ...\n",
       "1202597  162536   148626     5.0  1572259347\n",
       "1202598  162536   148685     5.0  1572257813\n",
       "1202599  162536   164179     4.0  1572259078\n",
       "1202600  162536   202429     4.0  1572257782\n",
       "1202601  162536   204698     4.5  1572257788\n",
       "\n",
       "[1202602 rows x 4 columns]"
      ]
     },
     "execution_count": 5,
     "metadata": {},
     "output_type": "execute_result"
    }
   ],
   "source": [
    "after2019_rating_df = rating_df[rating_df['timestamp'] >= standard_timestamp].reset_index(drop=True)\n",
    "after2019_rating_df"
   ]
  },
  {
   "cell_type": "code",
   "execution_count": 6,
   "metadata": {
    "colab": {
     "base_uri": "https://localhost:8080/"
    },
    "executionInfo": {
     "elapsed": 8,
     "status": "ok",
     "timestamp": 1692111646124,
     "user": {
      "displayName": "배홍섭",
      "userId": "04508707267981176802"
     },
     "user_tz": -540
    },
    "id": "A5Xg_Pxqp3Lg",
    "outputId": "607df5f9-1963-44f3-805e-1a280f29a03e"
   },
   "outputs": [
    {
     "name": "stdout",
     "output_type": "stream",
     "text": [
      "number of  movieIds :  41440\n",
      "number of  userId :  10619\n"
     ]
    }
   ],
   "source": [
    "print('number of  movieIds : ', after2019_rating_df['movieId'].nunique())\n",
    "print('number of  userId : ', after2019_rating_df['userId'].nunique())"
   ]
  },
  {
   "cell_type": "code",
   "execution_count": 7,
   "metadata": {
    "colab": {
     "base_uri": "https://localhost:8080/",
     "height": 459
    },
    "executionInfo": {
     "elapsed": 7,
     "status": "ok",
     "timestamp": 1692111646124,
     "user": {
      "displayName": "배홍섭",
      "userId": "04508707267981176802"
     },
     "user_tz": -540
    },
    "id": "hxxsF_eLqHSG",
    "outputId": "2a151db0-1edb-4323-a66b-6776f3369db2"
   },
   "outputs": [
    {
     "name": "stdout",
     "output_type": "stream",
     "text": [
      "November\n",
      "2019-11-01 00:00:00 1572534000\n",
      "2019-12-01 00:00:00 1575126000\n"
     ]
    },
    {
     "data": {
      "text/html": [
       "<div>\n",
       "<style scoped>\n",
       "    .dataframe tbody tr th:only-of-type {\n",
       "        vertical-align: middle;\n",
       "    }\n",
       "\n",
       "    .dataframe tbody tr th {\n",
       "        vertical-align: top;\n",
       "    }\n",
       "\n",
       "    .dataframe thead th {\n",
       "        text-align: right;\n",
       "    }\n",
       "</style>\n",
       "<table border=\"1\" class=\"dataframe\">\n",
       "  <thead>\n",
       "    <tr style=\"text-align: right;\">\n",
       "      <th></th>\n",
       "      <th>userId</th>\n",
       "      <th>movieId</th>\n",
       "      <th>rating</th>\n",
       "      <th>timestamp</th>\n",
       "    </tr>\n",
       "  </thead>\n",
       "  <tbody>\n",
       "    <tr>\n",
       "      <th>0</th>\n",
       "      <td>4</td>\n",
       "      <td>1</td>\n",
       "      <td>3.0</td>\n",
       "      <td>1573944252</td>\n",
       "    </tr>\n",
       "    <tr>\n",
       "      <th>1</th>\n",
       "      <td>4</td>\n",
       "      <td>260</td>\n",
       "      <td>3.5</td>\n",
       "      <td>1573938415</td>\n",
       "    </tr>\n",
       "    <tr>\n",
       "      <th>2</th>\n",
       "      <td>4</td>\n",
       "      <td>296</td>\n",
       "      <td>4.0</td>\n",
       "      <td>1573938898</td>\n",
       "    </tr>\n",
       "    <tr>\n",
       "      <th>3</th>\n",
       "      <td>4</td>\n",
       "      <td>541</td>\n",
       "      <td>4.5</td>\n",
       "      <td>1573944303</td>\n",
       "    </tr>\n",
       "    <tr>\n",
       "      <th>4</th>\n",
       "      <td>4</td>\n",
       "      <td>589</td>\n",
       "      <td>4.0</td>\n",
       "      <td>1573939042</td>\n",
       "    </tr>\n",
       "    <tr>\n",
       "      <th>...</th>\n",
       "      <td>...</td>\n",
       "      <td>...</td>\n",
       "      <td>...</td>\n",
       "      <td>...</td>\n",
       "    </tr>\n",
       "    <tr>\n",
       "      <th>67396</th>\n",
       "      <td>162190</td>\n",
       "      <td>204698</td>\n",
       "      <td>1.5</td>\n",
       "      <td>1573824042</td>\n",
       "    </tr>\n",
       "    <tr>\n",
       "      <th>67397</th>\n",
       "      <td>162257</td>\n",
       "      <td>204698</td>\n",
       "      <td>3.0</td>\n",
       "      <td>1573410931</td>\n",
       "    </tr>\n",
       "    <tr>\n",
       "      <th>67398</th>\n",
       "      <td>162305</td>\n",
       "      <td>204692</td>\n",
       "      <td>1.5</td>\n",
       "      <td>1573107264</td>\n",
       "    </tr>\n",
       "    <tr>\n",
       "      <th>67399</th>\n",
       "      <td>162516</td>\n",
       "      <td>179749</td>\n",
       "      <td>3.0</td>\n",
       "      <td>1572577455</td>\n",
       "    </tr>\n",
       "    <tr>\n",
       "      <th>67400</th>\n",
       "      <td>162536</td>\n",
       "      <td>1704</td>\n",
       "      <td>4.5</td>\n",
       "      <td>1573386104</td>\n",
       "    </tr>\n",
       "  </tbody>\n",
       "</table>\n",
       "<p>67401 rows × 4 columns</p>\n",
       "</div>"
      ],
      "text/plain": [
       "       userId  movieId  rating   timestamp\n",
       "0           4        1     3.0  1573944252\n",
       "1           4      260     3.5  1573938415\n",
       "2           4      296     4.0  1573938898\n",
       "3           4      541     4.5  1573944303\n",
       "4           4      589     4.0  1573939042\n",
       "...       ...      ...     ...         ...\n",
       "67396  162190   204698     1.5  1573824042\n",
       "67397  162257   204698     3.0  1573410931\n",
       "67398  162305   204692     1.5  1573107264\n",
       "67399  162516   179749     3.0  1572577455\n",
       "67400  162536     1704     4.5  1573386104\n",
       "\n",
       "[67401 rows x 4 columns]"
      ]
     },
     "execution_count": 7,
     "metadata": {},
     "output_type": "execute_result"
    }
   ],
   "source": [
    "standards = {'January':['2019-01-01 00:00:00', '2019-02-01 00:00:00'],\n",
    "             'February':['2019-02-01 00:00:00', '2019-03-01 00:00:00'],\n",
    "             'March':['2019-03-01 00:00:00', '2019-04-01 00:00:00'],\n",
    "             'April':['2019-04-01 00:00:00', '2019-05-01 00:00:00'],\n",
    "             'May':['2019-05-01 00:00:00', '2019-06-01 00:00:00'],\n",
    "             'June':['2019-06-01 00:00:00', '2019-07-01 00:00:00'],\n",
    "             'July':['2019-07-01 00:00:00', '2019-08-01 00:00:00'],\n",
    "             'August':['2019-08-01 00:00:00', '2019-09-01 00:00:00'],\n",
    "             'September':['2019-09-01 00:00:00', '2019-10-01 00:00:00'],\n",
    "             'October':['2019-10-01 00:00:00', '2019-11-01 00:00:00'],\n",
    "             'November':['2019-11-01 00:00:00', '2019-12-01 00:00:00'],\n",
    "             'December':['2019-12-01 00:00:00', '2020-01-01 00:00:00']\n",
    "             }\n",
    "\n",
    "Month = list(standards.keys())[11-1] # 4월 -1 index\n",
    "print(Month)\n",
    "\n",
    "start_time = datetime.datetime.strptime(standards[Month][0], '%Y-%m-%d %H:%M:%S')\n",
    "end_time = datetime.datetime.strptime(standards[Month][1], '%Y-%m-%d %H:%M:%S')\n",
    "\n",
    "start_timestamp = int(time.mktime(start_time.timetuple()))\n",
    "end_timestamp = int(time.mktime(end_time.timetuple()))\n",
    "\n",
    "print(start_time, start_timestamp)\n",
    "print(end_time, end_timestamp)\n",
    "\n",
    "month_rating_df = after2019_rating_df[(after2019_rating_df['timestamp'] < end_timestamp) &\n",
    "                                   (after2019_rating_df['timestamp'] >= start_timestamp)].reset_index(drop=True)\n",
    "\n",
    "# 10월까지 1,216 개 생성. \n",
    "# 11월까지 1,300 개 생성. \n",
    "if Month == 'November': # 12월 데이터는 존재하지 않음. 11월 존재하는 데이터까지만 진행.\n",
    "    end_timestamp = month_rating_df['timestamp'].max()\n",
    "\n",
    "month_rating_df"
   ]
  },
  {
   "cell_type": "code",
   "execution_count": 8,
   "metadata": {},
   "outputs": [],
   "source": [
    "# 해당 월에 데이터가 없다면 종료.\n",
    "import sys\n",
    "\n",
    "if len(month_rating_df) == 0:\n",
    "    sys.exit('해당 월에 데이터 없음')"
   ]
  },
  {
   "cell_type": "code",
   "execution_count": 9,
   "metadata": {
    "colab": {
     "base_uri": "https://localhost:8080/"
    },
    "executionInfo": {
     "elapsed": 7,
     "status": "ok",
     "timestamp": 1692111646125,
     "user": {
      "displayName": "배홍섭",
      "userId": "04508707267981176802"
     },
     "user_tz": -540
    },
    "id": "E5fltXUCqPLx",
    "outputId": "253157e3-c971-4591-d80e-4065cfd22b8d"
   },
   "outputs": [
    {
     "name": "stdout",
     "output_type": "stream",
     "text": [
      "number of  movieIds :  10881\n",
      "number of  userId :  2018\n"
     ]
    }
   ],
   "source": [
    "print('number of  movieIds : ', month_rating_df['movieId'].nunique())\n",
    "print('number of  userId : ', month_rating_df['userId'].nunique())"
   ]
  },
  {
   "cell_type": "code",
   "execution_count": 10,
   "metadata": {},
   "outputs": [
    {
     "data": {
      "text/plain": [
       "204698    283\n",
       "58559     209\n",
       "122914    209\n",
       "2959      204\n",
       "79132     204\n",
       "         ... \n",
       "57865       1\n",
       "57513       1\n",
       "56051       1\n",
       "55826       1\n",
       "179889      1\n",
       "Name: movieId, Length: 10881, dtype: int64"
      ]
     },
     "execution_count": 10,
     "metadata": {},
     "output_type": "execute_result"
    }
   ],
   "source": [
    "month_rating_df['movieId'].value_counts()"
   ]
  },
  {
   "cell_type": "code",
   "execution_count": 11,
   "metadata": {
    "colab": {
     "base_uri": "https://localhost:8080/",
     "height": 423
    },
    "executionInfo": {
     "elapsed": 6,
     "status": "ok",
     "timestamp": 1692111646125,
     "user": {
      "displayName": "배홍섭",
      "userId": "04508707267981176802"
     },
     "user_tz": -540
    },
    "id": "SH3jD5PTqPur",
    "outputId": "2e85d508-7a02-47e9-c034-67f232af5aab"
   },
   "outputs": [
    {
     "data": {
      "text/html": [
       "<div>\n",
       "<style scoped>\n",
       "    .dataframe tbody tr th:only-of-type {\n",
       "        vertical-align: middle;\n",
       "    }\n",
       "\n",
       "    .dataframe tbody tr th {\n",
       "        vertical-align: top;\n",
       "    }\n",
       "\n",
       "    .dataframe thead th {\n",
       "        text-align: right;\n",
       "    }\n",
       "</style>\n",
       "<table border=\"1\" class=\"dataframe\">\n",
       "  <thead>\n",
       "    <tr style=\"text-align: right;\">\n",
       "      <th></th>\n",
       "      <th>userId</th>\n",
       "      <th>movieId</th>\n",
       "      <th>rating</th>\n",
       "      <th>timestamp</th>\n",
       "      <th>remapped_movieId</th>\n",
       "    </tr>\n",
       "  </thead>\n",
       "  <tbody>\n",
       "    <tr>\n",
       "      <th>0</th>\n",
       "      <td>4</td>\n",
       "      <td>1</td>\n",
       "      <td>3.0</td>\n",
       "      <td>1573944252</td>\n",
       "      <td>75</td>\n",
       "    </tr>\n",
       "    <tr>\n",
       "      <th>1</th>\n",
       "      <td>4</td>\n",
       "      <td>260</td>\n",
       "      <td>3.5</td>\n",
       "      <td>1573938415</td>\n",
       "      <td>9</td>\n",
       "    </tr>\n",
       "    <tr>\n",
       "      <th>2</th>\n",
       "      <td>4</td>\n",
       "      <td>296</td>\n",
       "      <td>4.0</td>\n",
       "      <td>1573938898</td>\n",
       "      <td>13</td>\n",
       "    </tr>\n",
       "    <tr>\n",
       "      <th>3</th>\n",
       "      <td>4</td>\n",
       "      <td>541</td>\n",
       "      <td>4.5</td>\n",
       "      <td>1573944303</td>\n",
       "      <td>86</td>\n",
       "    </tr>\n",
       "    <tr>\n",
       "      <th>4</th>\n",
       "      <td>4</td>\n",
       "      <td>589</td>\n",
       "      <td>4.0</td>\n",
       "      <td>1573939042</td>\n",
       "      <td>89</td>\n",
       "    </tr>\n",
       "    <tr>\n",
       "      <th>...</th>\n",
       "      <td>...</td>\n",
       "      <td>...</td>\n",
       "      <td>...</td>\n",
       "      <td>...</td>\n",
       "      <td>...</td>\n",
       "    </tr>\n",
       "    <tr>\n",
       "      <th>67396</th>\n",
       "      <td>162190</td>\n",
       "      <td>204698</td>\n",
       "      <td>1.5</td>\n",
       "      <td>1573824042</td>\n",
       "      <td>0</td>\n",
       "    </tr>\n",
       "    <tr>\n",
       "      <th>67397</th>\n",
       "      <td>162257</td>\n",
       "      <td>204698</td>\n",
       "      <td>3.0</td>\n",
       "      <td>1573410931</td>\n",
       "      <td>0</td>\n",
       "    </tr>\n",
       "    <tr>\n",
       "      <th>67398</th>\n",
       "      <td>162305</td>\n",
       "      <td>204692</td>\n",
       "      <td>1.5</td>\n",
       "      <td>1573107264</td>\n",
       "      <td>1024</td>\n",
       "    </tr>\n",
       "    <tr>\n",
       "      <th>67399</th>\n",
       "      <td>162516</td>\n",
       "      <td>179749</td>\n",
       "      <td>3.0</td>\n",
       "      <td>1572577455</td>\n",
       "      <td>2174</td>\n",
       "    </tr>\n",
       "    <tr>\n",
       "      <th>67400</th>\n",
       "      <td>162536</td>\n",
       "      <td>1704</td>\n",
       "      <td>4.5</td>\n",
       "      <td>1573386104</td>\n",
       "      <td>56</td>\n",
       "    </tr>\n",
       "  </tbody>\n",
       "</table>\n",
       "<p>67401 rows × 5 columns</p>\n",
       "</div>"
      ],
      "text/plain": [
       "       userId  movieId  rating   timestamp  remapped_movieId\n",
       "0           4        1     3.0  1573944252                75\n",
       "1           4      260     3.5  1573938415                 9\n",
       "2           4      296     4.0  1573938898                13\n",
       "3           4      541     4.5  1573944303                86\n",
       "4           4      589     4.0  1573939042                89\n",
       "...       ...      ...     ...         ...               ...\n",
       "67396  162190   204698     1.5  1573824042                 0\n",
       "67397  162257   204698     3.0  1573410931                 0\n",
       "67398  162305   204692     1.5  1573107264              1024\n",
       "67399  162516   179749     3.0  1572577455              2174\n",
       "67400  162536     1704     4.5  1573386104                56\n",
       "\n",
       "[67401 rows x 5 columns]"
      ]
     },
     "execution_count": 11,
     "metadata": {},
     "output_type": "execute_result"
    }
   ],
   "source": [
    "import pandas as pd\n",
    "\n",
    "# Assuming your DataFrame is named month_rating_df\n",
    "\n",
    "# Count the frequency of each movieId\n",
    "movie_frequency = month_rating_df['movieId'].value_counts()\n",
    "\n",
    "# Create a dictionary to map original movieIds to their corresponding frequencies\n",
    "movie_frequency_map = movie_frequency.to_dict()\n",
    "\n",
    "# Sort the dictionary by frequency and assign new movieId values starting from 0\n",
    "sorted_movie_ids = sorted(movie_frequency_map, key=lambda x: movie_frequency_map[x], reverse=True)\n",
    "remapped_ids = {movie_id: idx for idx, movie_id in enumerate(sorted_movie_ids)}\n",
    "\n",
    "# Apply the remapping to the DataFrame\n",
    "month_rating_df['remapped_movieId'] = month_rating_df['movieId'].map(remapped_ids)\n",
    "\n",
    "# Now month_rating_df contains a new column 'remapped_movieId' with the remapped values\n",
    "month_rating_df"
   ]
  },
  {
   "cell_type": "code",
   "execution_count": 12,
   "metadata": {
    "colab": {
     "base_uri": "https://localhost:8080/"
    },
    "executionInfo": {
     "elapsed": 4,
     "status": "ok",
     "timestamp": 1692111646439,
     "user": {
      "displayName": "배홍섭",
      "userId": "04508707267981176802"
     },
     "user_tz": -540
    },
    "id": "RsIdi-kA6FGc",
    "outputId": "74c53ffe-4962-49ca-cad7-d3922498e4a8"
   },
   "outputs": [
    {
     "data": {
      "text/plain": [
       "0        283\n",
       "1        209\n",
       "2        209\n",
       "3        204\n",
       "4        204\n",
       "        ... \n",
       "10876      1\n",
       "10877      1\n",
       "10878      1\n",
       "10879      1\n",
       "10880      1\n",
       "Name: remapped_movieId, Length: 10881, dtype: int64"
      ]
     },
     "execution_count": 12,
     "metadata": {},
     "output_type": "execute_result"
    }
   ],
   "source": [
    "month_rating_df['remapped_movieId'].value_counts()"
   ]
  },
  {
   "cell_type": "code",
   "execution_count": 13,
   "metadata": {
    "colab": {
     "base_uri": "https://localhost:8080/"
    },
    "executionInfo": {
     "elapsed": 4,
     "status": "ok",
     "timestamp": 1692111646440,
     "user": {
      "displayName": "배홍섭",
      "userId": "04508707267981176802"
     },
     "user_tz": -540
    },
    "id": "ZTPQaFsYwfJ1",
    "outputId": "e7a7f921-135b-41e8-873a-6b730ccafacf"
   },
   "outputs": [
    {
     "data": {
      "text/plain": [
       "0        0.004199\n",
       "1        0.003101\n",
       "2        0.003101\n",
       "3        0.003027\n",
       "4        0.003027\n",
       "           ...   \n",
       "10876    0.000015\n",
       "10877    0.000015\n",
       "10878    0.000015\n",
       "10879    0.000015\n",
       "10880    0.000015\n",
       "Name: remapped_movieId, Length: 10881, dtype: float64"
      ]
     },
     "execution_count": 13,
     "metadata": {},
     "output_type": "execute_result"
    }
   ],
   "source": [
    "movie_id_probabilites = month_rating_df['remapped_movieId'].value_counts() / month_rating_df['remapped_movieId'].value_counts().sum()\n",
    "movie_id_probabilites"
   ]
  },
  {
   "cell_type": "code",
   "execution_count": 14,
   "metadata": {
    "colab": {
     "base_uri": "https://localhost:8080/",
     "height": 564
    },
    "executionInfo": {
     "elapsed": 654,
     "status": "ok",
     "timestamp": 1692111647090,
     "user": {
      "displayName": "배홍섭",
      "userId": "04508707267981176802"
     },
     "user_tz": -540
    },
    "id": "kakx77nuyFKb",
    "outputId": "d4534997-5b9f-4e08-cf1b-2517218116c0"
   },
   "outputs": [
    {
     "data": {
      "image/png": "[encoded data removed]",
      "text/plain": [
       "<Figure size 1000x600 with 1 Axes>"
      ]
     },
     "metadata": {},
     "output_type": "display_data"
    }
   ],
   "source": [
    "import pandas as pd\n",
    "import matplotlib.pyplot as plt\n",
    "\n",
    "# Visualize the probabilities for the first row\n",
    "plt.figure(figsize=(10, 6))\n",
    "plt.plot(range(len(movie_id_probabilites.values)), movie_id_probabilites.values, marker='o')\n",
    "plt.xlabel('number of request ascending order')\n",
    "plt.ylabel('Probability')\n",
    "plt.title('Probabilities for request frequency')\n",
    "plt.grid(True)\n",
    "plt.show()"
   ]
  },
  {
   "cell_type": "code",
   "execution_count": 15,
   "metadata": {
    "colab": {
     "base_uri": "https://localhost:8080/"
    },
    "executionInfo": {
     "elapsed": 14,
     "status": "ok",
     "timestamp": 1692111647091,
     "user": {
      "displayName": "배홍섭",
      "userId": "04508707267981176802"
     },
     "user_tz": -540
    },
    "id": "wxB6jLT40kRR",
    "outputId": "e4b91ec5-54e7-47a4-daac-1049e48cd04d"
   },
   "outputs": [
    {
     "data": {
      "text/plain": [
       "1.0"
      ]
     },
     "execution_count": 15,
     "metadata": {},
     "output_type": "execute_result"
    }
   ],
   "source": [
    "movie_id_probabilites.sum()"
   ]
  },
  {
   "cell_type": "code",
   "execution_count": 16,
   "metadata": {
    "colab": {
     "base_uri": "https://localhost:8080/"
    },
    "executionInfo": {
     "elapsed": 12,
     "status": "ok",
     "timestamp": 1692111647091,
     "user": {
      "displayName": "배홍섭",
      "userId": "04508707267981176802"
     },
     "user_tz": -540
    },
    "id": "I9LVa5XLYI0e",
    "outputId": "fe019534-f961-4aca-f239-f32696eeb5ff"
   },
   "outputs": [
    {
     "name": "stdout",
     "output_type": "stream",
     "text": [
      "top 20% 개수 :  2176\n",
      "top 20% 비율 :  0.7836678981024137\n"
     ]
    }
   ],
   "source": [
    "pareto = int(month_rating_df['movieId'].nunique() * 0.2)\n",
    "print('top 20% 개수 : ', pareto)\n",
    "\n",
    "pareto_probability = sum(movie_id_probabilites.values[:pareto+1])\n",
    "print('top 20% 비율 : ', pareto_probability)"
   ]
  },
  {
   "cell_type": "code",
   "execution_count": 17,
   "metadata": {
    "colab": {
     "base_uri": "https://localhost:8080/"
    },
    "executionInfo": {
     "elapsed": 11,
     "status": "ok",
     "timestamp": 1692111647091,
     "user": {
      "displayName": "배홍섭",
      "userId": "04508707267981176802"
     },
     "user_tz": -540
    },
    "id": "_LI1-L2xgDGg",
    "outputId": "eb1264b4-1da1-4498-a1b8-80f7e45b3846"
   },
   "outputs": [
    {
     "name": "stdout",
     "output_type": "stream",
     "text": [
      "pareto :  12 182\n",
      "rest pareto :  52 168\n"
     ]
    }
   ],
   "source": [
    "number_of_service_Ids = 64\n",
    "\n",
    "Y = 0.2\n",
    "\n",
    "pareto_number_of_service_ids = int(number_of_service_Ids * Y)\n",
    "\n",
    "pareto_number_of_movies_per_service = int(pareto / pareto_number_of_service_ids) + 1\n",
    "print('pareto : ',pareto_number_of_service_ids, pareto_number_of_movies_per_service)\n",
    "\n",
    "not_pareto_number_of_service_ids = number_of_service_Ids - pareto_number_of_service_ids\n",
    "try:\n",
    "    not_pareto_number_of_movies_per_service = int((month_rating_df['movieId'].nunique()-pareto) / not_pareto_number_of_service_ids) + 1\n",
    "except:\n",
    "    not_pareto_number_of_movies_per_service = 0\n",
    "print('rest pareto : ', not_pareto_number_of_service_ids, not_pareto_number_of_movies_per_service)"
   ]
  },
  {
   "cell_type": "code",
   "execution_count": 18,
   "metadata": {
    "executionInfo": {
     "elapsed": 10,
     "status": "ok",
     "timestamp": 1692111647091,
     "user": {
      "displayName": "배홍섭",
      "userId": "04508707267981176802"
     },
     "user_tz": -540
    },
    "id": "iMBde5M9ifrm"
   },
   "outputs": [],
   "source": [
    "# Create a mapping dictionary for remapped_movieId to service_id\n",
    "mapping_dict = {}\n",
    "\n",
    "pareto = pareto_number_of_service_ids * pareto_number_of_movies_per_service\n",
    "\n",
    "# Map the remapped_movieId values to service_id values\n",
    "current_service_id = 0\n",
    "for value in range(pareto):\n",
    "    if value % pareto_number_of_movies_per_service == 0 and value != 0:\n",
    "        current_service_id += 1\n",
    "    mapping_dict[value] = current_service_id\n",
    "\n",
    "for value in range(pareto, month_rating_df['movieId'].nunique()):\n",
    "    tmp_value = value-pareto\n",
    "    try:\n",
    "        if tmp_value % not_pareto_number_of_movies_per_service == 0:\n",
    "            current_service_id += 1\n",
    "        mapping_dict[value] = current_service_id\n",
    "    except:\n",
    "        break"
   ]
  },
  {
   "cell_type": "code",
   "execution_count": 19,
   "metadata": {
    "colab": {
     "base_uri": "https://localhost:8080/"
    },
    "executionInfo": {
     "elapsed": 10,
     "status": "ok",
     "timestamp": 1692111647091,
     "user": {
      "displayName": "배홍섭",
      "userId": "04508707267981176802"
     },
     "user_tz": -540
    },
    "id": "WL5WTh-Zm5e4",
    "outputId": "706eec21-7849-4d67-a054-8b7e4182388a"
   },
   "outputs": [
    {
     "data": {
      "text/plain": [
       "129"
      ]
     },
     "execution_count": 19,
     "metadata": {},
     "output_type": "execute_result"
    }
   ],
   "source": [
    "pareto_count = sum([1 for value in mapping_dict.values() if value == 63])\n",
    "pareto_count"
   ]
  },
  {
   "cell_type": "code",
   "execution_count": 20,
   "metadata": {
    "colab": {
     "base_uri": "https://localhost:8080/",
     "height": 423
    },
    "executionInfo": {
     "elapsed": 10,
     "status": "ok",
     "timestamp": 1692111647092,
     "user": {
      "displayName": "배홍섭",
      "userId": "04508707267981176802"
     },
     "user_tz": -540
    },
    "id": "s_6urCNDlhLT",
    "outputId": "66afc3b8-0931-49d8-cc57-569ff774878d"
   },
   "outputs": [
    {
     "data": {
      "text/html": [
       "<div>\n",
       "<style scoped>\n",
       "    .dataframe tbody tr th:only-of-type {\n",
       "        vertical-align: middle;\n",
       "    }\n",
       "\n",
       "    .dataframe tbody tr th {\n",
       "        vertical-align: top;\n",
       "    }\n",
       "\n",
       "    .dataframe thead th {\n",
       "        text-align: right;\n",
       "    }\n",
       "</style>\n",
       "<table border=\"1\" class=\"dataframe\">\n",
       "  <thead>\n",
       "    <tr style=\"text-align: right;\">\n",
       "      <th></th>\n",
       "      <th>userId</th>\n",
       "      <th>movieId</th>\n",
       "      <th>rating</th>\n",
       "      <th>timestamp</th>\n",
       "      <th>remapped_movieId</th>\n",
       "      <th>service_id</th>\n",
       "    </tr>\n",
       "  </thead>\n",
       "  <tbody>\n",
       "    <tr>\n",
       "      <th>0</th>\n",
       "      <td>4</td>\n",
       "      <td>1</td>\n",
       "      <td>3.0</td>\n",
       "      <td>1573944252</td>\n",
       "      <td>75</td>\n",
       "      <td>0</td>\n",
       "    </tr>\n",
       "    <tr>\n",
       "      <th>1</th>\n",
       "      <td>4</td>\n",
       "      <td>260</td>\n",
       "      <td>3.5</td>\n",
       "      <td>1573938415</td>\n",
       "      <td>9</td>\n",
       "      <td>0</td>\n",
       "    </tr>\n",
       "    <tr>\n",
       "      <th>2</th>\n",
       "      <td>4</td>\n",
       "      <td>296</td>\n",
       "      <td>4.0</td>\n",
       "      <td>1573938898</td>\n",
       "      <td>13</td>\n",
       "      <td>0</td>\n",
       "    </tr>\n",
       "    <tr>\n",
       "      <th>3</th>\n",
       "      <td>4</td>\n",
       "      <td>541</td>\n",
       "      <td>4.5</td>\n",
       "      <td>1573944303</td>\n",
       "      <td>86</td>\n",
       "      <td>0</td>\n",
       "    </tr>\n",
       "    <tr>\n",
       "      <th>4</th>\n",
       "      <td>4</td>\n",
       "      <td>589</td>\n",
       "      <td>4.0</td>\n",
       "      <td>1573939042</td>\n",
       "      <td>89</td>\n",
       "      <td>0</td>\n",
       "    </tr>\n",
       "    <tr>\n",
       "      <th>...</th>\n",
       "      <td>...</td>\n",
       "      <td>...</td>\n",
       "      <td>...</td>\n",
       "      <td>...</td>\n",
       "      <td>...</td>\n",
       "      <td>...</td>\n",
       "    </tr>\n",
       "    <tr>\n",
       "      <th>67396</th>\n",
       "      <td>162190</td>\n",
       "      <td>204698</td>\n",
       "      <td>1.5</td>\n",
       "      <td>1573824042</td>\n",
       "      <td>0</td>\n",
       "      <td>0</td>\n",
       "    </tr>\n",
       "    <tr>\n",
       "      <th>67397</th>\n",
       "      <td>162257</td>\n",
       "      <td>204698</td>\n",
       "      <td>3.0</td>\n",
       "      <td>1573410931</td>\n",
       "      <td>0</td>\n",
       "      <td>0</td>\n",
       "    </tr>\n",
       "    <tr>\n",
       "      <th>67398</th>\n",
       "      <td>162305</td>\n",
       "      <td>204692</td>\n",
       "      <td>1.5</td>\n",
       "      <td>1573107264</td>\n",
       "      <td>1024</td>\n",
       "      <td>5</td>\n",
       "    </tr>\n",
       "    <tr>\n",
       "      <th>67399</th>\n",
       "      <td>162516</td>\n",
       "      <td>179749</td>\n",
       "      <td>3.0</td>\n",
       "      <td>1572577455</td>\n",
       "      <td>2174</td>\n",
       "      <td>11</td>\n",
       "    </tr>\n",
       "    <tr>\n",
       "      <th>67400</th>\n",
       "      <td>162536</td>\n",
       "      <td>1704</td>\n",
       "      <td>4.5</td>\n",
       "      <td>1573386104</td>\n",
       "      <td>56</td>\n",
       "      <td>0</td>\n",
       "    </tr>\n",
       "  </tbody>\n",
       "</table>\n",
       "<p>67401 rows × 6 columns</p>\n",
       "</div>"
      ],
      "text/plain": [
       "       userId  movieId  rating   timestamp  remapped_movieId  service_id\n",
       "0           4        1     3.0  1573944252                75           0\n",
       "1           4      260     3.5  1573938415                 9           0\n",
       "2           4      296     4.0  1573938898                13           0\n",
       "3           4      541     4.5  1573944303                86           0\n",
       "4           4      589     4.0  1573939042                89           0\n",
       "...       ...      ...     ...         ...               ...         ...\n",
       "67396  162190   204698     1.5  1573824042                 0           0\n",
       "67397  162257   204698     3.0  1573410931                 0           0\n",
       "67398  162305   204692     1.5  1573107264              1024           5\n",
       "67399  162516   179749     3.0  1572577455              2174          11\n",
       "67400  162536     1704     4.5  1573386104                56           0\n",
       "\n",
       "[67401 rows x 6 columns]"
      ]
     },
     "execution_count": 20,
     "metadata": {},
     "output_type": "execute_result"
    }
   ],
   "source": [
    "# Map the values to create a new column 'service_id' based on remapped_movieId\n",
    "month_rating_df['service_id'] = month_rating_df['remapped_movieId'].map(mapping_dict)\n",
    "\n",
    "# Now month_rating_df contains a new 'service_id' column mapped based on remapped_movieId\n",
    "month_rating_df"
   ]
  },
  {
   "cell_type": "code",
   "execution_count": 21,
   "metadata": {},
   "outputs": [
    {
     "data": {
      "text/plain": [
       "0"
      ]
     },
     "execution_count": 21,
     "metadata": {},
     "output_type": "execute_result"
    }
   ],
   "source": [
    "month_rating_df['service_id'].isnull().sum()"
   ]
  },
  {
   "cell_type": "code",
   "execution_count": 22,
   "metadata": {},
   "outputs": [
    {
     "data": {
      "text/html": [
       "<div>\n",
       "<style scoped>\n",
       "    .dataframe tbody tr th:only-of-type {\n",
       "        vertical-align: middle;\n",
       "    }\n",
       "\n",
       "    .dataframe tbody tr th {\n",
       "        vertical-align: top;\n",
       "    }\n",
       "\n",
       "    .dataframe thead th {\n",
       "        text-align: right;\n",
       "    }\n",
       "</style>\n",
       "<table border=\"1\" class=\"dataframe\">\n",
       "  <thead>\n",
       "    <tr style=\"text-align: right;\">\n",
       "      <th></th>\n",
       "      <th>userId</th>\n",
       "      <th>movieId</th>\n",
       "      <th>rating</th>\n",
       "      <th>timestamp</th>\n",
       "      <th>remapped_movieId</th>\n",
       "      <th>service_id</th>\n",
       "    </tr>\n",
       "  </thead>\n",
       "  <tbody>\n",
       "    <tr>\n",
       "      <th>0</th>\n",
       "      <td>4</td>\n",
       "      <td>1</td>\n",
       "      <td>3.0</td>\n",
       "      <td>1573944252</td>\n",
       "      <td>75</td>\n",
       "      <td>0</td>\n",
       "    </tr>\n",
       "    <tr>\n",
       "      <th>1</th>\n",
       "      <td>4</td>\n",
       "      <td>260</td>\n",
       "      <td>3.5</td>\n",
       "      <td>1573938415</td>\n",
       "      <td>9</td>\n",
       "      <td>0</td>\n",
       "    </tr>\n",
       "    <tr>\n",
       "      <th>2</th>\n",
       "      <td>4</td>\n",
       "      <td>296</td>\n",
       "      <td>4.0</td>\n",
       "      <td>1573938898</td>\n",
       "      <td>13</td>\n",
       "      <td>0</td>\n",
       "    </tr>\n",
       "    <tr>\n",
       "      <th>3</th>\n",
       "      <td>4</td>\n",
       "      <td>541</td>\n",
       "      <td>4.5</td>\n",
       "      <td>1573944303</td>\n",
       "      <td>86</td>\n",
       "      <td>0</td>\n",
       "    </tr>\n",
       "    <tr>\n",
       "      <th>4</th>\n",
       "      <td>4</td>\n",
       "      <td>589</td>\n",
       "      <td>4.0</td>\n",
       "      <td>1573939042</td>\n",
       "      <td>89</td>\n",
       "      <td>0</td>\n",
       "    </tr>\n",
       "    <tr>\n",
       "      <th>...</th>\n",
       "      <td>...</td>\n",
       "      <td>...</td>\n",
       "      <td>...</td>\n",
       "      <td>...</td>\n",
       "      <td>...</td>\n",
       "      <td>...</td>\n",
       "    </tr>\n",
       "    <tr>\n",
       "      <th>67396</th>\n",
       "      <td>162190</td>\n",
       "      <td>204698</td>\n",
       "      <td>1.5</td>\n",
       "      <td>1573824042</td>\n",
       "      <td>0</td>\n",
       "      <td>0</td>\n",
       "    </tr>\n",
       "    <tr>\n",
       "      <th>67397</th>\n",
       "      <td>162257</td>\n",
       "      <td>204698</td>\n",
       "      <td>3.0</td>\n",
       "      <td>1573410931</td>\n",
       "      <td>0</td>\n",
       "      <td>0</td>\n",
       "    </tr>\n",
       "    <tr>\n",
       "      <th>67398</th>\n",
       "      <td>162305</td>\n",
       "      <td>204692</td>\n",
       "      <td>1.5</td>\n",
       "      <td>1573107264</td>\n",
       "      <td>1024</td>\n",
       "      <td>5</td>\n",
       "    </tr>\n",
       "    <tr>\n",
       "      <th>67399</th>\n",
       "      <td>162516</td>\n",
       "      <td>179749</td>\n",
       "      <td>3.0</td>\n",
       "      <td>1572577455</td>\n",
       "      <td>2174</td>\n",
       "      <td>11</td>\n",
       "    </tr>\n",
       "    <tr>\n",
       "      <th>67400</th>\n",
       "      <td>162536</td>\n",
       "      <td>1704</td>\n",
       "      <td>4.5</td>\n",
       "      <td>1573386104</td>\n",
       "      <td>56</td>\n",
       "      <td>0</td>\n",
       "    </tr>\n",
       "  </tbody>\n",
       "</table>\n",
       "<p>67401 rows × 6 columns</p>\n",
       "</div>"
      ],
      "text/plain": [
       "       userId  movieId  rating   timestamp  remapped_movieId  service_id\n",
       "0           4        1     3.0  1573944252                75           0\n",
       "1           4      260     3.5  1573938415                 9           0\n",
       "2           4      296     4.0  1573938898                13           0\n",
       "3           4      541     4.5  1573944303                86           0\n",
       "4           4      589     4.0  1573939042                89           0\n",
       "...       ...      ...     ...         ...               ...         ...\n",
       "67396  162190   204698     1.5  1573824042                 0           0\n",
       "67397  162257   204698     3.0  1573410931                 0           0\n",
       "67398  162305   204692     1.5  1573107264              1024           5\n",
       "67399  162516   179749     3.0  1572577455              2174          11\n",
       "67400  162536     1704     4.5  1573386104                56           0\n",
       "\n",
       "[67401 rows x 6 columns]"
      ]
     },
     "execution_count": 22,
     "metadata": {},
     "output_type": "execute_result"
    }
   ],
   "source": [
    "month_rating_df = month_rating_df.dropna()\n",
    "month_rating_df['service_id'] = month_rating_df['service_id'].astype(int)\n",
    "month_rating_df"
   ]
  },
  {
   "cell_type": "code",
   "execution_count": 23,
   "metadata": {
    "colab": {
     "base_uri": "https://localhost:8080/"
    },
    "executionInfo": {
     "elapsed": 9,
     "status": "ok",
     "timestamp": 1692111647092,
     "user": {
      "displayName": "배홍섭",
      "userId": "04508707267981176802"
     },
     "user_tz": -540
    },
    "id": "mzm7_lSyrvgW",
    "outputId": "39d50398-e3a4-4bbb-e86f-f1cbc3b1a2a3"
   },
   "outputs": [
    {
     "name": "stdout",
     "output_type": "stream",
     "text": [
      "0\n",
      "63\n"
     ]
    }
   ],
   "source": [
    "print(month_rating_df['service_id'].min())\n",
    "print(month_rating_df['service_id'].max())"
   ]
  },
  {
   "cell_type": "code",
   "execution_count": 24,
   "metadata": {
    "colab": {
     "base_uri": "https://localhost:8080/"
    },
    "executionInfo": {
     "elapsed": 8,
     "status": "ok",
     "timestamp": 1692111647092,
     "user": {
      "displayName": "배홍섭",
      "userId": "04508707267981176802"
     },
     "user_tz": -540
    },
    "id": "r2261SW-rz-p",
    "outputId": "bdbe9fd5-31bd-4371-e92d-ad3863619303"
   },
   "outputs": [
    {
     "data": {
      "text/plain": [
       "0     17625\n",
       "1      8821\n",
       "2      5886\n",
       "3      4392\n",
       "4      3481\n",
       "      ...  \n",
       "56      168\n",
       "62      168\n",
       "61      168\n",
       "39      168\n",
       "63      129\n",
       "Name: service_id, Length: 64, dtype: int64"
      ]
     },
     "execution_count": 24,
     "metadata": {},
     "output_type": "execute_result"
    }
   ],
   "source": [
    "month_rating_df['service_id'].value_counts()"
   ]
  },
  {
   "cell_type": "markdown",
   "metadata": {
    "id": "83uKWjHD19u0"
   },
   "source": [
    "# 실험단계\n",
    "1. 16개의 MECS로 구성된 시스템에 U개의 user를 random하게 포설 (user의 번호를 포설된 순으로 1부터 U까지 매김)  \n",
    "2. 무비랜즈 파일을 열어 첫번째 timestamp t1가 있는 정보 (i.e., 무비1)를 user 1에 할당 (즉, user 1이 t1에서 무비1선택)\n",
    "3. 선택한무비가위에서나눈128개의서비스ID중어디에속하는지판단하여해당서비스ID의요청횟수1증가시킴\n",
    "4. 이와같은방법으로timeslott동안서비스ID별요청횟수를얻음"
   ]
  },
  {
   "cell_type": "code",
   "execution_count": 25,
   "metadata": {
    "colab": {
     "base_uri": "https://localhost:8080/"
    },
    "executionInfo": {
     "elapsed": 7,
     "status": "ok",
     "timestamp": 1692111647092,
     "user": {
      "displayName": "배홍섭",
      "userId": "04508707267981176802"
     },
     "user_tz": -540
    },
    "id": "BediAsu5zx-w",
    "outputId": "86f77145-1c2c-44fb-d6ee-804c9d2af40c"
   },
   "outputs": [
    {
     "name": "stdout",
     "output_type": "stream",
     "text": [
      "[(0, 0), (0, 1), (0, 2), (1, 0), (1, 1), (1, 2), (2, 0), (2, 1), (2, 2)]\n",
      "min,  max :  0 2\n",
      "now_positions[1] :  (1.6116385036656, 1.3962787899765)\n"
     ]
    }
   ],
   "source": [
    "import random\n",
    "\n",
    "# Set the seed value\n",
    "random.seed(42)\n",
    "\n",
    "# Example usage\n",
    "number_of_sample_users = 1000\n",
    "number_of_mecs = 9  # Number of sqrt MECs\n",
    "mecs = [(x, y) for x in range(int(number_of_mecs**(1/2))) for y in range(int(number_of_mecs**(1/2)))]\n",
    "\n",
    "print(mecs)\n",
    "\n",
    "mean_velocity = 1.0\n",
    "correlation_time = 0.5\n",
    "\n",
    "# Number of move\n",
    "num_steps = 1\n",
    "\n",
    "now_positions = [(round(random.uniform(0, int(number_of_mecs**(1/2))-1), 13), round(random.uniform(0, int(number_of_mecs**(1/2))-1), 13)) for _ in range(number_of_sample_users)]\n",
    "print('min,  max : ', 0, int(number_of_mecs**(1/2))-1)\n",
    "print('now_positions[1] : ', now_positions[10])"
   ]
  },
  {
   "cell_type": "code",
   "execution_count": 26,
   "metadata": {
    "colab": {
     "base_uri": "https://localhost:8080/",
     "height": 423
    },
    "executionInfo": {
     "elapsed": 686,
     "status": "ok",
     "timestamp": 1692111647771,
     "user": {
      "displayName": "배홍섭",
      "userId": "04508707267981176802"
     },
     "user_tz": -540
    },
    "id": "pGS6AdaZ2YLD",
    "outputId": "972e711f-7995-4d68-b073-aab3b27d7409"
   },
   "outputs": [
    {
     "data": {
      "text/html": [
       "<div>\n",
       "<style scoped>\n",
       "    .dataframe tbody tr th:only-of-type {\n",
       "        vertical-align: middle;\n",
       "    }\n",
       "\n",
       "    .dataframe tbody tr th {\n",
       "        vertical-align: top;\n",
       "    }\n",
       "\n",
       "    .dataframe thead th {\n",
       "        text-align: right;\n",
       "    }\n",
       "</style>\n",
       "<table border=\"1\" class=\"dataframe\">\n",
       "  <thead>\n",
       "    <tr style=\"text-align: right;\">\n",
       "      <th></th>\n",
       "      <th>userId</th>\n",
       "      <th>x_position</th>\n",
       "      <th>y_position</th>\n",
       "    </tr>\n",
       "  </thead>\n",
       "  <tbody>\n",
       "    <tr>\n",
       "      <th>0</th>\n",
       "      <td>0</td>\n",
       "      <td>1.278854</td>\n",
       "      <td>0.050022</td>\n",
       "    </tr>\n",
       "    <tr>\n",
       "      <th>1</th>\n",
       "      <td>1</td>\n",
       "      <td>0.550059</td>\n",
       "      <td>0.446421</td>\n",
       "    </tr>\n",
       "    <tr>\n",
       "      <th>2</th>\n",
       "      <td>2</td>\n",
       "      <td>1.472942</td>\n",
       "      <td>1.353399</td>\n",
       "    </tr>\n",
       "    <tr>\n",
       "      <th>3</th>\n",
       "      <td>3</td>\n",
       "      <td>1.784359</td>\n",
       "      <td>0.173878</td>\n",
       "    </tr>\n",
       "    <tr>\n",
       "      <th>4</th>\n",
       "      <td>4</td>\n",
       "      <td>0.843844</td>\n",
       "      <td>0.059594</td>\n",
       "    </tr>\n",
       "    <tr>\n",
       "      <th>...</th>\n",
       "      <td>...</td>\n",
       "      <td>...</td>\n",
       "      <td>...</td>\n",
       "    </tr>\n",
       "    <tr>\n",
       "      <th>995</th>\n",
       "      <td>995</td>\n",
       "      <td>0.112888</td>\n",
       "      <td>1.007792</td>\n",
       "    </tr>\n",
       "    <tr>\n",
       "      <th>996</th>\n",
       "      <td>996</td>\n",
       "      <td>0.578527</td>\n",
       "      <td>1.631573</td>\n",
       "    </tr>\n",
       "    <tr>\n",
       "      <th>997</th>\n",
       "      <td>997</td>\n",
       "      <td>1.463035</td>\n",
       "      <td>0.637807</td>\n",
       "    </tr>\n",
       "    <tr>\n",
       "      <th>998</th>\n",
       "      <td>998</td>\n",
       "      <td>1.195835</td>\n",
       "      <td>1.345064</td>\n",
       "    </tr>\n",
       "    <tr>\n",
       "      <th>999</th>\n",
       "      <td>999</td>\n",
       "      <td>0.641330</td>\n",
       "      <td>0.603529</td>\n",
       "    </tr>\n",
       "  </tbody>\n",
       "</table>\n",
       "<p>1000 rows × 3 columns</p>\n",
       "</div>"
      ],
      "text/plain": [
       "     userId  x_position  y_position\n",
       "0         0    1.278854    0.050022\n",
       "1         1    0.550059    0.446421\n",
       "2         2    1.472942    1.353399\n",
       "3         3    1.784359    0.173878\n",
       "4         4    0.843844    0.059594\n",
       "..      ...         ...         ...\n",
       "995     995    0.112888    1.007792\n",
       "996     996    0.578527    1.631573\n",
       "997     997    1.463035    0.637807\n",
       "998     998    1.195835    1.345064\n",
       "999     999    0.641330    0.603529\n",
       "\n",
       "[1000 rows x 3 columns]"
      ]
     },
     "execution_count": 26,
     "metadata": {},
     "output_type": "execute_result"
    }
   ],
   "source": [
    "data = {\n",
    "    'userId' : range(number_of_sample_users),\n",
    "    'x_position' : [now_position[0] for now_position in now_positions],\n",
    "    'y_position' : [now_position[1] for now_position in now_positions]\n",
    "}\n",
    "\n",
    "user_df = pd.DataFrame(data)\n",
    "user_df"
   ]
  },
  {
   "cell_type": "code",
   "execution_count": 27,
   "metadata": {
    "colab": {
     "base_uri": "https://localhost:8080/",
     "height": 472
    },
    "executionInfo": {
     "elapsed": 10,
     "status": "ok",
     "timestamp": 1692111647771,
     "user": {
      "displayName": "배홍섭",
      "userId": "04508707267981176802"
     },
     "user_tz": -540
    },
    "id": "NWrV5a053fvF",
    "outputId": "2bab5b39-a914-486d-ee73-273d4a3788c8"
   },
   "outputs": [
    {
     "data": {
      "image/png": "[encoded data removed]",
      "text/plain": [
       "<Figure size 640x480 with 1 Axes>"
      ]
     },
     "metadata": {},
     "output_type": "display_data"
    }
   ],
   "source": [
    "import pandas as pd\n",
    "import matplotlib.pyplot as plt\n",
    "\n",
    "# Replace 'specific_column' and 'other_column' with the actual column names you want to visualize\n",
    "plt.scatter(user_df['x_position'],user_df['y_position'])\n",
    "plt.xlabel('x_position')\n",
    "plt.ylabel('y_position')\n",
    "plt.title('Scatter Plot')\n",
    "plt.show()"
   ]
  },
  {
   "cell_type": "code",
   "execution_count": 28,
   "metadata": {
    "executionInfo": {
     "elapsed": 8,
     "status": "ok",
     "timestamp": 1692111647771,
     "user": {
      "displayName": "배홍섭",
      "userId": "04508707267981176802"
     },
     "user_tz": -540
    },
    "id": "TStKaW3I3lhz"
   },
   "outputs": [],
   "source": [
    "# time_t1, time_interval 모두 timestamp 형태\n",
    "\n",
    "import pandas as pd\n",
    "import numpy as np\n",
    "\n",
    "def make_request_list(dataframe, now, time_interval):\n",
    "    now_datetime = pd.to_datetime(now, unit='s')\n",
    "    end_datetime = now_datetime + pd.Timedelta(hours=time_interval)\n",
    "    request_df = dataframe[(pd.to_datetime(dataframe['timestamp'], unit='s') >= now_datetime) & (pd.to_datetime(dataframe['timestamp'], unit='s') <= end_datetime)]\n",
    "    end_time = int(end_datetime.timestamp())\n",
    "    return request_df, end_time\n",
    "\n",
    "now = start_timestamp  # 현재 시간(timestamp)\n",
    "time_interval = 6  # 시간 간격(hours 단위)\n",
    "ex_rating_df = month_rating_df.copy()"
   ]
  },
  {
   "cell_type": "code",
   "execution_count": 29,
   "metadata": {
    "colab": {
     "base_uri": "https://localhost:8080/",
     "height": 459
    },
    "executionInfo": {
     "elapsed": 8,
     "status": "ok",
     "timestamp": 1692111647771,
     "user": {
      "displayName": "배홍섭",
      "userId": "04508707267981176802"
     },
     "user_tz": -540
    },
    "id": "2qLW8ikA6Zu9",
    "outputId": "56ee685f-997f-4afe-972f-ebf80db40338"
   },
   "outputs": [
    {
     "name": "stdout",
     "output_type": "stream",
     "text": [
      "Request DataFrame:\n",
      "End Time: 1572555600\n"
     ]
    },
    {
     "data": {
      "text/html": [
       "<div>\n",
       "<style scoped>\n",
       "    .dataframe tbody tr th:only-of-type {\n",
       "        vertical-align: middle;\n",
       "    }\n",
       "\n",
       "    .dataframe tbody tr th {\n",
       "        vertical-align: top;\n",
       "    }\n",
       "\n",
       "    .dataframe thead th {\n",
       "        text-align: right;\n",
       "    }\n",
       "</style>\n",
       "<table border=\"1\" class=\"dataframe\">\n",
       "  <thead>\n",
       "    <tr style=\"text-align: right;\">\n",
       "      <th></th>\n",
       "      <th>userId</th>\n",
       "      <th>movieId</th>\n",
       "      <th>rating</th>\n",
       "      <th>timestamp</th>\n",
       "      <th>remapped_movieId</th>\n",
       "      <th>service_id</th>\n",
       "    </tr>\n",
       "  </thead>\n",
       "  <tbody>\n",
       "    <tr>\n",
       "      <th>264</th>\n",
       "      <td>847</td>\n",
       "      <td>69761</td>\n",
       "      <td>5.0</td>\n",
       "      <td>1572552852</td>\n",
       "      <td>5415</td>\n",
       "      <td>31</td>\n",
       "    </tr>\n",
       "    <tr>\n",
       "      <th>329</th>\n",
       "      <td>1696</td>\n",
       "      <td>4489</td>\n",
       "      <td>4.5</td>\n",
       "      <td>1572547031</td>\n",
       "      <td>1085</td>\n",
       "      <td>5</td>\n",
       "    </tr>\n",
       "    <tr>\n",
       "      <th>330</th>\n",
       "      <td>1696</td>\n",
       "      <td>54272</td>\n",
       "      <td>4.0</td>\n",
       "      <td>1572547009</td>\n",
       "      <td>382</td>\n",
       "      <td>2</td>\n",
       "    </tr>\n",
       "    <tr>\n",
       "      <th>984</th>\n",
       "      <td>4825</td>\n",
       "      <td>3639</td>\n",
       "      <td>3.0</td>\n",
       "      <td>1572536938</td>\n",
       "      <td>2923</td>\n",
       "      <td>16</td>\n",
       "    </tr>\n",
       "    <tr>\n",
       "      <th>985</th>\n",
       "      <td>4825</td>\n",
       "      <td>5872</td>\n",
       "      <td>2.5</td>\n",
       "      <td>1572536853</td>\n",
       "      <td>897</td>\n",
       "      <td>4</td>\n",
       "    </tr>\n",
       "    <tr>\n",
       "      <th>...</th>\n",
       "      <td>...</td>\n",
       "      <td>...</td>\n",
       "      <td>...</td>\n",
       "      <td>...</td>\n",
       "      <td>...</td>\n",
       "      <td>...</td>\n",
       "    </tr>\n",
       "    <tr>\n",
       "      <th>64346</th>\n",
       "      <td>154484</td>\n",
       "      <td>71304</td>\n",
       "      <td>3.5</td>\n",
       "      <td>1572552887</td>\n",
       "      <td>1858</td>\n",
       "      <td>10</td>\n",
       "    </tr>\n",
       "    <tr>\n",
       "      <th>66030</th>\n",
       "      <td>158539</td>\n",
       "      <td>6502</td>\n",
       "      <td>4.0</td>\n",
       "      <td>1572543089</td>\n",
       "      <td>218</td>\n",
       "      <td>1</td>\n",
       "    </tr>\n",
       "    <tr>\n",
       "      <th>66098</th>\n",
       "      <td>158539</td>\n",
       "      <td>165603</td>\n",
       "      <td>4.5</td>\n",
       "      <td>1572546517</td>\n",
       "      <td>872</td>\n",
       "      <td>4</td>\n",
       "    </tr>\n",
       "    <tr>\n",
       "      <th>66109</th>\n",
       "      <td>158539</td>\n",
       "      <td>179085</td>\n",
       "      <td>4.0</td>\n",
       "      <td>1572543076</td>\n",
       "      <td>1121</td>\n",
       "      <td>6</td>\n",
       "    </tr>\n",
       "    <tr>\n",
       "      <th>67242</th>\n",
       "      <td>162140</td>\n",
       "      <td>7438</td>\n",
       "      <td>5.0</td>\n",
       "      <td>1572551307</td>\n",
       "      <td>69</td>\n",
       "      <td>0</td>\n",
       "    </tr>\n",
       "  </tbody>\n",
       "</table>\n",
       "<p>705 rows × 6 columns</p>\n",
       "</div>"
      ],
      "text/plain": [
       "       userId  movieId  rating   timestamp  remapped_movieId  service_id\n",
       "264       847    69761     5.0  1572552852              5415          31\n",
       "329      1696     4489     4.5  1572547031              1085           5\n",
       "330      1696    54272     4.0  1572547009               382           2\n",
       "984      4825     3639     3.0  1572536938              2923          16\n",
       "985      4825     5872     2.5  1572536853               897           4\n",
       "...       ...      ...     ...         ...               ...         ...\n",
       "64346  154484    71304     3.5  1572552887              1858          10\n",
       "66030  158539     6502     4.0  1572543089               218           1\n",
       "66098  158539   165603     4.5  1572546517               872           4\n",
       "66109  158539   179085     4.0  1572543076              1121           6\n",
       "67242  162140     7438     5.0  1572551307                69           0\n",
       "\n",
       "[705 rows x 6 columns]"
      ]
     },
     "execution_count": 29,
     "metadata": {},
     "output_type": "execute_result"
    }
   ],
   "source": [
    "request_df, end_time = make_request_list(ex_rating_df, now, time_interval)\n",
    "\n",
    "print(\"Request DataFrame:\")\n",
    "print(\"End Time:\", end_time)\n",
    "request_df"
   ]
  },
  {
   "cell_type": "code",
   "execution_count": 30,
   "metadata": {
    "colab": {
     "base_uri": "https://localhost:8080/",
     "height": 423
    },
    "executionInfo": {
     "elapsed": 6,
     "status": "ok",
     "timestamp": 1692111647771,
     "user": {
      "displayName": "배홍섭",
      "userId": "04508707267981176802"
     },
     "user_tz": -540
    },
    "id": "0wQW4BGv83pz",
    "outputId": "494f9b39-5f30-41d5-fbcb-ae8af628adc2"
   },
   "outputs": [
    {
     "data": {
      "text/html": [
       "<div>\n",
       "<style scoped>\n",
       "    .dataframe tbody tr th:only-of-type {\n",
       "        vertical-align: middle;\n",
       "    }\n",
       "\n",
       "    .dataframe tbody tr th {\n",
       "        vertical-align: top;\n",
       "    }\n",
       "\n",
       "    .dataframe thead th {\n",
       "        text-align: right;\n",
       "    }\n",
       "</style>\n",
       "<table border=\"1\" class=\"dataframe\">\n",
       "  <thead>\n",
       "    <tr style=\"text-align: right;\">\n",
       "      <th></th>\n",
       "      <th>userId</th>\n",
       "      <th>x_position</th>\n",
       "      <th>y_position</th>\n",
       "      <th>request_service_ids</th>\n",
       "    </tr>\n",
       "  </thead>\n",
       "  <tbody>\n",
       "    <tr>\n",
       "      <th>0</th>\n",
       "      <td>0</td>\n",
       "      <td>1.278854</td>\n",
       "      <td>0.050022</td>\n",
       "      <td>[31]</td>\n",
       "    </tr>\n",
       "    <tr>\n",
       "      <th>1</th>\n",
       "      <td>1</td>\n",
       "      <td>0.550059</td>\n",
       "      <td>0.446421</td>\n",
       "      <td>[5]</td>\n",
       "    </tr>\n",
       "    <tr>\n",
       "      <th>2</th>\n",
       "      <td>2</td>\n",
       "      <td>1.472942</td>\n",
       "      <td>1.353399</td>\n",
       "      <td>[2]</td>\n",
       "    </tr>\n",
       "    <tr>\n",
       "      <th>3</th>\n",
       "      <td>3</td>\n",
       "      <td>1.784359</td>\n",
       "      <td>0.173878</td>\n",
       "      <td>[16]</td>\n",
       "    </tr>\n",
       "    <tr>\n",
       "      <th>4</th>\n",
       "      <td>4</td>\n",
       "      <td>0.843844</td>\n",
       "      <td>0.059594</td>\n",
       "      <td>[4]</td>\n",
       "    </tr>\n",
       "    <tr>\n",
       "      <th>...</th>\n",
       "      <td>...</td>\n",
       "      <td>...</td>\n",
       "      <td>...</td>\n",
       "      <td>...</td>\n",
       "    </tr>\n",
       "    <tr>\n",
       "      <th>995</th>\n",
       "      <td>995</td>\n",
       "      <td>0.112888</td>\n",
       "      <td>1.007792</td>\n",
       "      <td>[]</td>\n",
       "    </tr>\n",
       "    <tr>\n",
       "      <th>996</th>\n",
       "      <td>996</td>\n",
       "      <td>0.578527</td>\n",
       "      <td>1.631573</td>\n",
       "      <td>[]</td>\n",
       "    </tr>\n",
       "    <tr>\n",
       "      <th>997</th>\n",
       "      <td>997</td>\n",
       "      <td>1.463035</td>\n",
       "      <td>0.637807</td>\n",
       "      <td>[]</td>\n",
       "    </tr>\n",
       "    <tr>\n",
       "      <th>998</th>\n",
       "      <td>998</td>\n",
       "      <td>1.195835</td>\n",
       "      <td>1.345064</td>\n",
       "      <td>[]</td>\n",
       "    </tr>\n",
       "    <tr>\n",
       "      <th>999</th>\n",
       "      <td>999</td>\n",
       "      <td>0.641330</td>\n",
       "      <td>0.603529</td>\n",
       "      <td>[]</td>\n",
       "    </tr>\n",
       "  </tbody>\n",
       "</table>\n",
       "<p>1000 rows × 4 columns</p>\n",
       "</div>"
      ],
      "text/plain": [
       "     userId  x_position  y_position request_service_ids\n",
       "0         0    1.278854    0.050022                [31]\n",
       "1         1    0.550059    0.446421                 [5]\n",
       "2         2    1.472942    1.353399                 [2]\n",
       "3         3    1.784359    0.173878                [16]\n",
       "4         4    0.843844    0.059594                 [4]\n",
       "..      ...         ...         ...                 ...\n",
       "995     995    0.112888    1.007792                  []\n",
       "996     996    0.578527    1.631573                  []\n",
       "997     997    1.463035    0.637807                  []\n",
       "998     998    1.195835    1.345064                  []\n",
       "999     999    0.641330    0.603529                  []\n",
       "\n",
       "[1000 rows x 4 columns]"
      ]
     },
     "execution_count": 30,
     "metadata": {},
     "output_type": "execute_result"
    }
   ],
   "source": [
    "import pandas as pd\n",
    "\n",
    "# Create a dictionary to map user IDs to their corresponding service_ids\n",
    "request_df['userId'] = [i%number_of_sample_users for i in range(len(request_df))]\n",
    "user_service_mapping = request_df.groupby('userId')['service_id'].apply(list).to_dict()\n",
    "\n",
    "# Update the 'request_service_ids' column in user_df\n",
    "user_df['request_service_ids'] = user_df['userId'].map(user_service_mapping)\n",
    "user_df['request_service_ids'] = user_df['request_service_ids'].fillna(\"\").apply(list)\n",
    "user_df"
   ]
  },
  {
   "cell_type": "code",
   "execution_count": 31,
   "metadata": {},
   "outputs": [
    {
     "data": {
      "text/plain": [
       "userId                      454\n",
       "x_position             0.098089\n",
       "y_position             1.212813\n",
       "request_service_ids         [1]\n",
       "Name: 454, dtype: object"
      ]
     },
     "execution_count": 31,
     "metadata": {},
     "output_type": "execute_result"
    }
   ],
   "source": [
    "user_df.iloc[454]"
   ]
  },
  {
   "cell_type": "code",
   "execution_count": 32,
   "metadata": {
    "colab": {
     "base_uri": "https://localhost:8080/",
     "height": 423
    },
    "executionInfo": {
     "elapsed": 464,
     "status": "ok",
     "timestamp": 1692111648229,
     "user": {
      "displayName": "배홍섭",
      "userId": "04508707267981176802"
     },
     "user_tz": -540
    },
    "id": "SqUuk5RzOKMd",
    "outputId": "8e005fa6-3850-4b60-a4ca-694aeda05ae5"
   },
   "outputs": [
    {
     "data": {
      "text/html": [
       "<div>\n",
       "<style scoped>\n",
       "    .dataframe tbody tr th:only-of-type {\n",
       "        vertical-align: middle;\n",
       "    }\n",
       "\n",
       "    .dataframe tbody tr th {\n",
       "        vertical-align: top;\n",
       "    }\n",
       "\n",
       "    .dataframe thead th {\n",
       "        text-align: right;\n",
       "    }\n",
       "</style>\n",
       "<table border=\"1\" class=\"dataframe\">\n",
       "  <thead>\n",
       "    <tr style=\"text-align: right;\">\n",
       "      <th></th>\n",
       "      <th>userId</th>\n",
       "      <th>x_position</th>\n",
       "      <th>y_position</th>\n",
       "      <th>request_service_ids</th>\n",
       "      <th>nearest_mec</th>\n",
       "    </tr>\n",
       "  </thead>\n",
       "  <tbody>\n",
       "    <tr>\n",
       "      <th>0</th>\n",
       "      <td>0</td>\n",
       "      <td>1.278854</td>\n",
       "      <td>0.050022</td>\n",
       "      <td>[31]</td>\n",
       "      <td>3</td>\n",
       "    </tr>\n",
       "    <tr>\n",
       "      <th>1</th>\n",
       "      <td>1</td>\n",
       "      <td>0.550059</td>\n",
       "      <td>0.446421</td>\n",
       "      <td>[5]</td>\n",
       "      <td>3</td>\n",
       "    </tr>\n",
       "    <tr>\n",
       "      <th>2</th>\n",
       "      <td>2</td>\n",
       "      <td>1.472942</td>\n",
       "      <td>1.353399</td>\n",
       "      <td>[2]</td>\n",
       "      <td>4</td>\n",
       "    </tr>\n",
       "    <tr>\n",
       "      <th>3</th>\n",
       "      <td>3</td>\n",
       "      <td>1.784359</td>\n",
       "      <td>0.173878</td>\n",
       "      <td>[16]</td>\n",
       "      <td>6</td>\n",
       "    </tr>\n",
       "    <tr>\n",
       "      <th>4</th>\n",
       "      <td>4</td>\n",
       "      <td>0.843844</td>\n",
       "      <td>0.059594</td>\n",
       "      <td>[4]</td>\n",
       "      <td>3</td>\n",
       "    </tr>\n",
       "    <tr>\n",
       "      <th>...</th>\n",
       "      <td>...</td>\n",
       "      <td>...</td>\n",
       "      <td>...</td>\n",
       "      <td>...</td>\n",
       "      <td>...</td>\n",
       "    </tr>\n",
       "    <tr>\n",
       "      <th>995</th>\n",
       "      <td>995</td>\n",
       "      <td>0.112888</td>\n",
       "      <td>1.007792</td>\n",
       "      <td>[]</td>\n",
       "      <td>1</td>\n",
       "    </tr>\n",
       "    <tr>\n",
       "      <th>996</th>\n",
       "      <td>996</td>\n",
       "      <td>0.578527</td>\n",
       "      <td>1.631573</td>\n",
       "      <td>[]</td>\n",
       "      <td>5</td>\n",
       "    </tr>\n",
       "    <tr>\n",
       "      <th>997</th>\n",
       "      <td>997</td>\n",
       "      <td>1.463035</td>\n",
       "      <td>0.637807</td>\n",
       "      <td>[]</td>\n",
       "      <td>4</td>\n",
       "    </tr>\n",
       "    <tr>\n",
       "      <th>998</th>\n",
       "      <td>998</td>\n",
       "      <td>1.195835</td>\n",
       "      <td>1.345064</td>\n",
       "      <td>[]</td>\n",
       "      <td>4</td>\n",
       "    </tr>\n",
       "    <tr>\n",
       "      <th>999</th>\n",
       "      <td>999</td>\n",
       "      <td>0.641330</td>\n",
       "      <td>0.603529</td>\n",
       "      <td>[]</td>\n",
       "      <td>4</td>\n",
       "    </tr>\n",
       "  </tbody>\n",
       "</table>\n",
       "<p>1000 rows × 5 columns</p>\n",
       "</div>"
      ],
      "text/plain": [
       "     userId  x_position  y_position request_service_ids  nearest_mec\n",
       "0         0    1.278854    0.050022                [31]            3\n",
       "1         1    0.550059    0.446421                 [5]            3\n",
       "2         2    1.472942    1.353399                 [2]            4\n",
       "3         3    1.784359    0.173878                [16]            6\n",
       "4         4    0.843844    0.059594                 [4]            3\n",
       "..      ...         ...         ...                 ...          ...\n",
       "995     995    0.112888    1.007792                  []            1\n",
       "996     996    0.578527    1.631573                  []            5\n",
       "997     997    1.463035    0.637807                  []            4\n",
       "998     998    1.195835    1.345064                  []            4\n",
       "999     999    0.641330    0.603529                  []            4\n",
       "\n",
       "[1000 rows x 5 columns]"
      ]
     },
     "execution_count": 32,
     "metadata": {},
     "output_type": "execute_result"
    }
   ],
   "source": [
    "import numpy as np\n",
    "\n",
    "mecs_array = np.array(mecs)\n",
    "\n",
    "def calculate_nearest_mec(group):\n",
    "    distances = np.sqrt((group['x_position'].values[:, np.newaxis] - mecs_array[:, 0])**2 + (group['y_position'].values[:, np.newaxis] - mecs_array[:, 1])**2)\n",
    "    nearest_mec_index = np.argmin(distances)\n",
    "    group['nearest_mec'] = nearest_mec_index\n",
    "    return group\n",
    "\n",
    "user_df = user_df.groupby('userId').apply(calculate_nearest_mec)\n",
    "user_df"
   ]
  },
  {
   "cell_type": "code",
   "execution_count": 33,
   "metadata": {
    "colab": {
     "base_uri": "https://localhost:8080/"
    },
    "executionInfo": {
     "elapsed": 6,
     "status": "ok",
     "timestamp": 1692111648230,
     "user": {
      "displayName": "배홍섭",
      "userId": "04508707267981176802"
     },
     "user_tz": -540
    },
    "id": "jOONHfhSOO_N",
    "outputId": "c32803b9-19ac-4dfc-d1a8-7583c12aa979"
   },
   "outputs": [
    {
     "name": "stdout",
     "output_type": "stream",
     "text": [
      "[[17  8  5  3  3  0  1  1  1  1  1  0  0  0  0  1  0  0  1  0  0  0  0  1\n",
      "   0  0  0  0  1  0  0  0  0  0  0  0  0  0  0  0  0  0  0  0  0  0  0  0\n",
      "   0  0  0  0  0  0  0  0  0  0  0  0  0  0  0  0]\n",
      " [37 12  3  4  3  2  1  0  3  3  1  1  1  0  1  0  0  0  0  1  1  1  0  1\n",
      "   0  0  0  0  0  1  0  0  0  0  0  0  0  0  0  1  0  0  0  1  0  0  0  0\n",
      "   0  2  0  0  0  1  0  0  0  0  0  0  3  1  0  0]\n",
      " [21  4  4  1  0  0  2  1  0  0  0  0  2  1  0  0  0  0  0  0  1  0  0  0\n",
      "   1  0  0  0  0  0  0  0  0  0  0  0  0  0  0  0  0  2  0  0  0  0  0  0\n",
      "   0  0  0  0  0  0  0  0  0  0  0  0  0  0  0  0]\n",
      " [30 14  7  9  3  2  2  2  1  1  2  0  2  0  0  0  0  0  0  0  1  0  3  0\n",
      "   0  0  0  0  0  0  0  1  0  0  0  0  0  0  0  0  1  1  0  0  0  1  0  0\n",
      "   0  0  0  0  0  0  0  0  0  0  0  1  0  0  0  0]\n",
      " [80 36 14 13 10  5  2  2  0  2  2  2  2  0  1  3  1  1  2  0  1  0  1  0\n",
      "   0  0  0  0  0  0  0  0  0  0  0  0  0  0  0  1  0  0  0  1  0  0  0  0\n",
      "   0  0  0  0  0  0  0  0  0  0  0  0  0  0  0  0]\n",
      " [35 13 11  7  2  1  3  3  1  1  1  0  1  0  0  1  0  0  0  1  0  0  0  0\n",
      "   0  0  0  1  0  0  0  0  0  0  0  0  1  0  0  0  0  0  0  0  0  0  0  0\n",
      "   0  2  0  0  0  0  0  0  0  0  0  0  0  0  0  1]\n",
      " [14  8  5  1  2  2  2  0  1  2  1  1  0  1  0  0  1  0  0  0  0  0  0  0\n",
      "   2  0  0  0  0  0  0  0  0  0  0  0  0  0  0  0  0  0  0  0  0  1  0  0\n",
      "   0  1  0  0  0  0  0  0  0  0  0  0  0  0  0  0]\n",
      " [41 14  5  6  5  3  3  2  0  1  1  1  0  1  0  0  0  0  0  0  1  0  0  0\n",
      "   2  0  1  0  0  0  0  0  0  0  0  0  0  0  1  0  1  0  0  0  0  0  0  0\n",
      "   0  1  0  0  0  0  0  0  0  0  0  0  0  1  0  0]\n",
      " [18  7  3  0  3  2  0  3  1  2  4  0  0  0  0  0  0  0  0  0  0  0  1  0\n",
      "   0  0  0  0  0  0  0  0  0  0  0  0  0  0  0  1  0  0  0  0  0  0  0  0\n",
      "   0  0  0  0  0  0  0  0  0  0  0  0  0  0  1  0]]\n"
     ]
    }
   ],
   "source": [
    "# Determine the maximum values for creating the matrix\n",
    "max_nearest_mec = number_of_mecs\n",
    "max_request_service_id = number_of_service_Ids\n",
    "\n",
    "# Initialize the matrix with zeros\n",
    "matrix = np.zeros((max_nearest_mec, max_request_service_id), dtype=int)\n",
    "\n",
    "# Populate the matrix based on the DataFrame\n",
    "for _, row in user_df.iterrows():\n",
    "    nearest_mec = row['nearest_mec']\n",
    "    request_service_ids = row['request_service_ids']\n",
    "\n",
    "    try:\n",
    "\n",
    "        for service_id in request_service_ids:\n",
    "            matrix[nearest_mec][service_id] += 1\n",
    "\n",
    "    except:\n",
    "        print(nearest_mec, request_service_ids)\n",
    "\n",
    "print(matrix)"
   ]
  },
  {
   "cell_type": "code",
   "execution_count": 34,
   "metadata": {
    "colab": {
     "base_uri": "https://localhost:8080/"
    },
    "executionInfo": {
     "elapsed": 4,
     "status": "ok",
     "timestamp": 1692111648230,
     "user": {
      "displayName": "배홍섭",
      "userId": "04508707267981176802"
     },
     "user_tz": -540
    },
    "id": "_vNVqeWASPpQ",
    "outputId": "7c68701d-61fb-413c-f4bd-a40cfe21896c"
   },
   "outputs": [
    {
     "data": {
      "text/plain": [
       "array([[1.        , 0.47058824, 0.29411765, 0.17647059, 0.17647059,\n",
       "        0.        , 0.05882353, 0.05882353, 0.05882353, 0.05882353,\n",
       "        0.05882353, 0.        , 0.        , 0.        , 0.        ,\n",
       "        0.05882353, 0.        , 0.        , 0.05882353, 0.        ,\n",
       "        0.        , 0.        , 0.        , 0.05882353, 0.        ,\n",
       "        0.        , 0.        , 0.        , 0.05882353, 0.        ,\n",
       "        0.        , 0.        , 0.        , 0.        , 0.        ,\n",
       "        0.        , 0.        , 0.        , 0.        , 0.        ,\n",
       "        0.        , 0.        , 0.        , 0.        , 0.        ,\n",
       "        0.        , 0.        , 0.        , 0.        , 0.        ,\n",
       "        0.        , 0.        , 0.        , 0.        , 0.        ,\n",
       "        0.        , 0.        , 0.        , 0.        , 0.        ,\n",
       "        0.        , 0.        , 0.        , 0.        ],\n",
       "       [1.        , 0.32432432, 0.08108108, 0.10810811, 0.08108108,\n",
       "        0.05405405, 0.02702703, 0.        , 0.08108108, 0.08108108,\n",
       "        0.02702703, 0.02702703, 0.02702703, 0.        , 0.02702703,\n",
       "        0.        , 0.        , 0.        , 0.        , 0.02702703,\n",
       "        0.02702703, 0.02702703, 0.        , 0.02702703, 0.        ,\n",
       "        0.        , 0.        , 0.        , 0.        , 0.02702703,\n",
       "        0.        , 0.        , 0.        , 0.        , 0.        ,\n",
       "        0.        , 0.        , 0.        , 0.        , 0.02702703,\n",
       "        0.        , 0.        , 0.        , 0.02702703, 0.        ,\n",
       "        0.        , 0.        , 0.        , 0.        , 0.05405405,\n",
       "        0.        , 0.        , 0.        , 0.02702703, 0.        ,\n",
       "        0.        , 0.        , 0.        , 0.        , 0.        ,\n",
       "        0.08108108, 0.02702703, 0.        , 0.        ],\n",
       "       [1.        , 0.19047619, 0.19047619, 0.04761905, 0.        ,\n",
       "        0.        , 0.0952381 , 0.04761905, 0.        , 0.        ,\n",
       "        0.        , 0.        , 0.0952381 , 0.04761905, 0.        ,\n",
       "        0.        , 0.        , 0.        , 0.        , 0.        ,\n",
       "        0.04761905, 0.        , 0.        , 0.        , 0.04761905,\n",
       "        0.        , 0.        , 0.        , 0.        , 0.        ,\n",
       "        0.        , 0.        , 0.        , 0.        , 0.        ,\n",
       "        0.        , 0.        , 0.        , 0.        , 0.        ,\n",
       "        0.        , 0.0952381 , 0.        , 0.        , 0.        ,\n",
       "        0.        , 0.        , 0.        , 0.        , 0.        ,\n",
       "        0.        , 0.        , 0.        , 0.        , 0.        ,\n",
       "        0.        , 0.        , 0.        , 0.        , 0.        ,\n",
       "        0.        , 0.        , 0.        , 0.        ],\n",
       "       [1.        , 0.46666667, 0.23333333, 0.3       , 0.1       ,\n",
       "        0.06666667, 0.06666667, 0.06666667, 0.03333333, 0.03333333,\n",
       "        0.06666667, 0.        , 0.06666667, 0.        , 0.        ,\n",
       "        0.        , 0.        , 0.        , 0.        , 0.        ,\n",
       "        0.03333333, 0.        , 0.1       , 0.        , 0.        ,\n",
       "        0.        , 0.        , 0.        , 0.        , 0.        ,\n",
       "        0.        , 0.03333333, 0.        , 0.        , 0.        ,\n",
       "        0.        , 0.        , 0.        , 0.        , 0.        ,\n",
       "        0.03333333, 0.03333333, 0.        , 0.        , 0.        ,\n",
       "        0.03333333, 0.        , 0.        , 0.        , 0.        ,\n",
       "        0.        , 0.        , 0.        , 0.        , 0.        ,\n",
       "        0.        , 0.        , 0.        , 0.        , 0.03333333,\n",
       "        0.        , 0.        , 0.        , 0.        ],\n",
       "       [1.        , 0.45      , 0.175     , 0.1625    , 0.125     ,\n",
       "        0.0625    , 0.025     , 0.025     , 0.        , 0.025     ,\n",
       "        0.025     , 0.025     , 0.025     , 0.        , 0.0125    ,\n",
       "        0.0375    , 0.0125    , 0.0125    , 0.025     , 0.        ,\n",
       "        0.0125    , 0.        , 0.0125    , 0.        , 0.        ,\n",
       "        0.        , 0.        , 0.        , 0.        , 0.        ,\n",
       "        0.        , 0.        , 0.        , 0.        , 0.        ,\n",
       "        0.        , 0.        , 0.        , 0.        , 0.0125    ,\n",
       "        0.        , 0.        , 0.        , 0.0125    , 0.        ,\n",
       "        0.        , 0.        , 0.        , 0.        , 0.        ,\n",
       "        0.        , 0.        , 0.        , 0.        , 0.        ,\n",
       "        0.        , 0.        , 0.        , 0.        , 0.        ,\n",
       "        0.        , 0.        , 0.        , 0.        ],\n",
       "       [1.        , 0.37142857, 0.31428571, 0.2       , 0.05714286,\n",
       "        0.02857143, 0.08571429, 0.08571429, 0.02857143, 0.02857143,\n",
       "        0.02857143, 0.        , 0.02857143, 0.        , 0.        ,\n",
       "        0.02857143, 0.        , 0.        , 0.        , 0.02857143,\n",
       "        0.        , 0.        , 0.        , 0.        , 0.        ,\n",
       "        0.        , 0.        , 0.02857143, 0.        , 0.        ,\n",
       "        0.        , 0.        , 0.        , 0.        , 0.        ,\n",
       "        0.        , 0.02857143, 0.        , 0.        , 0.        ,\n",
       "        0.        , 0.        , 0.        , 0.        , 0.        ,\n",
       "        0.        , 0.        , 0.        , 0.        , 0.05714286,\n",
       "        0.        , 0.        , 0.        , 0.        , 0.        ,\n",
       "        0.        , 0.        , 0.        , 0.        , 0.        ,\n",
       "        0.        , 0.        , 0.        , 0.02857143],\n",
       "       [1.        , 0.57142857, 0.35714286, 0.07142857, 0.14285714,\n",
       "        0.14285714, 0.14285714, 0.        , 0.07142857, 0.14285714,\n",
       "        0.07142857, 0.07142857, 0.        , 0.07142857, 0.        ,\n",
       "        0.        , 0.07142857, 0.        , 0.        , 0.        ,\n",
       "        0.        , 0.        , 0.        , 0.        , 0.14285714,\n",
       "        0.        , 0.        , 0.        , 0.        , 0.        ,\n",
       "        0.        , 0.        , 0.        , 0.        , 0.        ,\n",
       "        0.        , 0.        , 0.        , 0.        , 0.        ,\n",
       "        0.        , 0.        , 0.        , 0.        , 0.        ,\n",
       "        0.07142857, 0.        , 0.        , 0.        , 0.07142857,\n",
       "        0.        , 0.        , 0.        , 0.        , 0.        ,\n",
       "        0.        , 0.        , 0.        , 0.        , 0.        ,\n",
       "        0.        , 0.        , 0.        , 0.        ],\n",
       "       [1.        , 0.34146341, 0.12195122, 0.14634146, 0.12195122,\n",
       "        0.07317073, 0.07317073, 0.04878049, 0.        , 0.02439024,\n",
       "        0.02439024, 0.02439024, 0.        , 0.02439024, 0.        ,\n",
       "        0.        , 0.        , 0.        , 0.        , 0.        ,\n",
       "        0.02439024, 0.        , 0.        , 0.        , 0.04878049,\n",
       "        0.        , 0.02439024, 0.        , 0.        , 0.        ,\n",
       "        0.        , 0.        , 0.        , 0.        , 0.        ,\n",
       "        0.        , 0.        , 0.        , 0.02439024, 0.        ,\n",
       "        0.02439024, 0.        , 0.        , 0.        , 0.        ,\n",
       "        0.        , 0.        , 0.        , 0.        , 0.02439024,\n",
       "        0.        , 0.        , 0.        , 0.        , 0.        ,\n",
       "        0.        , 0.        , 0.        , 0.        , 0.        ,\n",
       "        0.        , 0.02439024, 0.        , 0.        ],\n",
       "       [1.        , 0.38888889, 0.16666667, 0.        , 0.16666667,\n",
       "        0.11111111, 0.        , 0.16666667, 0.05555556, 0.11111111,\n",
       "        0.22222222, 0.        , 0.        , 0.        , 0.        ,\n",
       "        0.        , 0.        , 0.        , 0.        , 0.        ,\n",
       "        0.        , 0.        , 0.05555556, 0.        , 0.        ,\n",
       "        0.        , 0.        , 0.        , 0.        , 0.        ,\n",
       "        0.        , 0.        , 0.        , 0.        , 0.        ,\n",
       "        0.        , 0.        , 0.        , 0.        , 0.05555556,\n",
       "        0.        , 0.        , 0.        , 0.        , 0.        ,\n",
       "        0.        , 0.        , 0.        , 0.        , 0.        ,\n",
       "        0.        , 0.        , 0.        , 0.        , 0.        ,\n",
       "        0.        , 0.        , 0.        , 0.        , 0.        ,\n",
       "        0.        , 0.        , 0.05555556, 0.        ]])"
      ]
     },
     "execution_count": 34,
     "metadata": {},
     "output_type": "execute_result"
    }
   ],
   "source": [
    "normalized_matrix = matrix / matrix.max(axis=1, keepdims=True)\n",
    "normalized_matrix"
   ]
  },
  {
   "cell_type": "code",
   "execution_count": 35,
   "metadata": {
    "executionInfo": {
     "elapsed": 6,
     "status": "ok",
     "timestamp": 1692111648829,
     "user": {
      "displayName": "배홍섭",
      "userId": "04508707267981176802"
     },
     "user_tz": -540
    },
    "id": "anez_JmJ6ibZ"
   },
   "outputs": [
    {
     "name": "stdout",
     "output_type": "stream",
     "text": [
      "[Errno 17] File exists\n"
     ]
    }
   ],
   "source": [
    "import os\n",
    "\n",
    "save_path = \"./heatmap\"+'_case1_'+str(Y)\n",
    "\n",
    "try:\n",
    "    os.mkdir(save_path)\n",
    "except:\n",
    "    print('[Errno 17] File exists')"
   ]
  },
  {
   "cell_type": "code",
   "execution_count": 36,
   "metadata": {},
   "outputs": [
    {
     "data": {
      "text/plain": [
       "1216"
      ]
     },
     "execution_count": 36,
     "metadata": {},
     "output_type": "execute_result"
    }
   ],
   "source": [
    "import os\n",
    "\n",
    "num=0\n",
    "\n",
    "for filename in os.listdir(save_path):\n",
    "    if filename.lower().endswith('.png'):\n",
    "        num+=1\n",
    "num"
   ]
  },
  {
   "cell_type": "code",
   "execution_count": 37,
   "metadata": {
    "colab": {
     "base_uri": "https://localhost:8080/"
    },
    "executionInfo": {
     "elapsed": 6,
     "status": "ok",
     "timestamp": 1692111648829,
     "user": {
      "displayName": "배홍섭",
      "userId": "04508707267981176802"
     },
     "user_tz": -540
    },
    "id": "Dyoor7hO6qFD",
    "outputId": "a3216942-7412-4e00-c63f-73258cc92d03"
   },
   "outputs": [
    {
     "name": "stdout",
     "output_type": "stream",
     "text": [
      "save image index: 1216\n",
      "save image index: 1217\n",
      "save image index: 1218\n",
      "save image index: 1219\n",
      "save image index: 1220\n",
      "save image index: 1221\n",
      "save image index: 1222\n",
      "save image index: 1223\n",
      "save image index: 1224\n",
      "save image index: 1225\n",
      "save image index: 1226\n",
      "save image index: 1227\n",
      "save image index: 1228\n",
      "save image index: 1229\n",
      "save image index: 1230\n",
      "save image index: 1231\n",
      "save image index: 1232\n",
      "save image index: 1233\n",
      "save image index: 1234\n",
      "save image index: 1235\n",
      "save image index: 1236\n",
      "save image index: 1237\n",
      "save image index: 1238\n",
      "save image index: 1239\n",
      "save image index: 1240\n",
      "save image index: 1241\n",
      "save image index: 1242\n",
      "save image index: 1243\n",
      "save image index: 1244\n",
      "save image index: 1245\n",
      "save image index: 1246\n",
      "save image index: 1247\n",
      "save image index: 1248\n",
      "save image index: 1249\n",
      "save image index: 1250\n",
      "save image index: 1251\n",
      "save image index: 1252\n",
      "save image index: 1253\n",
      "save image index: 1254\n",
      "save image index: 1255\n",
      "save image index: 1256\n",
      "save image index: 1257\n",
      "save image index: 1258\n",
      "save image index: 1259\n",
      "save image index: 1260\n",
      "save image index: 1261\n",
      "save image index: 1262\n",
      "save image index: 1263\n",
      "save image index: 1264\n",
      "save image index: 1265\n",
      "save image index: 1266\n",
      "save image index: 1267\n",
      "save image index: 1268\n",
      "save image index: 1269\n",
      "save image index: 1270\n",
      "save image index: 1271\n",
      "save image index: 1272\n",
      "save image index: 1273\n",
      "save image index: 1274\n",
      "save image index: 1275\n",
      "save image index: 1276\n",
      "save image index: 1277\n",
      "save image index: 1278\n",
      "save image index: 1279\n",
      "save image index: 1280\n",
      "save image index: 1281\n",
      "save image index: 1282\n",
      "save image index: 1283\n",
      "save image index: 1284\n",
      "save image index: 1285\n",
      "save image index: 1286\n",
      "save image index: 1287\n",
      "save image index: 1288\n",
      "save image index: 1289\n",
      "save image index: 1290\n",
      "save image index: 1291\n",
      "save image index: 1292\n",
      "save image index: 1293\n",
      "save image index: 1294\n",
      "save image index: 1295\n",
      "save image index: 1296\n",
      "save image index: 1297\n",
      "save image index: 1298\n",
      "save image index: 1299\n"
     ]
    }
   ],
   "source": [
    "import pandas as pd\n",
    "from PIL import Image\n",
    "\n",
    "import pandas as pd\n",
    "# pd.set_option('display.max_rows', None) ## 모든 행을 출력한다.\n",
    "# pd.set_option('display.max_columns', None) ## 모든 열을 출력한다.\n",
    "\n",
    "\n",
    "end_time = now\n",
    "\n",
    "# Determine the maximum values for creating the matrix\n",
    "max_nearest_mec = number_of_mecs\n",
    "max_request_service_id = number_of_service_Ids\n",
    "\n",
    "while end_time < end_timestamp:\n",
    "    print('save image index:',num)\n",
    "\n",
    "    request_df, end_time = make_request_list(ex_rating_df, end_time, time_interval)\n",
    "\n",
    "    # Create a dictionary to map user IDs to their corresponding service_ids\n",
    "    request_df['userId'] = [i%number_of_sample_users for i in range(len(request_df))]\n",
    "    user_service_mapping = request_df.groupby('userId')['service_id'].apply(list).to_dict()\n",
    "\n",
    "    # Update the 'request_service_ids' column in user_df\n",
    "    user_df['request_service_ids'] = user_df['userId'].map(user_service_mapping)\n",
    "    user_df['request_service_ids'] = user_df['request_service_ids'].fillna(\"\").apply(list)\n",
    "\n",
    "    # Initialize the matrix with zeros\n",
    "    matrix = np.zeros((max_nearest_mec, max_request_service_id), dtype=int)\n",
    "\n",
    "    # Populate the matrix based on the DataFrame\n",
    "    for _, row in user_df.iterrows():\n",
    "        nearest_mec = row['nearest_mec']\n",
    "        request_service_ids = row['request_service_ids']\n",
    "\n",
    "        for service_id in request_service_ids:\n",
    "            matrix[nearest_mec][service_id] += 1\n",
    "\n",
    "    normalized_matrix = matrix / matrix.max(axis=1, keepdims=True)\n",
    "\n",
    "    # Create a PIL image from the array\n",
    "    image = Image.fromarray((255 * normalized_matrix).astype(np.uint8), mode='L')\n",
    "\n",
    "    file_name = '/train'+str(num)+'.png'\n",
    "    image.save(save_path+file_name)\n",
    "    #print(save_path+file_name)\n",
    "\n",
    "    num+=1"
   ]
  },
  {
   "cell_type": "markdown",
   "metadata": {
    "id": "AoKr7vebSv6u"
   },
   "source": [
    "# 생성 확인"
   ]
  },
  {
   "cell_type": "code",
   "execution_count": 38,
   "metadata": {
    "colab": {
     "base_uri": "https://localhost:8080/",
     "height": 34
    },
    "executionInfo": {
     "elapsed": 5,
     "status": "ok",
     "timestamp": 1692111648829,
     "user": {
      "displayName": "배홍섭",
      "userId": "04508707267981176802"
     },
     "user_tz": -540
    },
    "id": "PBc7-wHO_l4N",
    "outputId": "f39358af-a7c9-4eaf-ea8c-f947c11b6a6a"
   },
   "outputs": [
    {
     "data": {
      "image/png": "[encoded data removed]",
      "text/plain": [
       "<PIL.PngImagePlugin.PngImageFile image mode=L size=64x9>"
      ]
     },
     "metadata": {},
     "output_type": "display_data"
    }
   ],
   "source": [
    "from IPython.display import display\n",
    "from PIL import Image\n",
    "\n",
    "# Set up the path to the saved image\n",
    "save_path = \"./heatmap\"+'_case1_'+str(Y)\n",
    "file_name = '/train'+str(num-1)+'.png'\n",
    "\n",
    "\n",
    "# Load the image\n",
    "image = Image.open(save_path+file_name)\n",
    "\n",
    "# Display the image\n",
    "display(image)"
   ]
  },
  {
   "cell_type": "code",
   "execution_count": 39,
   "metadata": {
    "colab": {
     "base_uri": "https://localhost:8080/"
    },
    "executionInfo": {
     "elapsed": 2,
     "status": "ok",
     "timestamp": 1692111712386,
     "user": {
      "displayName": "배홍섭",
      "userId": "04508707267981176802"
     },
     "user_tz": -540
    },
    "id": "wPSRp9I_S3Cg",
    "outputId": "da0cdf83-9294-4a2a-a4f8-a7f2dc4fccb9"
   },
   "outputs": [
    {
     "data": {
      "text/plain": [
       "(9, 64)"
      ]
     },
     "execution_count": 39,
     "metadata": {},
     "output_type": "execute_result"
    }
   ],
   "source": [
    "image_array = np.array(image)\n",
    "image_array.shape"
   ]
  },
  {
   "cell_type": "code",
   "execution_count": null,
   "metadata": {
    "id": "_Sr-wm0Wty9j"
   },
   "outputs": [],
   "source": []
  }
 ],
 "metadata": {
  "colab": {
   "authorship_tag": "ABX9TyOKVfZSne4BigAaG1lbUCWB",
   "mount_file_id": "1F88G_r7uKT-fTVNEHLcutP552ZT9ZTaE",
   "provenance": []
  },
  "kernelspec": {
   "display_name": "Python 3 (ipykernel)",
   "language": "python",
   "name": "python3"
  },
  "language_info": {
   "codemirror_mode": {
    "name": "ipython",
    "version": 3
   },
   "file_extension": ".py",
   "mimetype": "text/x-python",
   "name": "python",
   "nbconvert_exporter": "python",
   "pygments_lexer": "ipython3",
   "version": "3.8.3"
  }
 },
 "nbformat": 4,
 "nbformat_minor": 4
}
