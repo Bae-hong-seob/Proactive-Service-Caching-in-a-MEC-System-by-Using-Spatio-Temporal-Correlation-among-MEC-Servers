{
 "cells": [
  {
   "cell_type": "code",
   "execution_count": 1,
   "metadata": {
    "executionInfo": {
     "elapsed": 3,
     "status": "ok",
     "timestamp": 1692246669753,
     "user": {
      "displayName": "배홍섭",
      "userId": "04508707267981176802"
     },
     "user_tz": -540
    },
    "id": "XpckbcUhozYa"
   },
   "outputs": [],
   "source": [
    "import warnings\n",
    "\n",
    "warnings.filterwarnings( 'ignore' )"
   ]
  },
  {
   "cell_type": "code",
   "execution_count": 2,
   "metadata": {
    "colab": {
     "base_uri": "https://localhost:8080/",
     "height": 424
    },
    "executionInfo": {
     "elapsed": 19841,
     "status": "ok",
     "timestamp": 1692246690072,
     "user": {
      "displayName": "배홍섭",
      "userId": "04508707267981176802"
     },
     "user_tz": -540
    },
    "id": "1zrWalbLpWES",
    "outputId": "10eca2e6-6da9-4282-de7c-b0fc84ba9fdd"
   },
   "outputs": [
    {
     "data": {
      "text/html": [
       "<div>\n",
       "<style scoped>\n",
       "    .dataframe tbody tr th:only-of-type {\n",
       "        vertical-align: middle;\n",
       "    }\n",
       "\n",
       "    .dataframe tbody tr th {\n",
       "        vertical-align: top;\n",
       "    }\n",
       "\n",
       "    .dataframe thead th {\n",
       "        text-align: right;\n",
       "    }\n",
       "</style>\n",
       "<table border=\"1\" class=\"dataframe\">\n",
       "  <thead>\n",
       "    <tr style=\"text-align: right;\">\n",
       "      <th></th>\n",
       "      <th>userId</th>\n",
       "      <th>movieId</th>\n",
       "      <th>rating</th>\n",
       "      <th>timestamp</th>\n",
       "    </tr>\n",
       "  </thead>\n",
       "  <tbody>\n",
       "    <tr>\n",
       "      <th>0</th>\n",
       "      <td>1</td>\n",
       "      <td>296</td>\n",
       "      <td>5.0</td>\n",
       "      <td>1147880044</td>\n",
       "    </tr>\n",
       "    <tr>\n",
       "      <th>1</th>\n",
       "      <td>1</td>\n",
       "      <td>306</td>\n",
       "      <td>3.5</td>\n",
       "      <td>1147868817</td>\n",
       "    </tr>\n",
       "    <tr>\n",
       "      <th>2</th>\n",
       "      <td>1</td>\n",
       "      <td>307</td>\n",
       "      <td>5.0</td>\n",
       "      <td>1147868828</td>\n",
       "    </tr>\n",
       "    <tr>\n",
       "      <th>3</th>\n",
       "      <td>1</td>\n",
       "      <td>665</td>\n",
       "      <td>5.0</td>\n",
       "      <td>1147878820</td>\n",
       "    </tr>\n",
       "    <tr>\n",
       "      <th>4</th>\n",
       "      <td>1</td>\n",
       "      <td>899</td>\n",
       "      <td>3.5</td>\n",
       "      <td>1147868510</td>\n",
       "    </tr>\n",
       "    <tr>\n",
       "      <th>...</th>\n",
       "      <td>...</td>\n",
       "      <td>...</td>\n",
       "      <td>...</td>\n",
       "      <td>...</td>\n",
       "    </tr>\n",
       "    <tr>\n",
       "      <th>25000090</th>\n",
       "      <td>162541</td>\n",
       "      <td>50872</td>\n",
       "      <td>4.5</td>\n",
       "      <td>1240953372</td>\n",
       "    </tr>\n",
       "    <tr>\n",
       "      <th>25000091</th>\n",
       "      <td>162541</td>\n",
       "      <td>55768</td>\n",
       "      <td>2.5</td>\n",
       "      <td>1240951998</td>\n",
       "    </tr>\n",
       "    <tr>\n",
       "      <th>25000092</th>\n",
       "      <td>162541</td>\n",
       "      <td>56176</td>\n",
       "      <td>2.0</td>\n",
       "      <td>1240950697</td>\n",
       "    </tr>\n",
       "    <tr>\n",
       "      <th>25000093</th>\n",
       "      <td>162541</td>\n",
       "      <td>58559</td>\n",
       "      <td>4.0</td>\n",
       "      <td>1240953434</td>\n",
       "    </tr>\n",
       "    <tr>\n",
       "      <th>25000094</th>\n",
       "      <td>162541</td>\n",
       "      <td>63876</td>\n",
       "      <td>5.0</td>\n",
       "      <td>1240952515</td>\n",
       "    </tr>\n",
       "  </tbody>\n",
       "</table>\n",
       "<p>25000095 rows × 4 columns</p>\n",
       "</div>"
      ],
      "text/plain": [
       "          userId  movieId  rating   timestamp\n",
       "0              1      296     5.0  1147880044\n",
       "1              1      306     3.5  1147868817\n",
       "2              1      307     5.0  1147868828\n",
       "3              1      665     5.0  1147878820\n",
       "4              1      899     3.5  1147868510\n",
       "...          ...      ...     ...         ...\n",
       "25000090  162541    50872     4.5  1240953372\n",
       "25000091  162541    55768     2.5  1240951998\n",
       "25000092  162541    56176     2.0  1240950697\n",
       "25000093  162541    58559     4.0  1240953434\n",
       "25000094  162541    63876     5.0  1240952515\n",
       "\n",
       "[25000095 rows x 4 columns]"
      ]
     },
     "execution_count": 2,
     "metadata": {},
     "output_type": "execute_result"
    }
   ],
   "source": [
    "import pandas as pd\n",
    "\n",
    "rating_df = pd.read_csv('C:\\\\content_caching\\\\ml-25m\\\\ratings.csv')\n",
    "rating_df"
   ]
  },
  {
   "cell_type": "code",
   "execution_count": 3,
   "metadata": {
    "colab": {
     "base_uri": "https://localhost:8080/"
    },
    "executionInfo": {
     "elapsed": 5,
     "status": "ok",
     "timestamp": 1692246690073,
     "user": {
      "displayName": "배홍섭",
      "userId": "04508707267981176802"
     },
     "user_tz": -540
    },
    "id": "G6V-V-TLpX6g",
    "outputId": "961606bf-e92a-4436-dc90-c4fdc36a0104"
   },
   "outputs": [
    {
     "name": "stdout",
     "output_type": "stream",
     "text": [
      "min timestamp:  789652009 1995-01-09 20:46:49\n",
      "max timestamp:  1574327703 2019-11-21 18:15:03\n"
     ]
    }
   ],
   "source": [
    "import time\n",
    "import datetime\n",
    "\n",
    "print('min timestamp: ',rating_df['timestamp'].min(), str(datetime.datetime.fromtimestamp(rating_df['timestamp'].min())))\n",
    "print('max timestamp: ',rating_df['timestamp'].max(), str(datetime.datetime.fromtimestamp(rating_df['timestamp'].max())))"
   ]
  },
  {
   "cell_type": "code",
   "execution_count": 4,
   "metadata": {
    "colab": {
     "base_uri": "https://localhost:8080/"
    },
    "executionInfo": {
     "elapsed": 3,
     "status": "ok",
     "timestamp": 1692246690073,
     "user": {
      "displayName": "배홍섭",
      "userId": "04508707267981176802"
     },
     "user_tz": -540
    },
    "id": "hNrz1hKrpZ4R",
    "outputId": "d2e2fd66-a18a-4bd3-fa41-37385ff5e0d3"
   },
   "outputs": [
    {
     "name": "stdout",
     "output_type": "stream",
     "text": [
      "test timestamp:  1546268400\n",
      "test time:  2019-01-01 00:00:00\n"
     ]
    }
   ],
   "source": [
    "standard_year = '2019'\n",
    "standard_time = standard_year+'-01-01 00:00:00' # 2019년 데이터만 사용\n",
    "standard_time = datetime.datetime.strptime(standard_time, '%Y-%m-%d %H:%M:%S')\n",
    "standard_timestamp = int(time.mktime(standard_time.timetuple()))\n",
    "print('test timestamp: ', standard_timestamp)\n",
    "print('test time: ',str(datetime.datetime.fromtimestamp(standard_timestamp)))"
   ]
  },
  {
   "cell_type": "code",
   "execution_count": 5,
   "metadata": {
    "colab": {
     "base_uri": "https://localhost:8080/",
     "height": 424
    },
    "executionInfo": {
     "elapsed": 763,
     "status": "ok",
     "timestamp": 1692246690833,
     "user": {
      "displayName": "배홍섭",
      "userId": "04508707267981176802"
     },
     "user_tz": -540
    },
    "id": "ZWzN6DMtpbgM",
    "outputId": "7af103df-dca1-4826-929d-39e0b51c6fe2"
   },
   "outputs": [
    {
     "data": {
      "text/html": [
       "<div>\n",
       "<style scoped>\n",
       "    .dataframe tbody tr th:only-of-type {\n",
       "        vertical-align: middle;\n",
       "    }\n",
       "\n",
       "    .dataframe tbody tr th {\n",
       "        vertical-align: top;\n",
       "    }\n",
       "\n",
       "    .dataframe thead th {\n",
       "        text-align: right;\n",
       "    }\n",
       "</style>\n",
       "<table border=\"1\" class=\"dataframe\">\n",
       "  <thead>\n",
       "    <tr style=\"text-align: right;\">\n",
       "      <th></th>\n",
       "      <th>userId</th>\n",
       "      <th>movieId</th>\n",
       "      <th>rating</th>\n",
       "      <th>timestamp</th>\n",
       "    </tr>\n",
       "  </thead>\n",
       "  <tbody>\n",
       "    <tr>\n",
       "      <th>0</th>\n",
       "      <td>3</td>\n",
       "      <td>1274</td>\n",
       "      <td>4.5</td>\n",
       "      <td>1566088819</td>\n",
       "    </tr>\n",
       "    <tr>\n",
       "      <th>1</th>\n",
       "      <td>3</td>\n",
       "      <td>1732</td>\n",
       "      <td>4.5</td>\n",
       "      <td>1566091883</td>\n",
       "    </tr>\n",
       "    <tr>\n",
       "      <th>2</th>\n",
       "      <td>3</td>\n",
       "      <td>1960</td>\n",
       "      <td>4.0</td>\n",
       "      <td>1566090766</td>\n",
       "    </tr>\n",
       "    <tr>\n",
       "      <th>3</th>\n",
       "      <td>3</td>\n",
       "      <td>2021</td>\n",
       "      <td>4.0</td>\n",
       "      <td>1566089449</td>\n",
       "    </tr>\n",
       "    <tr>\n",
       "      <th>4</th>\n",
       "      <td>3</td>\n",
       "      <td>3408</td>\n",
       "      <td>3.5</td>\n",
       "      <td>1566089773</td>\n",
       "    </tr>\n",
       "    <tr>\n",
       "      <th>...</th>\n",
       "      <td>...</td>\n",
       "      <td>...</td>\n",
       "      <td>...</td>\n",
       "      <td>...</td>\n",
       "    </tr>\n",
       "    <tr>\n",
       "      <th>1202597</th>\n",
       "      <td>162536</td>\n",
       "      <td>148626</td>\n",
       "      <td>5.0</td>\n",
       "      <td>1572259347</td>\n",
       "    </tr>\n",
       "    <tr>\n",
       "      <th>1202598</th>\n",
       "      <td>162536</td>\n",
       "      <td>148685</td>\n",
       "      <td>5.0</td>\n",
       "      <td>1572257813</td>\n",
       "    </tr>\n",
       "    <tr>\n",
       "      <th>1202599</th>\n",
       "      <td>162536</td>\n",
       "      <td>164179</td>\n",
       "      <td>4.0</td>\n",
       "      <td>1572259078</td>\n",
       "    </tr>\n",
       "    <tr>\n",
       "      <th>1202600</th>\n",
       "      <td>162536</td>\n",
       "      <td>202429</td>\n",
       "      <td>4.0</td>\n",
       "      <td>1572257782</td>\n",
       "    </tr>\n",
       "    <tr>\n",
       "      <th>1202601</th>\n",
       "      <td>162536</td>\n",
       "      <td>204698</td>\n",
       "      <td>4.5</td>\n",
       "      <td>1572257788</td>\n",
       "    </tr>\n",
       "  </tbody>\n",
       "</table>\n",
       "<p>1202602 rows × 4 columns</p>\n",
       "</div>"
      ],
      "text/plain": [
       "         userId  movieId  rating   timestamp\n",
       "0             3     1274     4.5  1566088819\n",
       "1             3     1732     4.5  1566091883\n",
       "2             3     1960     4.0  1566090766\n",
       "3             3     2021     4.0  1566089449\n",
       "4             3     3408     3.5  1566089773\n",
       "...         ...      ...     ...         ...\n",
       "1202597  162536   148626     5.0  1572259347\n",
       "1202598  162536   148685     5.0  1572257813\n",
       "1202599  162536   164179     4.0  1572259078\n",
       "1202600  162536   202429     4.0  1572257782\n",
       "1202601  162536   204698     4.5  1572257788\n",
       "\n",
       "[1202602 rows x 4 columns]"
      ]
     },
     "execution_count": 5,
     "metadata": {},
     "output_type": "execute_result"
    }
   ],
   "source": [
    "after2019_rating_df = rating_df[rating_df['timestamp'] >= standard_timestamp].reset_index(drop=True)\n",
    "after2019_rating_df"
   ]
  },
  {
   "cell_type": "code",
   "execution_count": 6,
   "metadata": {
    "colab": {
     "base_uri": "https://localhost:8080/"
    },
    "executionInfo": {
     "elapsed": 8,
     "status": "ok",
     "timestamp": 1692246690833,
     "user": {
      "displayName": "배홍섭",
      "userId": "04508707267981176802"
     },
     "user_tz": -540
    },
    "id": "A5Xg_Pxqp3Lg",
    "outputId": "29b00516-aff9-41a4-9785-255239e6091c"
   },
   "outputs": [
    {
     "name": "stdout",
     "output_type": "stream",
     "text": [
      "number of  movieIds :  41440\n",
      "number of  userId :  10619\n"
     ]
    }
   ],
   "source": [
    "print('number of  movieIds : ', after2019_rating_df['movieId'].nunique())\n",
    "print('number of  userId : ', after2019_rating_df['userId'].nunique())"
   ]
  },
  {
   "cell_type": "code",
   "execution_count": 7,
   "metadata": {
    "colab": {
     "base_uri": "https://localhost:8080/",
     "height": 459
    },
    "executionInfo": {
     "elapsed": 6,
     "status": "ok",
     "timestamp": 1692246690833,
     "user": {
      "displayName": "배홍섭",
      "userId": "04508707267981176802"
     },
     "user_tz": -540
    },
    "id": "hxxsF_eLqHSG",
    "outputId": "d4ef82e1-ca42-426f-f6d6-9133c709eb99"
   },
   "outputs": [
    {
     "name": "stdout",
     "output_type": "stream",
     "text": [
      "January\n",
      "2019-01-01 00:00:00 1546268400\n",
      "2019-02-01 00:00:00 1548946800\n"
     ]
    },
    {
     "data": {
      "text/html": [
       "<div>\n",
       "<style scoped>\n",
       "    .dataframe tbody tr th:only-of-type {\n",
       "        vertical-align: middle;\n",
       "    }\n",
       "\n",
       "    .dataframe tbody tr th {\n",
       "        vertical-align: top;\n",
       "    }\n",
       "\n",
       "    .dataframe thead th {\n",
       "        text-align: right;\n",
       "    }\n",
       "</style>\n",
       "<table border=\"1\" class=\"dataframe\">\n",
       "  <thead>\n",
       "    <tr style=\"text-align: right;\">\n",
       "      <th></th>\n",
       "      <th>userId</th>\n",
       "      <th>movieId</th>\n",
       "      <th>rating</th>\n",
       "      <th>timestamp</th>\n",
       "    </tr>\n",
       "  </thead>\n",
       "  <tbody>\n",
       "    <tr>\n",
       "      <th>0</th>\n",
       "      <td>104</td>\n",
       "      <td>10</td>\n",
       "      <td>4.0</td>\n",
       "      <td>1547913394</td>\n",
       "    </tr>\n",
       "    <tr>\n",
       "      <th>1</th>\n",
       "      <td>104</td>\n",
       "      <td>150</td>\n",
       "      <td>5.0</td>\n",
       "      <td>1547912847</td>\n",
       "    </tr>\n",
       "    <tr>\n",
       "      <th>2</th>\n",
       "      <td>104</td>\n",
       "      <td>260</td>\n",
       "      <td>5.0</td>\n",
       "      <td>1547912257</td>\n",
       "    </tr>\n",
       "    <tr>\n",
       "      <th>3</th>\n",
       "      <td>104</td>\n",
       "      <td>296</td>\n",
       "      <td>5.0</td>\n",
       "      <td>1547913473</td>\n",
       "    </tr>\n",
       "    <tr>\n",
       "      <th>4</th>\n",
       "      <td>104</td>\n",
       "      <td>356</td>\n",
       "      <td>5.0</td>\n",
       "      <td>1547912739</td>\n",
       "    </tr>\n",
       "    <tr>\n",
       "      <th>...</th>\n",
       "      <td>...</td>\n",
       "      <td>...</td>\n",
       "      <td>...</td>\n",
       "      <td>...</td>\n",
       "    </tr>\n",
       "    <tr>\n",
       "      <th>147759</th>\n",
       "      <td>162534</td>\n",
       "      <td>188207</td>\n",
       "      <td>3.0</td>\n",
       "      <td>1548083452</td>\n",
       "    </tr>\n",
       "    <tr>\n",
       "      <th>147760</th>\n",
       "      <td>162534</td>\n",
       "      <td>193065</td>\n",
       "      <td>3.0</td>\n",
       "      <td>1548083784</td>\n",
       "    </tr>\n",
       "    <tr>\n",
       "      <th>147761</th>\n",
       "      <td>162534</td>\n",
       "      <td>193944</td>\n",
       "      <td>3.0</td>\n",
       "      <td>1548083347</td>\n",
       "    </tr>\n",
       "    <tr>\n",
       "      <th>147762</th>\n",
       "      <td>162534</td>\n",
       "      <td>194400</td>\n",
       "      <td>3.0</td>\n",
       "      <td>1548083397</td>\n",
       "    </tr>\n",
       "    <tr>\n",
       "      <th>147763</th>\n",
       "      <td>162534</td>\n",
       "      <td>195163</td>\n",
       "      <td>2.0</td>\n",
       "      <td>1548083076</td>\n",
       "    </tr>\n",
       "  </tbody>\n",
       "</table>\n",
       "<p>147764 rows × 4 columns</p>\n",
       "</div>"
      ],
      "text/plain": [
       "        userId  movieId  rating   timestamp\n",
       "0          104       10     4.0  1547913394\n",
       "1          104      150     5.0  1547912847\n",
       "2          104      260     5.0  1547912257\n",
       "3          104      296     5.0  1547913473\n",
       "4          104      356     5.0  1547912739\n",
       "...        ...      ...     ...         ...\n",
       "147759  162534   188207     3.0  1548083452\n",
       "147760  162534   193065     3.0  1548083784\n",
       "147761  162534   193944     3.0  1548083347\n",
       "147762  162534   194400     3.0  1548083397\n",
       "147763  162534   195163     2.0  1548083076\n",
       "\n",
       "[147764 rows x 4 columns]"
      ]
     },
     "execution_count": 7,
     "metadata": {},
     "output_type": "execute_result"
    }
   ],
   "source": [
    "standards = {'January':['2019-01-01 00:00:00', '2019-02-01 00:00:00'],\n",
    "             'February':['2019-02-01 00:00:00', '2019-03-01 00:00:00'],\n",
    "             'March':['2019-03-01 00:00:00', '2019-04-01 00:00:00'],\n",
    "             'April':['2019-04-01 00:00:00', '2019-05-01 00:00:00'],\n",
    "             'May':['2019-05-01 00:00:00', '2019-06-01 00:00:00'],\n",
    "             'June':['2019-06-01 00:00:00', '2019-07-01 00:00:00'],\n",
    "             'July':['2019-07-01 00:00:00', '2019-08-01 00:00:00'],\n",
    "             'August':['2019-08-01 00:00:00', '2019-09-01 00:00:00'],\n",
    "             'September':['2019-09-01 00:00:00', '2019-10-01 00:00:00'],\n",
    "             'October':['2019-10-01 00:00:00', '2019-11-01 00:00:00'],\n",
    "             'November':['2019-11-01 00:00:00', '2019-12-01 00:00:00'],\n",
    "             'December':['2019-12-01 00:00:00', '2020-01-01 00:00:00']\n",
    "             }\n",
    "\n",
    "Month = list(standards.keys())[1-1] # 4월 -1 index\n",
    "print(Month)\n",
    "start_time = datetime.datetime.strptime(standards[Month][0], '%Y-%m-%d %H:%M:%S')\n",
    "end_time = datetime.datetime.strptime(standards[Month][1], '%Y-%m-%d %H:%M:%S')\n",
    "\n",
    "start_timestamp = int(time.mktime(start_time.timetuple()))\n",
    "end_timestamp = int(time.mktime(end_time.timetuple()))\n",
    "\n",
    "print(start_time, start_timestamp)\n",
    "print(end_time, end_timestamp)\n",
    "\n",
    "month_rating_df = after2019_rating_df[(after2019_rating_df['timestamp'] < end_timestamp) &\n",
    "                                   (after2019_rating_df['timestamp'] >= start_timestamp)].reset_index(drop=True)\n",
    "\n",
    "# 10월까지 1,216 개 생성. \n",
    "# 11월까지 1,300 개 생성. \n",
    "if Month == 'November': # 12월 데이터는 존재하지 않음. 11월 존재하는 데이터까지만 진행.\n",
    "    end_timestamp = month_rating_df['timestamp'].max()\n",
    "\n",
    "month_rating_df"
   ]
  },
  {
   "cell_type": "code",
   "execution_count": 8,
   "metadata": {},
   "outputs": [],
   "source": [
    "# 해당 월에 데이터가 없다면 종료.\n",
    "import sys\n",
    "\n",
    "if len(month_rating_df) == 0:\n",
    "    sys.exit('해당 월에 데이터 없음')"
   ]
  },
  {
   "cell_type": "code",
   "execution_count": 9,
   "metadata": {
    "colab": {
     "base_uri": "https://localhost:8080/"
    },
    "executionInfo": {
     "elapsed": 5,
     "status": "ok",
     "timestamp": 1692246690833,
     "user": {
      "displayName": "배홍섭",
      "userId": "04508707267981176802"
     },
     "user_tz": -540
    },
    "id": "E5fltXUCqPLx",
    "outputId": "09cafa9b-1cfa-41b1-9927-315f9a09d017"
   },
   "outputs": [
    {
     "name": "stdout",
     "output_type": "stream",
     "text": [
      "number of  movieIds :  13521\n",
      "number of  userId :  3110\n"
     ]
    }
   ],
   "source": [
    "print('number of  movieIds : ', month_rating_df['movieId'].nunique())\n",
    "print('number of  userId : ', month_rating_df['userId'].nunique())"
   ]
  },
  {
   "cell_type": "code",
   "execution_count": 10,
   "metadata": {
    "colab": {
     "base_uri": "https://localhost:8080/"
    },
    "executionInfo": {
     "elapsed": 4,
     "status": "ok",
     "timestamp": 1692246690833,
     "user": {
      "displayName": "배홍섭",
      "userId": "04508707267981176802"
     },
     "user_tz": -540
    },
    "id": "gaHEwlb7LsF2",
    "outputId": "83de6d5a-9b90-41fc-b28d-228536f1293a"
   },
   "outputs": [
    {
     "data": {
      "text/plain": [
       "79132     466\n",
       "318       448\n",
       "2571      447\n",
       "122912    437\n",
       "7153      415\n",
       "         ... \n",
       "180441      1\n",
       "197673      1\n",
       "188569      1\n",
       "167842      1\n",
       "195331      1\n",
       "Name: movieId, Length: 13521, dtype: int64"
      ]
     },
     "execution_count": 10,
     "metadata": {},
     "output_type": "execute_result"
    }
   ],
   "source": [
    "month_rating_df['movieId'].value_counts()"
   ]
  },
  {
   "cell_type": "code",
   "execution_count": 11,
   "metadata": {
    "colab": {
     "base_uri": "https://localhost:8080/",
     "height": 424
    },
    "executionInfo": {
     "elapsed": 397,
     "status": "ok",
     "timestamp": 1692246691226,
     "user": {
      "displayName": "배홍섭",
      "userId": "04508707267981176802"
     },
     "user_tz": -540
    },
    "id": "SH3jD5PTqPur",
    "outputId": "7de7cd9f-f303-4ec3-8fb6-b5a1c5568dec"
   },
   "outputs": [
    {
     "data": {
      "text/html": [
       "<div>\n",
       "<style scoped>\n",
       "    .dataframe tbody tr th:only-of-type {\n",
       "        vertical-align: middle;\n",
       "    }\n",
       "\n",
       "    .dataframe tbody tr th {\n",
       "        vertical-align: top;\n",
       "    }\n",
       "\n",
       "    .dataframe thead th {\n",
       "        text-align: right;\n",
       "    }\n",
       "</style>\n",
       "<table border=\"1\" class=\"dataframe\">\n",
       "  <thead>\n",
       "    <tr style=\"text-align: right;\">\n",
       "      <th></th>\n",
       "      <th>userId</th>\n",
       "      <th>movieId</th>\n",
       "      <th>rating</th>\n",
       "      <th>timestamp</th>\n",
       "      <th>remapped_movieId</th>\n",
       "    </tr>\n",
       "  </thead>\n",
       "  <tbody>\n",
       "    <tr>\n",
       "      <th>0</th>\n",
       "      <td>104</td>\n",
       "      <td>10</td>\n",
       "      <td>4.0</td>\n",
       "      <td>1547913394</td>\n",
       "      <td>787</td>\n",
       "    </tr>\n",
       "    <tr>\n",
       "      <th>1</th>\n",
       "      <td>104</td>\n",
       "      <td>150</td>\n",
       "      <td>5.0</td>\n",
       "      <td>1547912847</td>\n",
       "      <td>363</td>\n",
       "    </tr>\n",
       "    <tr>\n",
       "      <th>2</th>\n",
       "      <td>104</td>\n",
       "      <td>260</td>\n",
       "      <td>5.0</td>\n",
       "      <td>1547912257</td>\n",
       "      <td>13</td>\n",
       "    </tr>\n",
       "    <tr>\n",
       "      <th>3</th>\n",
       "      <td>104</td>\n",
       "      <td>296</td>\n",
       "      <td>5.0</td>\n",
       "      <td>1547913473</td>\n",
       "      <td>12</td>\n",
       "    </tr>\n",
       "    <tr>\n",
       "      <th>4</th>\n",
       "      <td>104</td>\n",
       "      <td>356</td>\n",
       "      <td>5.0</td>\n",
       "      <td>1547912739</td>\n",
       "      <td>10</td>\n",
       "    </tr>\n",
       "    <tr>\n",
       "      <th>...</th>\n",
       "      <td>...</td>\n",
       "      <td>...</td>\n",
       "      <td>...</td>\n",
       "      <td>...</td>\n",
       "      <td>...</td>\n",
       "    </tr>\n",
       "    <tr>\n",
       "      <th>147759</th>\n",
       "      <td>162534</td>\n",
       "      <td>188207</td>\n",
       "      <td>3.0</td>\n",
       "      <td>1548083452</td>\n",
       "      <td>1275</td>\n",
       "    </tr>\n",
       "    <tr>\n",
       "      <th>147760</th>\n",
       "      <td>162534</td>\n",
       "      <td>193065</td>\n",
       "      <td>3.0</td>\n",
       "      <td>1548083784</td>\n",
       "      <td>140</td>\n",
       "    </tr>\n",
       "    <tr>\n",
       "      <th>147761</th>\n",
       "      <td>162534</td>\n",
       "      <td>193944</td>\n",
       "      <td>3.0</td>\n",
       "      <td>1548083347</td>\n",
       "      <td>279</td>\n",
       "    </tr>\n",
       "    <tr>\n",
       "      <th>147762</th>\n",
       "      <td>162534</td>\n",
       "      <td>194400</td>\n",
       "      <td>3.0</td>\n",
       "      <td>1548083397</td>\n",
       "      <td>769</td>\n",
       "    </tr>\n",
       "    <tr>\n",
       "      <th>147763</th>\n",
       "      <td>162534</td>\n",
       "      <td>195163</td>\n",
       "      <td>2.0</td>\n",
       "      <td>1548083076</td>\n",
       "      <td>703</td>\n",
       "    </tr>\n",
       "  </tbody>\n",
       "</table>\n",
       "<p>147764 rows × 5 columns</p>\n",
       "</div>"
      ],
      "text/plain": [
       "        userId  movieId  rating   timestamp  remapped_movieId\n",
       "0          104       10     4.0  1547913394               787\n",
       "1          104      150     5.0  1547912847               363\n",
       "2          104      260     5.0  1547912257                13\n",
       "3          104      296     5.0  1547913473                12\n",
       "4          104      356     5.0  1547912739                10\n",
       "...        ...      ...     ...         ...               ...\n",
       "147759  162534   188207     3.0  1548083452              1275\n",
       "147760  162534   193065     3.0  1548083784               140\n",
       "147761  162534   193944     3.0  1548083347               279\n",
       "147762  162534   194400     3.0  1548083397               769\n",
       "147763  162534   195163     2.0  1548083076               703\n",
       "\n",
       "[147764 rows x 5 columns]"
      ]
     },
     "execution_count": 11,
     "metadata": {},
     "output_type": "execute_result"
    }
   ],
   "source": [
    "import pandas as pd\n",
    "\n",
    "# Assuming your DataFrame is named month_rating_df\n",
    "\n",
    "# Count the frequency of each movieId\n",
    "movie_frequency = month_rating_df['movieId'].value_counts()\n",
    "\n",
    "# Create a dictionary to map original movieIds to their corresponding frequencies\n",
    "movie_frequency_map = movie_frequency.to_dict()\n",
    "\n",
    "# Sort the dictionary by frequency and assign new movieId values starting from 0\n",
    "sorted_movie_ids = sorted(movie_frequency_map, key=lambda x: movie_frequency_map[x], reverse=True)\n",
    "remapped_ids = {movie_id: idx for idx, movie_id in enumerate(sorted_movie_ids)}\n",
    "\n",
    "# Apply the remapping to the DataFrame\n",
    "month_rating_df['remapped_movieId'] = month_rating_df['movieId'].map(remapped_ids)\n",
    "\n",
    "# Now month_rating_df contains a new column 'remapped_movieId' with the remapped values\n",
    "month_rating_df"
   ]
  },
  {
   "cell_type": "code",
   "execution_count": 12,
   "metadata": {
    "colab": {
     "base_uri": "https://localhost:8080/"
    },
    "executionInfo": {
     "elapsed": 7,
     "status": "ok",
     "timestamp": 1692246691226,
     "user": {
      "displayName": "배홍섭",
      "userId": "04508707267981176802"
     },
     "user_tz": -540
    },
    "id": "RsIdi-kA6FGc",
    "outputId": "0aaff557-24f7-42f6-9004-61f3cbb22c70"
   },
   "outputs": [
    {
     "data": {
      "text/plain": [
       "0        466\n",
       "1        448\n",
       "2        447\n",
       "3        437\n",
       "4        415\n",
       "        ... \n",
       "13516      1\n",
       "13517      1\n",
       "13518      1\n",
       "13519      1\n",
       "13520      1\n",
       "Name: remapped_movieId, Length: 13521, dtype: int64"
      ]
     },
     "execution_count": 12,
     "metadata": {},
     "output_type": "execute_result"
    }
   ],
   "source": [
    "month_rating_df['remapped_movieId'].value_counts()"
   ]
  },
  {
   "cell_type": "code",
   "execution_count": 13,
   "metadata": {
    "colab": {
     "base_uri": "https://localhost:8080/"
    },
    "executionInfo": {
     "elapsed": 5,
     "status": "ok",
     "timestamp": 1692246691226,
     "user": {
      "displayName": "배홍섭",
      "userId": "04508707267981176802"
     },
     "user_tz": -540
    },
    "id": "ZTPQaFsYwfJ1",
    "outputId": "1ee61a19-cee6-41b9-a7f2-a98156b6a366"
   },
   "outputs": [
    {
     "data": {
      "text/plain": [
       "0        0.003154\n",
       "1        0.003032\n",
       "2        0.003025\n",
       "3        0.002957\n",
       "4        0.002809\n",
       "           ...   \n",
       "13516    0.000007\n",
       "13517    0.000007\n",
       "13518    0.000007\n",
       "13519    0.000007\n",
       "13520    0.000007\n",
       "Name: remapped_movieId, Length: 13521, dtype: float64"
      ]
     },
     "execution_count": 13,
     "metadata": {},
     "output_type": "execute_result"
    }
   ],
   "source": [
    "movie_id_probabilites = month_rating_df['remapped_movieId'].value_counts() / month_rating_df['remapped_movieId'].value_counts().sum()\n",
    "movie_id_probabilites"
   ]
  },
  {
   "cell_type": "code",
   "execution_count": 14,
   "metadata": {
    "colab": {
     "base_uri": "https://localhost:8080/",
     "height": 564
    },
    "executionInfo": {
     "elapsed": 605,
     "status": "ok",
     "timestamp": 1692246691827,
     "user": {
      "displayName": "배홍섭",
      "userId": "04508707267981176802"
     },
     "user_tz": -540
    },
    "id": "kakx77nuyFKb",
    "outputId": "4500be32-ec33-40fc-babb-8f66dc133353"
   },
   "outputs": [
    {
     "data": {
      "image/png": "[encoded data removed]",
      "text/plain": [
       "<Figure size 1000x600 with 1 Axes>"
      ]
     },
     "metadata": {},
     "output_type": "display_data"
    }
   ],
   "source": [
    "import pandas as pd\n",
    "import matplotlib.pyplot as plt\n",
    "\n",
    "# Visualize the probabilities for the first row\n",
    "plt.figure(figsize=(10, 6))\n",
    "plt.plot(range(len(movie_id_probabilites.values)), movie_id_probabilites.values, marker='o')\n",
    "plt.xlabel('number of request ascending order')\n",
    "plt.ylabel('Probability')\n",
    "plt.title('Probabilities for request frequency')\n",
    "plt.grid(True)\n",
    "plt.show()"
   ]
  },
  {
   "cell_type": "code",
   "execution_count": 15,
   "metadata": {
    "colab": {
     "base_uri": "https://localhost:8080/"
    },
    "executionInfo": {
     "elapsed": 5,
     "status": "ok",
     "timestamp": 1692246691828,
     "user": {
      "displayName": "배홍섭",
      "userId": "04508707267981176802"
     },
     "user_tz": -540
    },
    "id": "wxB6jLT40kRR",
    "outputId": "37ad95c9-b36f-4efb-a7b6-3a56479d79b5"
   },
   "outputs": [
    {
     "data": {
      "text/plain": [
       "1.0"
      ]
     },
     "execution_count": 15,
     "metadata": {},
     "output_type": "execute_result"
    }
   ],
   "source": [
    "movie_id_probabilites.sum()"
   ]
  },
  {
   "cell_type": "code",
   "execution_count": 16,
   "metadata": {
    "colab": {
     "base_uri": "https://localhost:8080/"
    },
    "executionInfo": {
     "elapsed": 817,
     "status": "ok",
     "timestamp": 1692246692642,
     "user": {
      "displayName": "배홍섭",
      "userId": "04508707267981176802"
     },
     "user_tz": -540
    },
    "id": "I9LVa5XLYI0e",
    "outputId": "7153e999-a070-44db-b44a-de168ea793ae"
   },
   "outputs": [
    {
     "name": "stdout",
     "output_type": "stream",
     "text": [
      "top 20% 개수 :  2704\n",
      "top 20% 비율 :  0.8432635824693474\n"
     ]
    }
   ],
   "source": [
    "pareto = int(month_rating_df['movieId'].nunique() * 0.2)\n",
    "print('top 20% 개수 : ', pareto)\n",
    "\n",
    "pareto_probability = sum(movie_id_probabilites.values[:pareto+1])\n",
    "print('top 20% 비율 : ', pareto_probability)"
   ]
  },
  {
   "cell_type": "code",
   "execution_count": 17,
   "metadata": {
    "colab": {
     "base_uri": "https://localhost:8080/"
    },
    "executionInfo": {
     "elapsed": 15,
     "status": "ok",
     "timestamp": 1692246692642,
     "user": {
      "displayName": "배홍섭",
      "userId": "04508707267981176802"
     },
     "user_tz": -540
    },
    "id": "_LI1-L2xgDGg",
    "outputId": "27bb1494-6ce0-4b0f-c8f2-24c77e7d80fb"
   },
   "outputs": [
    {
     "name": "stdout",
     "output_type": "stream",
     "text": [
      "pareto :  12 226\n",
      "rest pareto :  52 209\n"
     ]
    }
   ],
   "source": [
    "number_of_service_Ids = 64\n",
    "\n",
    "Y = 0.2\n",
    "\n",
    "pareto_number_of_service_ids = int(number_of_service_Ids * Y)\n",
    "\n",
    "pareto_number_of_movies_per_service = int(pareto / pareto_number_of_service_ids) + 1\n",
    "print('pareto : ',pareto_number_of_service_ids, pareto_number_of_movies_per_service)\n",
    "\n",
    "not_pareto_number_of_service_ids = number_of_service_Ids - pareto_number_of_service_ids\n",
    "try:\n",
    "    not_pareto_number_of_movies_per_service = int((month_rating_df['movieId'].nunique()-pareto) / not_pareto_number_of_service_ids) + 1\n",
    "except:\n",
    "    not_pareto_number_of_movies_per_service = 0\n",
    "print('rest pareto : ', not_pareto_number_of_service_ids, not_pareto_number_of_movies_per_service)"
   ]
  },
  {
   "cell_type": "code",
   "execution_count": 18,
   "metadata": {
    "executionInfo": {
     "elapsed": 12,
     "status": "ok",
     "timestamp": 1692246692642,
     "user": {
      "displayName": "배홍섭",
      "userId": "04508707267981176802"
     },
     "user_tz": -540
    },
    "id": "TNxLVcnxmUXM"
   },
   "outputs": [],
   "source": [
    "# Create a mapping dictionary for remapped_movieId to service_id\n",
    "mapping_dict = {}\n",
    "\n",
    "pareto = pareto_number_of_service_ids * pareto_number_of_movies_per_service\n",
    "\n",
    "# Map the remapped_movieId values to service_id values\n",
    "current_service_id = 0\n",
    "for value in range(pareto):\n",
    "    if value % pareto_number_of_movies_per_service == 0 and value != 0:\n",
    "        current_service_id += 1\n",
    "    mapping_dict[value] = current_service_id\n",
    "\n",
    "for value in range(pareto, month_rating_df['movieId'].nunique()):\n",
    "    tmp_value = value-pareto\n",
    "    try:\n",
    "        if tmp_value % not_pareto_number_of_movies_per_service == 0:\n",
    "            current_service_id += 1\n",
    "        mapping_dict[value] = current_service_id\n",
    "    except:\n",
    "        break"
   ]
  },
  {
   "cell_type": "markdown",
   "metadata": {
    "id": "83uKWjHD19u0"
   },
   "source": [
    "# 실험단계\n",
    "1. 16개의 MECS로 구성된 시스템에 U개의 user를 random하게 포설 (user의 번호를 포설된 순으로 1부터 U까지 매김)  \n",
    "2. 무비랜즈 파일을 열어 첫번째 timestamp t1가 있는 정보 (i.e., 무비1)를 user 1에 할당 (즉, user 1이 t1에서 무비1선택)\n",
    "3. 선택한무비가위에서나눈128개의서비스ID중어디에속하는지판단하여해당서비스ID의요청횟수1증가시킴\n",
    "4. 이와같은방법으로timeslott동안서비스ID별요청횟수를얻음"
   ]
  },
  {
   "cell_type": "code",
   "execution_count": 19,
   "metadata": {
    "colab": {
     "base_uri": "https://localhost:8080/"
    },
    "executionInfo": {
     "elapsed": 12,
     "status": "ok",
     "timestamp": 1692246692642,
     "user": {
      "displayName": "배홍섭",
      "userId": "04508707267981176802"
     },
     "user_tz": -540
    },
    "id": "BediAsu5zx-w",
    "outputId": "dd19aff5-e108-435a-d652-826860be8da6"
   },
   "outputs": [
    {
     "name": "stdout",
     "output_type": "stream",
     "text": [
      "[(0, 0), (0, 1), (0, 2), (1, 0), (1, 1), (1, 2), (2, 0), (2, 1), (2, 2)]\n",
      "min,  max :  0 2\n",
      "now_positions[1] :  (1.6116385036656, 1.3962787899765)\n"
     ]
    }
   ],
   "source": [
    "import random\n",
    "\n",
    "# Set the seed value\n",
    "random.seed(42)\n",
    "\n",
    "# Example usage\n",
    "number_of_sample_users = 1000\n",
    "number_of_mecs = 9  # Number of sqrt MECs\n",
    "mecs = [(x, y) for x in range(int(number_of_mecs**(1/2))) for y in range(int(number_of_mecs**(1/2)))]\n",
    "\n",
    "print(mecs)\n",
    "\n",
    "mean_velocity = 1.0\n",
    "correlation_time = 0.5\n",
    "\n",
    "# Number of move\n",
    "num_steps = 1\n",
    "\n",
    "now_positions = [(round(random.uniform(0, int(number_of_mecs**(1/2))-1), 13), round(random.uniform(0, int(number_of_mecs**(1/2))-1), 13)) for _ in range(number_of_sample_users)]\n",
    "print('min,  max : ', 0, int(number_of_mecs**(1/2))-1)\n",
    "print('now_positions[1] : ', now_positions[10])"
   ]
  },
  {
   "cell_type": "code",
   "execution_count": 20,
   "metadata": {
    "colab": {
     "base_uri": "https://localhost:8080/"
    },
    "executionInfo": {
     "elapsed": 12,
     "status": "ok",
     "timestamp": 1692246692643,
     "user": {
      "displayName": "배홍섭",
      "userId": "04508707267981176802"
     },
     "user_tz": -540
    },
    "id": "0B2YUOwLiYSd",
    "outputId": "55e3bf95-3ec3-43ca-9af3-209d72d8a3a2"
   },
   "outputs": [
    {
     "data": {
      "text/plain": [
       "9"
      ]
     },
     "execution_count": 20,
     "metadata": {},
     "output_type": "execute_result"
    }
   ],
   "source": [
    "shffled_group_id_per_mec = []\n",
    "\n",
    "import random\n",
    "\n",
    "random.seed(42)\n",
    "\n",
    "# Step 1: Create empty groups\n",
    "groups = [[] for _ in range(64)]\n",
    "\n",
    "# Step 2: Populate groups based on values\n",
    "for key, value in mapping_dict.items():\n",
    "    groups[value].append((key))\n",
    "\n",
    "service_id_per_mec = []\n",
    "for mec in range(number_of_mecs):\n",
    "    random.shuffle(groups)\n",
    "    shuffled_ids = []\n",
    "\n",
    "    tmp_mapping_dict = {}\n",
    "    for service_id, keys in enumerate(groups):\n",
    "        shuffled_ids.append(mapping_dict[keys[0]]) # save original service id\n",
    "\n",
    "        for key in keys:\n",
    "            tmp_mapping_dict[key] = service_id # service id remapping\n",
    "\n",
    "    shffled_group_id_per_mec.append(shuffled_ids)\n",
    "    service_id_per_mec.append(tmp_mapping_dict)\n",
    "\n",
    "len(service_id_per_mec)"
   ]
  },
  {
   "cell_type": "code",
   "execution_count": 21,
   "metadata": {
    "colab": {
     "base_uri": "https://localhost:8080/"
    },
    "executionInfo": {
     "elapsed": 10,
     "status": "ok",
     "timestamp": 1692246692643,
     "user": {
      "displayName": "배홍섭",
      "userId": "04508707267981176802"
     },
     "user_tz": -540
    },
    "id": "Jl0Ou1eiizBh",
    "outputId": "cb7b2e8d-18a2-422d-a4cd-47659ca299d8"
   },
   "outputs": [
    {
     "name": "stdout",
     "output_type": "stream",
     "text": [
      "0 209\n",
      "1 226\n",
      "2 209\n",
      "3 226\n",
      "4 209\n",
      "5 226\n",
      "6 209\n",
      "7 226\n",
      "8 209\n"
     ]
    }
   ],
   "source": [
    "for idx in range(len(service_id_per_mec)):\n",
    "    count = 0\n",
    "\n",
    "    for value in service_id_per_mec[idx].values():\n",
    "        if value == 0:\n",
    "            count+=1\n",
    "\n",
    "    print(idx, count)"
   ]
  },
  {
   "cell_type": "code",
   "execution_count": 22,
   "metadata": {},
   "outputs": [
    {
     "data": {
      "text/html": [
       "<div>\n",
       "<style scoped>\n",
       "    .dataframe tbody tr th:only-of-type {\n",
       "        vertical-align: middle;\n",
       "    }\n",
       "\n",
       "    .dataframe tbody tr th {\n",
       "        vertical-align: top;\n",
       "    }\n",
       "\n",
       "    .dataframe thead th {\n",
       "        text-align: right;\n",
       "    }\n",
       "</style>\n",
       "<table border=\"1\" class=\"dataframe\">\n",
       "  <thead>\n",
       "    <tr style=\"text-align: right;\">\n",
       "      <th></th>\n",
       "      <th>rank 1</th>\n",
       "      <th>rank 2</th>\n",
       "      <th>rank 3</th>\n",
       "      <th>rank 4</th>\n",
       "      <th>rank 5</th>\n",
       "      <th>rank 6</th>\n",
       "      <th>rank 7</th>\n",
       "      <th>rank 8</th>\n",
       "      <th>rank 9</th>\n",
       "      <th>rank 10</th>\n",
       "      <th>...</th>\n",
       "      <th>rank 55</th>\n",
       "      <th>rank 56</th>\n",
       "      <th>rank 57</th>\n",
       "      <th>rank 58</th>\n",
       "      <th>rank 59</th>\n",
       "      <th>rank 60</th>\n",
       "      <th>rank 61</th>\n",
       "      <th>rank 62</th>\n",
       "      <th>rank 63</th>\n",
       "      <th>rank 64</th>\n",
       "    </tr>\n",
       "  </thead>\n",
       "  <tbody>\n",
       "    <tr>\n",
       "      <th>0</th>\n",
       "      <td>23</td>\n",
       "      <td>25</td>\n",
       "      <td>7</td>\n",
       "      <td>22</td>\n",
       "      <td>45</td>\n",
       "      <td>33</td>\n",
       "      <td>19</td>\n",
       "      <td>59</td>\n",
       "      <td>46</td>\n",
       "      <td>9</td>\n",
       "      <td>...</td>\n",
       "      <td>43</td>\n",
       "      <td>6</td>\n",
       "      <td>61</td>\n",
       "      <td>8</td>\n",
       "      <td>63</td>\n",
       "      <td>15</td>\n",
       "      <td>17</td>\n",
       "      <td>47</td>\n",
       "      <td>1</td>\n",
       "      <td>14</td>\n",
       "    </tr>\n",
       "    <tr>\n",
       "      <th>1</th>\n",
       "      <td>9</td>\n",
       "      <td>59</td>\n",
       "      <td>23</td>\n",
       "      <td>5</td>\n",
       "      <td>33</td>\n",
       "      <td>2</td>\n",
       "      <td>44</td>\n",
       "      <td>50</td>\n",
       "      <td>0</td>\n",
       "      <td>36</td>\n",
       "      <td>...</td>\n",
       "      <td>40</td>\n",
       "      <td>48</td>\n",
       "      <td>56</td>\n",
       "      <td>35</td>\n",
       "      <td>14</td>\n",
       "      <td>41</td>\n",
       "      <td>3</td>\n",
       "      <td>19</td>\n",
       "      <td>6</td>\n",
       "      <td>57</td>\n",
       "    </tr>\n",
       "    <tr>\n",
       "      <th>2</th>\n",
       "      <td>23</td>\n",
       "      <td>57</td>\n",
       "      <td>18</td>\n",
       "      <td>19</td>\n",
       "      <td>0</td>\n",
       "      <td>27</td>\n",
       "      <td>29</td>\n",
       "      <td>30</td>\n",
       "      <td>1</td>\n",
       "      <td>10</td>\n",
       "      <td>...</td>\n",
       "      <td>7</td>\n",
       "      <td>33</td>\n",
       "      <td>63</td>\n",
       "      <td>12</td>\n",
       "      <td>8</td>\n",
       "      <td>38</td>\n",
       "      <td>34</td>\n",
       "      <td>21</td>\n",
       "      <td>36</td>\n",
       "      <td>26</td>\n",
       "    </tr>\n",
       "    <tr>\n",
       "      <th>3</th>\n",
       "      <td>9</td>\n",
       "      <td>10</td>\n",
       "      <td>63</td>\n",
       "      <td>38</td>\n",
       "      <td>27</td>\n",
       "      <td>21</td>\n",
       "      <td>29</td>\n",
       "      <td>4</td>\n",
       "      <td>50</td>\n",
       "      <td>56</td>\n",
       "      <td>...</td>\n",
       "      <td>31</td>\n",
       "      <td>41</td>\n",
       "      <td>49</td>\n",
       "      <td>8</td>\n",
       "      <td>26</td>\n",
       "      <td>13</td>\n",
       "      <td>32</td>\n",
       "      <td>28</td>\n",
       "      <td>36</td>\n",
       "      <td>1</td>\n",
       "    </tr>\n",
       "    <tr>\n",
       "      <th>4</th>\n",
       "      <td>44</td>\n",
       "      <td>12</td>\n",
       "      <td>16</td>\n",
       "      <td>22</td>\n",
       "      <td>2</td>\n",
       "      <td>56</td>\n",
       "      <td>42</td>\n",
       "      <td>5</td>\n",
       "      <td>59</td>\n",
       "      <td>39</td>\n",
       "      <td>...</td>\n",
       "      <td>60</td>\n",
       "      <td>51</td>\n",
       "      <td>38</td>\n",
       "      <td>14</td>\n",
       "      <td>1</td>\n",
       "      <td>43</td>\n",
       "      <td>35</td>\n",
       "      <td>33</td>\n",
       "      <td>48</td>\n",
       "      <td>41</td>\n",
       "    </tr>\n",
       "    <tr>\n",
       "      <th>5</th>\n",
       "      <td>3</td>\n",
       "      <td>7</td>\n",
       "      <td>10</td>\n",
       "      <td>18</td>\n",
       "      <td>43</td>\n",
       "      <td>58</td>\n",
       "      <td>62</td>\n",
       "      <td>31</td>\n",
       "      <td>49</td>\n",
       "      <td>61</td>\n",
       "      <td>...</td>\n",
       "      <td>33</td>\n",
       "      <td>11</td>\n",
       "      <td>34</td>\n",
       "      <td>60</td>\n",
       "      <td>15</td>\n",
       "      <td>63</td>\n",
       "      <td>13</td>\n",
       "      <td>48</td>\n",
       "      <td>22</td>\n",
       "      <td>28</td>\n",
       "    </tr>\n",
       "    <tr>\n",
       "      <th>6</th>\n",
       "      <td>53</td>\n",
       "      <td>22</td>\n",
       "      <td>47</td>\n",
       "      <td>16</td>\n",
       "      <td>12</td>\n",
       "      <td>0</td>\n",
       "      <td>42</td>\n",
       "      <td>26</td>\n",
       "      <td>2</td>\n",
       "      <td>35</td>\n",
       "      <td>...</td>\n",
       "      <td>46</td>\n",
       "      <td>13</td>\n",
       "      <td>31</td>\n",
       "      <td>50</td>\n",
       "      <td>49</td>\n",
       "      <td>34</td>\n",
       "      <td>62</td>\n",
       "      <td>55</td>\n",
       "      <td>63</td>\n",
       "      <td>29</td>\n",
       "    </tr>\n",
       "    <tr>\n",
       "      <th>7</th>\n",
       "      <td>3</td>\n",
       "      <td>4</td>\n",
       "      <td>25</td>\n",
       "      <td>16</td>\n",
       "      <td>58</td>\n",
       "      <td>0</td>\n",
       "      <td>43</td>\n",
       "      <td>52</td>\n",
       "      <td>15</td>\n",
       "      <td>8</td>\n",
       "      <td>...</td>\n",
       "      <td>35</td>\n",
       "      <td>21</td>\n",
       "      <td>48</td>\n",
       "      <td>45</td>\n",
       "      <td>13</td>\n",
       "      <td>31</td>\n",
       "      <td>32</td>\n",
       "      <td>28</td>\n",
       "      <td>9</td>\n",
       "      <td>59</td>\n",
       "    </tr>\n",
       "    <tr>\n",
       "      <th>8</th>\n",
       "      <td>24</td>\n",
       "      <td>31</td>\n",
       "      <td>13</td>\n",
       "      <td>35</td>\n",
       "      <td>4</td>\n",
       "      <td>29</td>\n",
       "      <td>60</td>\n",
       "      <td>15</td>\n",
       "      <td>47</td>\n",
       "      <td>34</td>\n",
       "      <td>...</td>\n",
       "      <td>63</td>\n",
       "      <td>3</td>\n",
       "      <td>6</td>\n",
       "      <td>55</td>\n",
       "      <td>25</td>\n",
       "      <td>1</td>\n",
       "      <td>33</td>\n",
       "      <td>56</td>\n",
       "      <td>45</td>\n",
       "      <td>50</td>\n",
       "    </tr>\n",
       "  </tbody>\n",
       "</table>\n",
       "<p>9 rows × 64 columns</p>\n",
       "</div>"
      ],
      "text/plain": [
       "   rank 1  rank 2  rank 3  rank 4  rank 5  rank 6  rank 7  rank 8  rank 9  \\\n",
       "0      23      25       7      22      45      33      19      59      46   \n",
       "1       9      59      23       5      33       2      44      50       0   \n",
       "2      23      57      18      19       0      27      29      30       1   \n",
       "3       9      10      63      38      27      21      29       4      50   \n",
       "4      44      12      16      22       2      56      42       5      59   \n",
       "5       3       7      10      18      43      58      62      31      49   \n",
       "6      53      22      47      16      12       0      42      26       2   \n",
       "7       3       4      25      16      58       0      43      52      15   \n",
       "8      24      31      13      35       4      29      60      15      47   \n",
       "\n",
       "   rank 10  ...  rank 55  rank 56  rank 57  rank 58  rank 59  rank 60  \\\n",
       "0        9  ...       43        6       61        8       63       15   \n",
       "1       36  ...       40       48       56       35       14       41   \n",
       "2       10  ...        7       33       63       12        8       38   \n",
       "3       56  ...       31       41       49        8       26       13   \n",
       "4       39  ...       60       51       38       14        1       43   \n",
       "5       61  ...       33       11       34       60       15       63   \n",
       "6       35  ...       46       13       31       50       49       34   \n",
       "7        8  ...       35       21       48       45       13       31   \n",
       "8       34  ...       63        3        6       55       25        1   \n",
       "\n",
       "   rank 61  rank 62  rank 63  rank 64  \n",
       "0       17       47        1       14  \n",
       "1        3       19        6       57  \n",
       "2       34       21       36       26  \n",
       "3       32       28       36        1  \n",
       "4       35       33       48       41  \n",
       "5       13       48       22       28  \n",
       "6       62       55       63       29  \n",
       "7       32       28        9       59  \n",
       "8       33       56       45       50  \n",
       "\n",
       "[9 rows x 64 columns]"
      ]
     },
     "execution_count": 22,
     "metadata": {},
     "output_type": "execute_result"
    }
   ],
   "source": [
    "import pandas as pd\n",
    "\n",
    "# Create a dictionary to map old column names to new ones\n",
    "column_mapping = {f'rank {i+1}': f'service{i}' for i in range(64)}\n",
    "\n",
    "# Now your dataframe will have columns named 'service0', 'service1', ..., 'service63'\n",
    "rank_of_each_service = pd.DataFrame(shffled_group_id_per_mec, columns=column_mapping)\n",
    "rank_of_each_service"
   ]
  },
  {
   "cell_type": "code",
   "execution_count": 24,
   "metadata": {},
   "outputs": [
    {
     "data": {
      "image/png": "[encoded data removed]",
      "text/plain": [
       "<Figure size 1600x1600 with 1 Axes>"
      ]
     },
     "metadata": {},
     "output_type": "display_data"
    }
   ],
   "source": [
    "import pandas as pd\n",
    "import matplotlib.pyplot as plt\n",
    "\n",
    "# Assuming you have a DataFrame named df with your data\n",
    "\n",
    "# Save the DataFrame as a CSV file\n",
    "rank_of_each_service.to_csv('./Figs/rank_of_each_service.csv', index=False)  # Set index=False to exclude the index column\n",
    "\n",
    "# Load the CSV file using pandas (optional, but useful if you want to check the data)\n",
    "df_from_csv = pd.read_csv('./Figs/rank_of_each_service.csv')\n",
    "\n",
    "# Convert the DataFrame to a numpy array\n",
    "data_matrix = df_from_csv.to_numpy()\n",
    "\n",
    "# Create a figure and axis\n",
    "fig, ax = plt.subplots(figsize=(16, 16))  # Adjust the figure size as needed\n",
    "\n",
    "# Display the data as a table\n",
    "table = ax.table(cellText=data_matrix, loc='center', cellLoc='center', rowLabels=rank_of_each_service.index, colLabels=rank_of_each_service.columns)\n",
    "table.auto_set_font_size(False)\n",
    "table.set_fontsize(10)\n",
    "table.scale(1.5, 1.5)  # Adjust the scaling as needed\n",
    "\n",
    "# Remove axis labels\n",
    "ax.axis('off')\n",
    "\n",
    "# Show the plot (optional)\n",
    "plt.show()\n"
   ]
  },
  {
   "cell_type": "code",
   "execution_count": null,
   "metadata": {
    "colab": {
     "base_uri": "https://localhost:8080/",
     "height": 424
    },
    "executionInfo": {
     "elapsed": 9,
     "status": "ok",
     "timestamp": 1692246692643,
     "user": {
      "displayName": "배홍섭",
      "userId": "04508707267981176802"
     },
     "user_tz": -540
    },
    "id": "pGS6AdaZ2YLD",
    "outputId": "d9eed684-6574-417d-a87a-1fd1c6c86e4c"
   },
   "outputs": [],
   "source": [
    "data = {\n",
    "    'userId' : range(number_of_sample_users),\n",
    "    'x_position' : [now_position[0] for now_position in now_positions],\n",
    "    'y_position' : [now_position[1] for now_position in now_positions]\n",
    "}\n",
    "\n",
    "user_df = pd.DataFrame(data)\n",
    "user_df"
   ]
  },
  {
   "cell_type": "code",
   "execution_count": null,
   "metadata": {
    "colab": {
     "base_uri": "https://localhost:8080/",
     "height": 472
    },
    "executionInfo": {
     "elapsed": 8,
     "status": "ok",
     "timestamp": 1692246692643,
     "user": {
      "displayName": "배홍섭",
      "userId": "04508707267981176802"
     },
     "user_tz": -540
    },
    "id": "NWrV5a053fvF",
    "outputId": "63b6faa9-a884-4904-e4a5-e55e848d7a18"
   },
   "outputs": [],
   "source": [
    "import pandas as pd\n",
    "import matplotlib.pyplot as plt\n",
    "\n",
    "# Replace 'specific_column' and 'other_column' with the actual column names you want to visualize\n",
    "plt.scatter(user_df['x_position'],user_df['y_position'])\n",
    "plt.xlabel('x_position')\n",
    "plt.ylabel('y_position')\n",
    "plt.title('Scatter Plot')\n",
    "plt.show()"
   ]
  },
  {
   "cell_type": "code",
   "execution_count": null,
   "metadata": {
    "colab": {
     "base_uri": "https://localhost:8080/",
     "height": 424
    },
    "executionInfo": {
     "elapsed": 449,
     "status": "ok",
     "timestamp": 1692246693085,
     "user": {
      "displayName": "배홍섭",
      "userId": "04508707267981176802"
     },
     "user_tz": -540
    },
    "id": "SqUuk5RzOKMd",
    "outputId": "f1506265-27ee-4f0d-94b4-e2667d962b57"
   },
   "outputs": [],
   "source": [
    "import numpy as np\n",
    "\n",
    "mecs_array = np.array(mecs)\n",
    "\n",
    "def calculate_nearest_mec(group):\n",
    "    distances = np.sqrt((group['x_position'].values[:, np.newaxis] - mecs_array[:, 0])**2 + (group['y_position'].values[:, np.newaxis] - mecs_array[:, 1])**2)\n",
    "    nearest_mec_index = np.argmin(distances)\n",
    "    group['nearest_mec'] = nearest_mec_index\n",
    "    return group\n",
    "\n",
    "user_df = user_df.groupby('userId').apply(calculate_nearest_mec)\n",
    "user_df"
   ]
  },
  {
   "cell_type": "code",
   "execution_count": null,
   "metadata": {
    "executionInfo": {
     "elapsed": 3,
     "status": "ok",
     "timestamp": 1692246693085,
     "user": {
      "displayName": "배홍섭",
      "userId": "04508707267981176802"
     },
     "user_tz": -540
    },
    "id": "TStKaW3I3lhz"
   },
   "outputs": [],
   "source": [
    "# time_t1, time_interval 모두 timestamp 형태\n",
    "\n",
    "import pandas as pd\n",
    "import numpy as np\n",
    "\n",
    "def make_request_list(dataframe, now, time_interval):\n",
    "    now_datetime = pd.to_datetime(now, unit='s')\n",
    "    end_datetime = now_datetime + pd.Timedelta(hours=time_interval)\n",
    "    request_df = dataframe[(pd.to_datetime(dataframe['timestamp'], unit='s') >= now_datetime) & (pd.to_datetime(dataframe['timestamp'], unit='s') <= end_datetime)]\n",
    "    end_time = int(end_datetime.timestamp())\n",
    "    return request_df, end_time\n",
    "\n",
    "now = start_timestamp  # 현재 시간(timestamp)\n",
    "time_interval = 6  # 시간 간격(hours 단위)\n",
    "ex_rating_df = month_rating_df.copy()"
   ]
  },
  {
   "cell_type": "code",
   "execution_count": null,
   "metadata": {},
   "outputs": [],
   "source": [
    "tmp = ex_rating_df[ex_rating_df['timestamp']>=1552964400]\n",
    "tmp"
   ]
  },
  {
   "cell_type": "code",
   "execution_count": null,
   "metadata": {},
   "outputs": [],
   "source": [
    "tmp = tmp[tmp['timestamp']<=1552964400+(3600*6)]\n",
    "tmp"
   ]
  },
  {
   "cell_type": "code",
   "execution_count": null,
   "metadata": {
    "executionInfo": {
     "elapsed": 281,
     "status": "ok",
     "timestamp": 1692246709650,
     "user": {
      "displayName": "배홍섭",
      "userId": "04508707267981176802"
     },
     "user_tz": -540
    },
    "id": "vI1V0jWntyCE"
   },
   "outputs": [],
   "source": [
    "# Function to map request_movie_ids based on nearest_mec\n",
    "def map_movie_ids_to_service_ids(row):\n",
    "    nearest_mec = row['nearest_mec']\n",
    "    request_movie_ids = row['request_movie_ids']\n",
    "\n",
    "    if 0 <= nearest_mec < len(service_id_per_mec):\n",
    "        service_dict = service_id_per_mec[nearest_mec]\n",
    "\n",
    "        request_service_ids = []\n",
    "        for request_movie_id in request_movie_ids:\n",
    "            try: # Y=1 인 경우 하위 80프로 movieId는 할당되는 service가 없음 -> except문 처리 \n",
    "                request_service_id = service_dict[request_movie_id]\n",
    "                request_service_ids.append(request_service_id)\n",
    "            except:\n",
    "                continue\n",
    "\n",
    "    return request_service_ids"
   ]
  },
  {
   "cell_type": "code",
   "execution_count": null,
   "metadata": {
    "executionInfo": {
     "elapsed": 297,
     "status": "ok",
     "timestamp": 1692246742155,
     "user": {
      "displayName": "배홍섭",
      "userId": "04508707267981176802"
     },
     "user_tz": -540
    },
    "id": "anez_JmJ6ibZ"
   },
   "outputs": [],
   "source": [
    "import os\n",
    "\n",
    "save_path = \"./heatmap\"+'_case2_'+str(Y)\n",
    "\n",
    "try:\n",
    "    os.mkdir(save_path)\n",
    "except:\n",
    "    print('[Errno 17] File exists')"
   ]
  },
  {
   "cell_type": "code",
   "execution_count": null,
   "metadata": {},
   "outputs": [],
   "source": [
    "import os\n",
    "\n",
    "num=0\n",
    "\n",
    "for filename in os.listdir(save_path):\n",
    "    if filename.lower().endswith('.png'):\n",
    "        num+=1\n",
    "num"
   ]
  },
  {
   "cell_type": "code",
   "execution_count": null,
   "metadata": {
    "colab": {
     "base_uri": "https://localhost:8080/"
    },
    "executionInfo": {
     "elapsed": 305,
     "status": "ok",
     "timestamp": 1692246746140,
     "user": {
      "displayName": "배홍섭",
      "userId": "04508707267981176802"
     },
     "user_tz": -540
    },
    "id": "uSF-AIZjhNmX",
    "outputId": "7ee26ebf-adbc-49b1-b74c-de22e0ac81f7"
   },
   "outputs": [],
   "source": [
    "import pandas as pd\n",
    "from PIL import Image\n",
    "\n",
    "import pandas as pd\n",
    "# pd.set_option('display.max_rows', None) ## 모든 행을 출력한다.\n",
    "# pd.set_option('display.max_columns', None) ## 모든 열을 출력한다.\n",
    "\n",
    "\n",
    "end_time = now\n",
    "\n",
    "# Determine the maximum values for creating the matrix\n",
    "max_nearest_mec = number_of_mecs\n",
    "max_request_service_id = number_of_service_Ids\n",
    "\n",
    "while end_time < end_timestamp:\n",
    "    print('save image index:',num)\n",
    "\n",
    "    request_df, end_time = make_request_list(ex_rating_df, end_time, time_interval)\n",
    "\n",
    "    # Create a dictionary to map user IDs to their corresponding service_ids\n",
    "    request_df['userId'] = [i%number_of_sample_users for i in range(len(request_df))]\n",
    "    user_movie_mapping = request_df.groupby('userId')['remapped_movieId'].apply(list).to_dict()\n",
    "\n",
    "    # Update the 'request_service_ids' column in user_df\n",
    "    user_df['request_movie_ids'] = user_df['userId'].map(user_movie_mapping)\n",
    "    user_df['request_movie_ids'] = user_df['request_movie_ids'].fillna(\"\").apply(list)\n",
    "\n",
    "    # Apply the mapping function to the DataFrame\n",
    "    user_df['request_service_ids'] = user_df.apply(map_movie_ids_to_service_ids, axis=1)\n",
    "\n",
    "\n",
    "    # Initialize the matrix with zeros\n",
    "    matrix = np.zeros((max_nearest_mec, max_request_service_id), dtype=int)\n",
    "\n",
    "    # Populate the matrix based on the DataFrame\n",
    "    for _, row in user_df.iterrows():\n",
    "        nearest_mec = row['nearest_mec']\n",
    "        request_service_ids = row['request_service_ids']\n",
    "\n",
    "        for service_id in request_service_ids:\n",
    "            matrix[nearest_mec][service_id] += 1\n",
    "\n",
    "    normalized_matrix = matrix / matrix.max(axis=1, keepdims=True)\n",
    "\n",
    "    # Create a PIL image from the array\n",
    "    image = Image.fromarray((255 * normalized_matrix).astype(np.uint8), mode='L')\n",
    "\n",
    "    file_name = '/train'+str(num)+'.png'\n",
    "    image.save(save_path+file_name)\n",
    "    #print(save_path+file_name)\n",
    "\n",
    "    num+=1"
   ]
  },
  {
   "cell_type": "markdown",
   "metadata": {},
   "source": [
    "# 생성 확인"
   ]
  },
  {
   "cell_type": "code",
   "execution_count": null,
   "metadata": {},
   "outputs": [],
   "source": [
    "from IPython.display import display\n",
    "from PIL import Image\n",
    "\n",
    "# Set up the path to the saved image\n",
    "save_path = \"./heatmap\"+'_case2_'+str(Y)\n",
    "file_name = '/train'+str(num-1)+'.png'\n",
    "\n",
    "\n",
    "# Load the image\n",
    "image = Image.open(save_path+file_name)\n",
    "\n",
    "# Display the image\n",
    "display(image)"
   ]
  },
  {
   "cell_type": "code",
   "execution_count": null,
   "metadata": {},
   "outputs": [],
   "source": [
    "image_array = np.array(image)\n",
    "image_array.shape"
   ]
  },
  {
   "cell_type": "code",
   "execution_count": null,
   "metadata": {
    "id": "XR02UOS-wV13"
   },
   "outputs": [],
   "source": []
  },
  {
   "cell_type": "code",
   "execution_count": null,
   "metadata": {
    "id": "ZBW8himpwzsB"
   },
   "outputs": [],
   "source": []
  }
 ],
 "metadata": {
  "colab": {
   "authorship_tag": "ABX9TyMnB6vpitpMNGbktCMAXJNC",
   "mount_file_id": "1dtuutKaGgEvbxQHVGuNJ4ehQBIep2v9x",
   "provenance": []
  },
  "kernelspec": {
   "display_name": "ConvLSTM",
   "language": "python",
   "name": "convlstm"
  },
  "language_info": {
   "codemirror_mode": {
    "name": "ipython",
    "version": 3
   },
   "file_extension": ".py",
   "mimetype": "text/x-python",
   "name": "python",
   "nbconvert_exporter": "python",
   "pygments_lexer": "ipython3",
   "version": "3.10.12"
  }
 },
 "nbformat": 4,
 "nbformat_minor": 4
}
